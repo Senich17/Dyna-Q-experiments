{
  "nbformat": 4,
  "nbformat_minor": 0,
  "metadata": {
    "colab": {
      "provenance": [],
      "collapsed_sections": [
        "cIitEMv0J4AH"
      ],
      "gpuType": "T4"
    },
    "kernelspec": {
      "name": "python3",
      "display_name": "Python 3"
    },
    "language_info": {
      "name": "python"
    },
    "widgets": {
      "application/vnd.jupyter.widget-state+json": {
        "065907e4041a437bbeae3ac44ea90ffc": {
          "model_module": "@jupyter-widgets/controls",
          "model_name": "VBoxModel",
          "model_module_version": "1.5.0",
          "state": {
            "_dom_classes": [],
            "_model_module": "@jupyter-widgets/controls",
            "_model_module_version": "1.5.0",
            "_model_name": "VBoxModel",
            "_view_count": null,
            "_view_module": "@jupyter-widgets/controls",
            "_view_module_version": "1.5.0",
            "_view_name": "VBoxView",
            "box_style": "",
            "children": [
              "IPY_MODEL_034d297556ae49b6b48005bdb9f2f23b",
              "IPY_MODEL_33c6adfcb55246ce9eff082514ae5993"
            ],
            "layout": "IPY_MODEL_dcb9dae940224c72859662cb7586c879"
          }
        },
        "034d297556ae49b6b48005bdb9f2f23b": {
          "model_module": "@jupyter-widgets/controls",
          "model_name": "LabelModel",
          "model_module_version": "1.5.0",
          "state": {
            "_dom_classes": [],
            "_model_module": "@jupyter-widgets/controls",
            "_model_module_version": "1.5.0",
            "_model_name": "LabelModel",
            "_view_count": null,
            "_view_module": "@jupyter-widgets/controls",
            "_view_module_version": "1.5.0",
            "_view_name": "LabelView",
            "description": "",
            "description_tooltip": null,
            "layout": "IPY_MODEL_77eade4cf9be4491a91b47a4f212f545",
            "placeholder": "​",
            "style": "IPY_MODEL_54b807f6685345e1adb4269637ae12d7",
            "value": "0.013 MB of 0.013 MB uploaded\r"
          }
        },
        "33c6adfcb55246ce9eff082514ae5993": {
          "model_module": "@jupyter-widgets/controls",
          "model_name": "FloatProgressModel",
          "model_module_version": "1.5.0",
          "state": {
            "_dom_classes": [],
            "_model_module": "@jupyter-widgets/controls",
            "_model_module_version": "1.5.0",
            "_model_name": "FloatProgressModel",
            "_view_count": null,
            "_view_module": "@jupyter-widgets/controls",
            "_view_module_version": "1.5.0",
            "_view_name": "ProgressView",
            "bar_style": "",
            "description": "",
            "description_tooltip": null,
            "layout": "IPY_MODEL_f401356888e04b51af382213aa9c098a",
            "max": 1,
            "min": 0,
            "orientation": "horizontal",
            "style": "IPY_MODEL_e0074d9315c54cc9ae0b8023b1c4584c",
            "value": 1
          }
        },
        "dcb9dae940224c72859662cb7586c879": {
          "model_module": "@jupyter-widgets/base",
          "model_name": "LayoutModel",
          "model_module_version": "1.2.0",
          "state": {
            "_model_module": "@jupyter-widgets/base",
            "_model_module_version": "1.2.0",
            "_model_name": "LayoutModel",
            "_view_count": null,
            "_view_module": "@jupyter-widgets/base",
            "_view_module_version": "1.2.0",
            "_view_name": "LayoutView",
            "align_content": null,
            "align_items": null,
            "align_self": null,
            "border": null,
            "bottom": null,
            "display": null,
            "flex": null,
            "flex_flow": null,
            "grid_area": null,
            "grid_auto_columns": null,
            "grid_auto_flow": null,
            "grid_auto_rows": null,
            "grid_column": null,
            "grid_gap": null,
            "grid_row": null,
            "grid_template_areas": null,
            "grid_template_columns": null,
            "grid_template_rows": null,
            "height": null,
            "justify_content": null,
            "justify_items": null,
            "left": null,
            "margin": null,
            "max_height": null,
            "max_width": null,
            "min_height": null,
            "min_width": null,
            "object_fit": null,
            "object_position": null,
            "order": null,
            "overflow": null,
            "overflow_x": null,
            "overflow_y": null,
            "padding": null,
            "right": null,
            "top": null,
            "visibility": null,
            "width": null
          }
        },
        "77eade4cf9be4491a91b47a4f212f545": {
          "model_module": "@jupyter-widgets/base",
          "model_name": "LayoutModel",
          "model_module_version": "1.2.0",
          "state": {
            "_model_module": "@jupyter-widgets/base",
            "_model_module_version": "1.2.0",
            "_model_name": "LayoutModel",
            "_view_count": null,
            "_view_module": "@jupyter-widgets/base",
            "_view_module_version": "1.2.0",
            "_view_name": "LayoutView",
            "align_content": null,
            "align_items": null,
            "align_self": null,
            "border": null,
            "bottom": null,
            "display": null,
            "flex": null,
            "flex_flow": null,
            "grid_area": null,
            "grid_auto_columns": null,
            "grid_auto_flow": null,
            "grid_auto_rows": null,
            "grid_column": null,
            "grid_gap": null,
            "grid_row": null,
            "grid_template_areas": null,
            "grid_template_columns": null,
            "grid_template_rows": null,
            "height": null,
            "justify_content": null,
            "justify_items": null,
            "left": null,
            "margin": null,
            "max_height": null,
            "max_width": null,
            "min_height": null,
            "min_width": null,
            "object_fit": null,
            "object_position": null,
            "order": null,
            "overflow": null,
            "overflow_x": null,
            "overflow_y": null,
            "padding": null,
            "right": null,
            "top": null,
            "visibility": null,
            "width": null
          }
        },
        "54b807f6685345e1adb4269637ae12d7": {
          "model_module": "@jupyter-widgets/controls",
          "model_name": "DescriptionStyleModel",
          "model_module_version": "1.5.0",
          "state": {
            "_model_module": "@jupyter-widgets/controls",
            "_model_module_version": "1.5.0",
            "_model_name": "DescriptionStyleModel",
            "_view_count": null,
            "_view_module": "@jupyter-widgets/base",
            "_view_module_version": "1.2.0",
            "_view_name": "StyleView",
            "description_width": ""
          }
        },
        "f401356888e04b51af382213aa9c098a": {
          "model_module": "@jupyter-widgets/base",
          "model_name": "LayoutModel",
          "model_module_version": "1.2.0",
          "state": {
            "_model_module": "@jupyter-widgets/base",
            "_model_module_version": "1.2.0",
            "_model_name": "LayoutModel",
            "_view_count": null,
            "_view_module": "@jupyter-widgets/base",
            "_view_module_version": "1.2.0",
            "_view_name": "LayoutView",
            "align_content": null,
            "align_items": null,
            "align_self": null,
            "border": null,
            "bottom": null,
            "display": null,
            "flex": null,
            "flex_flow": null,
            "grid_area": null,
            "grid_auto_columns": null,
            "grid_auto_flow": null,
            "grid_auto_rows": null,
            "grid_column": null,
            "grid_gap": null,
            "grid_row": null,
            "grid_template_areas": null,
            "grid_template_columns": null,
            "grid_template_rows": null,
            "height": null,
            "justify_content": null,
            "justify_items": null,
            "left": null,
            "margin": null,
            "max_height": null,
            "max_width": null,
            "min_height": null,
            "min_width": null,
            "object_fit": null,
            "object_position": null,
            "order": null,
            "overflow": null,
            "overflow_x": null,
            "overflow_y": null,
            "padding": null,
            "right": null,
            "top": null,
            "visibility": null,
            "width": null
          }
        },
        "e0074d9315c54cc9ae0b8023b1c4584c": {
          "model_module": "@jupyter-widgets/controls",
          "model_name": "ProgressStyleModel",
          "model_module_version": "1.5.0",
          "state": {
            "_model_module": "@jupyter-widgets/controls",
            "_model_module_version": "1.5.0",
            "_model_name": "ProgressStyleModel",
            "_view_count": null,
            "_view_module": "@jupyter-widgets/base",
            "_view_module_version": "1.2.0",
            "_view_name": "StyleView",
            "bar_color": null,
            "description_width": ""
          }
        },
        "6aa34cd295794b02b63ecac79e8d8e7d": {
          "model_module": "@jupyter-widgets/controls",
          "model_name": "VBoxModel",
          "model_module_version": "1.5.0",
          "state": {
            "_dom_classes": [],
            "_model_module": "@jupyter-widgets/controls",
            "_model_module_version": "1.5.0",
            "_model_name": "VBoxModel",
            "_view_count": null,
            "_view_module": "@jupyter-widgets/controls",
            "_view_module_version": "1.5.0",
            "_view_name": "VBoxView",
            "box_style": "",
            "children": [
              "IPY_MODEL_aafc989df09540db97c942d8718d98c1",
              "IPY_MODEL_70e9401d013f4d2b9b8350db73c42df7"
            ],
            "layout": "IPY_MODEL_b7a46cced6d0414ab72f62c87abd6aa1"
          }
        },
        "aafc989df09540db97c942d8718d98c1": {
          "model_module": "@jupyter-widgets/controls",
          "model_name": "LabelModel",
          "model_module_version": "1.5.0",
          "state": {
            "_dom_classes": [],
            "_model_module": "@jupyter-widgets/controls",
            "_model_module_version": "1.5.0",
            "_model_name": "LabelModel",
            "_view_count": null,
            "_view_module": "@jupyter-widgets/controls",
            "_view_module_version": "1.5.0",
            "_view_name": "LabelView",
            "description": "",
            "description_tooltip": null,
            "layout": "IPY_MODEL_eb579a3ee54b48f793c4f09fe13db7b8",
            "placeholder": "​",
            "style": "IPY_MODEL_95c7a9a2b543454b8b002173323e6c04",
            "value": "0.013 MB of 0.013 MB uploaded\r"
          }
        },
        "70e9401d013f4d2b9b8350db73c42df7": {
          "model_module": "@jupyter-widgets/controls",
          "model_name": "FloatProgressModel",
          "model_module_version": "1.5.0",
          "state": {
            "_dom_classes": [],
            "_model_module": "@jupyter-widgets/controls",
            "_model_module_version": "1.5.0",
            "_model_name": "FloatProgressModel",
            "_view_count": null,
            "_view_module": "@jupyter-widgets/controls",
            "_view_module_version": "1.5.0",
            "_view_name": "ProgressView",
            "bar_style": "",
            "description": "",
            "description_tooltip": null,
            "layout": "IPY_MODEL_4b987fe2b95147fa93ce791e365c05e9",
            "max": 1,
            "min": 0,
            "orientation": "horizontal",
            "style": "IPY_MODEL_5cbee0ce59154a60baca7890c5edeb14",
            "value": 1
          }
        },
        "b7a46cced6d0414ab72f62c87abd6aa1": {
          "model_module": "@jupyter-widgets/base",
          "model_name": "LayoutModel",
          "model_module_version": "1.2.0",
          "state": {
            "_model_module": "@jupyter-widgets/base",
            "_model_module_version": "1.2.0",
            "_model_name": "LayoutModel",
            "_view_count": null,
            "_view_module": "@jupyter-widgets/base",
            "_view_module_version": "1.2.0",
            "_view_name": "LayoutView",
            "align_content": null,
            "align_items": null,
            "align_self": null,
            "border": null,
            "bottom": null,
            "display": null,
            "flex": null,
            "flex_flow": null,
            "grid_area": null,
            "grid_auto_columns": null,
            "grid_auto_flow": null,
            "grid_auto_rows": null,
            "grid_column": null,
            "grid_gap": null,
            "grid_row": null,
            "grid_template_areas": null,
            "grid_template_columns": null,
            "grid_template_rows": null,
            "height": null,
            "justify_content": null,
            "justify_items": null,
            "left": null,
            "margin": null,
            "max_height": null,
            "max_width": null,
            "min_height": null,
            "min_width": null,
            "object_fit": null,
            "object_position": null,
            "order": null,
            "overflow": null,
            "overflow_x": null,
            "overflow_y": null,
            "padding": null,
            "right": null,
            "top": null,
            "visibility": null,
            "width": null
          }
        },
        "eb579a3ee54b48f793c4f09fe13db7b8": {
          "model_module": "@jupyter-widgets/base",
          "model_name": "LayoutModel",
          "model_module_version": "1.2.0",
          "state": {
            "_model_module": "@jupyter-widgets/base",
            "_model_module_version": "1.2.0",
            "_model_name": "LayoutModel",
            "_view_count": null,
            "_view_module": "@jupyter-widgets/base",
            "_view_module_version": "1.2.0",
            "_view_name": "LayoutView",
            "align_content": null,
            "align_items": null,
            "align_self": null,
            "border": null,
            "bottom": null,
            "display": null,
            "flex": null,
            "flex_flow": null,
            "grid_area": null,
            "grid_auto_columns": null,
            "grid_auto_flow": null,
            "grid_auto_rows": null,
            "grid_column": null,
            "grid_gap": null,
            "grid_row": null,
            "grid_template_areas": null,
            "grid_template_columns": null,
            "grid_template_rows": null,
            "height": null,
            "justify_content": null,
            "justify_items": null,
            "left": null,
            "margin": null,
            "max_height": null,
            "max_width": null,
            "min_height": null,
            "min_width": null,
            "object_fit": null,
            "object_position": null,
            "order": null,
            "overflow": null,
            "overflow_x": null,
            "overflow_y": null,
            "padding": null,
            "right": null,
            "top": null,
            "visibility": null,
            "width": null
          }
        },
        "95c7a9a2b543454b8b002173323e6c04": {
          "model_module": "@jupyter-widgets/controls",
          "model_name": "DescriptionStyleModel",
          "model_module_version": "1.5.0",
          "state": {
            "_model_module": "@jupyter-widgets/controls",
            "_model_module_version": "1.5.0",
            "_model_name": "DescriptionStyleModel",
            "_view_count": null,
            "_view_module": "@jupyter-widgets/base",
            "_view_module_version": "1.2.0",
            "_view_name": "StyleView",
            "description_width": ""
          }
        },
        "4b987fe2b95147fa93ce791e365c05e9": {
          "model_module": "@jupyter-widgets/base",
          "model_name": "LayoutModel",
          "model_module_version": "1.2.0",
          "state": {
            "_model_module": "@jupyter-widgets/base",
            "_model_module_version": "1.2.0",
            "_model_name": "LayoutModel",
            "_view_count": null,
            "_view_module": "@jupyter-widgets/base",
            "_view_module_version": "1.2.0",
            "_view_name": "LayoutView",
            "align_content": null,
            "align_items": null,
            "align_self": null,
            "border": null,
            "bottom": null,
            "display": null,
            "flex": null,
            "flex_flow": null,
            "grid_area": null,
            "grid_auto_columns": null,
            "grid_auto_flow": null,
            "grid_auto_rows": null,
            "grid_column": null,
            "grid_gap": null,
            "grid_row": null,
            "grid_template_areas": null,
            "grid_template_columns": null,
            "grid_template_rows": null,
            "height": null,
            "justify_content": null,
            "justify_items": null,
            "left": null,
            "margin": null,
            "max_height": null,
            "max_width": null,
            "min_height": null,
            "min_width": null,
            "object_fit": null,
            "object_position": null,
            "order": null,
            "overflow": null,
            "overflow_x": null,
            "overflow_y": null,
            "padding": null,
            "right": null,
            "top": null,
            "visibility": null,
            "width": null
          }
        },
        "5cbee0ce59154a60baca7890c5edeb14": {
          "model_module": "@jupyter-widgets/controls",
          "model_name": "ProgressStyleModel",
          "model_module_version": "1.5.0",
          "state": {
            "_model_module": "@jupyter-widgets/controls",
            "_model_module_version": "1.5.0",
            "_model_name": "ProgressStyleModel",
            "_view_count": null,
            "_view_module": "@jupyter-widgets/base",
            "_view_module_version": "1.2.0",
            "_view_name": "StyleView",
            "bar_color": null,
            "description_width": ""
          }
        },
        "75754d6ed2d94d238363e435698a2edb": {
          "model_module": "@jupyter-widgets/controls",
          "model_name": "VBoxModel",
          "model_module_version": "1.5.0",
          "state": {
            "_dom_classes": [],
            "_model_module": "@jupyter-widgets/controls",
            "_model_module_version": "1.5.0",
            "_model_name": "VBoxModel",
            "_view_count": null,
            "_view_module": "@jupyter-widgets/controls",
            "_view_module_version": "1.5.0",
            "_view_name": "VBoxView",
            "box_style": "",
            "children": [
              "IPY_MODEL_aa5861efe7134251a50cf20f84a7d4ee",
              "IPY_MODEL_867b5aebe946481c852c461d750afd99"
            ],
            "layout": "IPY_MODEL_81aadceaf1dd416ea066efc0409ecbcf"
          }
        },
        "aa5861efe7134251a50cf20f84a7d4ee": {
          "model_module": "@jupyter-widgets/controls",
          "model_name": "LabelModel",
          "model_module_version": "1.5.0",
          "state": {
            "_dom_classes": [],
            "_model_module": "@jupyter-widgets/controls",
            "_model_module_version": "1.5.0",
            "_model_name": "LabelModel",
            "_view_count": null,
            "_view_module": "@jupyter-widgets/controls",
            "_view_module_version": "1.5.0",
            "_view_name": "LabelView",
            "description": "",
            "description_tooltip": null,
            "layout": "IPY_MODEL_3e56cc00a39542928adf9c2363b6a55c",
            "placeholder": "​",
            "style": "IPY_MODEL_64d281a94b8f4ff1a68350c854ff56a5",
            "value": "0.013 MB of 0.013 MB uploaded\r"
          }
        },
        "867b5aebe946481c852c461d750afd99": {
          "model_module": "@jupyter-widgets/controls",
          "model_name": "FloatProgressModel",
          "model_module_version": "1.5.0",
          "state": {
            "_dom_classes": [],
            "_model_module": "@jupyter-widgets/controls",
            "_model_module_version": "1.5.0",
            "_model_name": "FloatProgressModel",
            "_view_count": null,
            "_view_module": "@jupyter-widgets/controls",
            "_view_module_version": "1.5.0",
            "_view_name": "ProgressView",
            "bar_style": "",
            "description": "",
            "description_tooltip": null,
            "layout": "IPY_MODEL_5ca426db83e344b7972f1222a757e91f",
            "max": 1,
            "min": 0,
            "orientation": "horizontal",
            "style": "IPY_MODEL_2bf84dee407c46b5b39c9bf1f0e7e3d9",
            "value": 1
          }
        },
        "81aadceaf1dd416ea066efc0409ecbcf": {
          "model_module": "@jupyter-widgets/base",
          "model_name": "LayoutModel",
          "model_module_version": "1.2.0",
          "state": {
            "_model_module": "@jupyter-widgets/base",
            "_model_module_version": "1.2.0",
            "_model_name": "LayoutModel",
            "_view_count": null,
            "_view_module": "@jupyter-widgets/base",
            "_view_module_version": "1.2.0",
            "_view_name": "LayoutView",
            "align_content": null,
            "align_items": null,
            "align_self": null,
            "border": null,
            "bottom": null,
            "display": null,
            "flex": null,
            "flex_flow": null,
            "grid_area": null,
            "grid_auto_columns": null,
            "grid_auto_flow": null,
            "grid_auto_rows": null,
            "grid_column": null,
            "grid_gap": null,
            "grid_row": null,
            "grid_template_areas": null,
            "grid_template_columns": null,
            "grid_template_rows": null,
            "height": null,
            "justify_content": null,
            "justify_items": null,
            "left": null,
            "margin": null,
            "max_height": null,
            "max_width": null,
            "min_height": null,
            "min_width": null,
            "object_fit": null,
            "object_position": null,
            "order": null,
            "overflow": null,
            "overflow_x": null,
            "overflow_y": null,
            "padding": null,
            "right": null,
            "top": null,
            "visibility": null,
            "width": null
          }
        },
        "3e56cc00a39542928adf9c2363b6a55c": {
          "model_module": "@jupyter-widgets/base",
          "model_name": "LayoutModel",
          "model_module_version": "1.2.0",
          "state": {
            "_model_module": "@jupyter-widgets/base",
            "_model_module_version": "1.2.0",
            "_model_name": "LayoutModel",
            "_view_count": null,
            "_view_module": "@jupyter-widgets/base",
            "_view_module_version": "1.2.0",
            "_view_name": "LayoutView",
            "align_content": null,
            "align_items": null,
            "align_self": null,
            "border": null,
            "bottom": null,
            "display": null,
            "flex": null,
            "flex_flow": null,
            "grid_area": null,
            "grid_auto_columns": null,
            "grid_auto_flow": null,
            "grid_auto_rows": null,
            "grid_column": null,
            "grid_gap": null,
            "grid_row": null,
            "grid_template_areas": null,
            "grid_template_columns": null,
            "grid_template_rows": null,
            "height": null,
            "justify_content": null,
            "justify_items": null,
            "left": null,
            "margin": null,
            "max_height": null,
            "max_width": null,
            "min_height": null,
            "min_width": null,
            "object_fit": null,
            "object_position": null,
            "order": null,
            "overflow": null,
            "overflow_x": null,
            "overflow_y": null,
            "padding": null,
            "right": null,
            "top": null,
            "visibility": null,
            "width": null
          }
        },
        "64d281a94b8f4ff1a68350c854ff56a5": {
          "model_module": "@jupyter-widgets/controls",
          "model_name": "DescriptionStyleModel",
          "model_module_version": "1.5.0",
          "state": {
            "_model_module": "@jupyter-widgets/controls",
            "_model_module_version": "1.5.0",
            "_model_name": "DescriptionStyleModel",
            "_view_count": null,
            "_view_module": "@jupyter-widgets/base",
            "_view_module_version": "1.2.0",
            "_view_name": "StyleView",
            "description_width": ""
          }
        },
        "5ca426db83e344b7972f1222a757e91f": {
          "model_module": "@jupyter-widgets/base",
          "model_name": "LayoutModel",
          "model_module_version": "1.2.0",
          "state": {
            "_model_module": "@jupyter-widgets/base",
            "_model_module_version": "1.2.0",
            "_model_name": "LayoutModel",
            "_view_count": null,
            "_view_module": "@jupyter-widgets/base",
            "_view_module_version": "1.2.0",
            "_view_name": "LayoutView",
            "align_content": null,
            "align_items": null,
            "align_self": null,
            "border": null,
            "bottom": null,
            "display": null,
            "flex": null,
            "flex_flow": null,
            "grid_area": null,
            "grid_auto_columns": null,
            "grid_auto_flow": null,
            "grid_auto_rows": null,
            "grid_column": null,
            "grid_gap": null,
            "grid_row": null,
            "grid_template_areas": null,
            "grid_template_columns": null,
            "grid_template_rows": null,
            "height": null,
            "justify_content": null,
            "justify_items": null,
            "left": null,
            "margin": null,
            "max_height": null,
            "max_width": null,
            "min_height": null,
            "min_width": null,
            "object_fit": null,
            "object_position": null,
            "order": null,
            "overflow": null,
            "overflow_x": null,
            "overflow_y": null,
            "padding": null,
            "right": null,
            "top": null,
            "visibility": null,
            "width": null
          }
        },
        "2bf84dee407c46b5b39c9bf1f0e7e3d9": {
          "model_module": "@jupyter-widgets/controls",
          "model_name": "ProgressStyleModel",
          "model_module_version": "1.5.0",
          "state": {
            "_model_module": "@jupyter-widgets/controls",
            "_model_module_version": "1.5.0",
            "_model_name": "ProgressStyleModel",
            "_view_count": null,
            "_view_module": "@jupyter-widgets/base",
            "_view_module_version": "1.2.0",
            "_view_name": "StyleView",
            "bar_color": null,
            "description_width": ""
          }
        },
        "f78f03fc3fa94a9ab6874f2cacdbf560": {
          "model_module": "@jupyter-widgets/controls",
          "model_name": "VBoxModel",
          "model_module_version": "1.5.0",
          "state": {
            "_dom_classes": [],
            "_model_module": "@jupyter-widgets/controls",
            "_model_module_version": "1.5.0",
            "_model_name": "VBoxModel",
            "_view_count": null,
            "_view_module": "@jupyter-widgets/controls",
            "_view_module_version": "1.5.0",
            "_view_name": "VBoxView",
            "box_style": "",
            "children": [
              "IPY_MODEL_65bae6c4a57641d9864b1fc146aa83a8",
              "IPY_MODEL_fe3db05b540a47ae8cda009b80ed065e"
            ],
            "layout": "IPY_MODEL_4e6482c4a6644fe0980f504f31026bbb"
          }
        },
        "65bae6c4a57641d9864b1fc146aa83a8": {
          "model_module": "@jupyter-widgets/controls",
          "model_name": "LabelModel",
          "model_module_version": "1.5.0",
          "state": {
            "_dom_classes": [],
            "_model_module": "@jupyter-widgets/controls",
            "_model_module_version": "1.5.0",
            "_model_name": "LabelModel",
            "_view_count": null,
            "_view_module": "@jupyter-widgets/controls",
            "_view_module_version": "1.5.0",
            "_view_name": "LabelView",
            "description": "",
            "description_tooltip": null,
            "layout": "IPY_MODEL_1ceb03de8e174fd792c037312dd019ce",
            "placeholder": "​",
            "style": "IPY_MODEL_e8cadaff7c4a44cc87498daa8dee2891",
            "value": "0.013 MB of 0.013 MB uploaded\r"
          }
        },
        "fe3db05b540a47ae8cda009b80ed065e": {
          "model_module": "@jupyter-widgets/controls",
          "model_name": "FloatProgressModel",
          "model_module_version": "1.5.0",
          "state": {
            "_dom_classes": [],
            "_model_module": "@jupyter-widgets/controls",
            "_model_module_version": "1.5.0",
            "_model_name": "FloatProgressModel",
            "_view_count": null,
            "_view_module": "@jupyter-widgets/controls",
            "_view_module_version": "1.5.0",
            "_view_name": "ProgressView",
            "bar_style": "",
            "description": "",
            "description_tooltip": null,
            "layout": "IPY_MODEL_14a3262fe0b4451993956e8763314489",
            "max": 1,
            "min": 0,
            "orientation": "horizontal",
            "style": "IPY_MODEL_d64816c9412843f3bb273ba30882fe75",
            "value": 1
          }
        },
        "4e6482c4a6644fe0980f504f31026bbb": {
          "model_module": "@jupyter-widgets/base",
          "model_name": "LayoutModel",
          "model_module_version": "1.2.0",
          "state": {
            "_model_module": "@jupyter-widgets/base",
            "_model_module_version": "1.2.0",
            "_model_name": "LayoutModel",
            "_view_count": null,
            "_view_module": "@jupyter-widgets/base",
            "_view_module_version": "1.2.0",
            "_view_name": "LayoutView",
            "align_content": null,
            "align_items": null,
            "align_self": null,
            "border": null,
            "bottom": null,
            "display": null,
            "flex": null,
            "flex_flow": null,
            "grid_area": null,
            "grid_auto_columns": null,
            "grid_auto_flow": null,
            "grid_auto_rows": null,
            "grid_column": null,
            "grid_gap": null,
            "grid_row": null,
            "grid_template_areas": null,
            "grid_template_columns": null,
            "grid_template_rows": null,
            "height": null,
            "justify_content": null,
            "justify_items": null,
            "left": null,
            "margin": null,
            "max_height": null,
            "max_width": null,
            "min_height": null,
            "min_width": null,
            "object_fit": null,
            "object_position": null,
            "order": null,
            "overflow": null,
            "overflow_x": null,
            "overflow_y": null,
            "padding": null,
            "right": null,
            "top": null,
            "visibility": null,
            "width": null
          }
        },
        "1ceb03de8e174fd792c037312dd019ce": {
          "model_module": "@jupyter-widgets/base",
          "model_name": "LayoutModel",
          "model_module_version": "1.2.0",
          "state": {
            "_model_module": "@jupyter-widgets/base",
            "_model_module_version": "1.2.0",
            "_model_name": "LayoutModel",
            "_view_count": null,
            "_view_module": "@jupyter-widgets/base",
            "_view_module_version": "1.2.0",
            "_view_name": "LayoutView",
            "align_content": null,
            "align_items": null,
            "align_self": null,
            "border": null,
            "bottom": null,
            "display": null,
            "flex": null,
            "flex_flow": null,
            "grid_area": null,
            "grid_auto_columns": null,
            "grid_auto_flow": null,
            "grid_auto_rows": null,
            "grid_column": null,
            "grid_gap": null,
            "grid_row": null,
            "grid_template_areas": null,
            "grid_template_columns": null,
            "grid_template_rows": null,
            "height": null,
            "justify_content": null,
            "justify_items": null,
            "left": null,
            "margin": null,
            "max_height": null,
            "max_width": null,
            "min_height": null,
            "min_width": null,
            "object_fit": null,
            "object_position": null,
            "order": null,
            "overflow": null,
            "overflow_x": null,
            "overflow_y": null,
            "padding": null,
            "right": null,
            "top": null,
            "visibility": null,
            "width": null
          }
        },
        "e8cadaff7c4a44cc87498daa8dee2891": {
          "model_module": "@jupyter-widgets/controls",
          "model_name": "DescriptionStyleModel",
          "model_module_version": "1.5.0",
          "state": {
            "_model_module": "@jupyter-widgets/controls",
            "_model_module_version": "1.5.0",
            "_model_name": "DescriptionStyleModel",
            "_view_count": null,
            "_view_module": "@jupyter-widgets/base",
            "_view_module_version": "1.2.0",
            "_view_name": "StyleView",
            "description_width": ""
          }
        },
        "14a3262fe0b4451993956e8763314489": {
          "model_module": "@jupyter-widgets/base",
          "model_name": "LayoutModel",
          "model_module_version": "1.2.0",
          "state": {
            "_model_module": "@jupyter-widgets/base",
            "_model_module_version": "1.2.0",
            "_model_name": "LayoutModel",
            "_view_count": null,
            "_view_module": "@jupyter-widgets/base",
            "_view_module_version": "1.2.0",
            "_view_name": "LayoutView",
            "align_content": null,
            "align_items": null,
            "align_self": null,
            "border": null,
            "bottom": null,
            "display": null,
            "flex": null,
            "flex_flow": null,
            "grid_area": null,
            "grid_auto_columns": null,
            "grid_auto_flow": null,
            "grid_auto_rows": null,
            "grid_column": null,
            "grid_gap": null,
            "grid_row": null,
            "grid_template_areas": null,
            "grid_template_columns": null,
            "grid_template_rows": null,
            "height": null,
            "justify_content": null,
            "justify_items": null,
            "left": null,
            "margin": null,
            "max_height": null,
            "max_width": null,
            "min_height": null,
            "min_width": null,
            "object_fit": null,
            "object_position": null,
            "order": null,
            "overflow": null,
            "overflow_x": null,
            "overflow_y": null,
            "padding": null,
            "right": null,
            "top": null,
            "visibility": null,
            "width": null
          }
        },
        "d64816c9412843f3bb273ba30882fe75": {
          "model_module": "@jupyter-widgets/controls",
          "model_name": "ProgressStyleModel",
          "model_module_version": "1.5.0",
          "state": {
            "_model_module": "@jupyter-widgets/controls",
            "_model_module_version": "1.5.0",
            "_model_name": "ProgressStyleModel",
            "_view_count": null,
            "_view_module": "@jupyter-widgets/base",
            "_view_module_version": "1.2.0",
            "_view_name": "StyleView",
            "bar_color": null,
            "description_width": ""
          }
        },
        "70e0a95dc7af40898f85aa1dc0b5519f": {
          "model_module": "@jupyter-widgets/controls",
          "model_name": "VBoxModel",
          "model_module_version": "1.5.0",
          "state": {
            "_dom_classes": [],
            "_model_module": "@jupyter-widgets/controls",
            "_model_module_version": "1.5.0",
            "_model_name": "VBoxModel",
            "_view_count": null,
            "_view_module": "@jupyter-widgets/controls",
            "_view_module_version": "1.5.0",
            "_view_name": "VBoxView",
            "box_style": "",
            "children": [
              "IPY_MODEL_189066483f534324b79faf6ac4eb7640",
              "IPY_MODEL_913225ec70d84701883a91f36506bd15"
            ],
            "layout": "IPY_MODEL_0ce7721fc6af40d390f2809a6cd59473"
          }
        },
        "189066483f534324b79faf6ac4eb7640": {
          "model_module": "@jupyter-widgets/controls",
          "model_name": "LabelModel",
          "model_module_version": "1.5.0",
          "state": {
            "_dom_classes": [],
            "_model_module": "@jupyter-widgets/controls",
            "_model_module_version": "1.5.0",
            "_model_name": "LabelModel",
            "_view_count": null,
            "_view_module": "@jupyter-widgets/controls",
            "_view_module_version": "1.5.0",
            "_view_name": "LabelView",
            "description": "",
            "description_tooltip": null,
            "layout": "IPY_MODEL_82bcefd8f3804a57b155c3c197939583",
            "placeholder": "​",
            "style": "IPY_MODEL_a7d357b187ea4824b7a63e66cdb74eef",
            "value": "0.013 MB of 0.013 MB uploaded\r"
          }
        },
        "913225ec70d84701883a91f36506bd15": {
          "model_module": "@jupyter-widgets/controls",
          "model_name": "FloatProgressModel",
          "model_module_version": "1.5.0",
          "state": {
            "_dom_classes": [],
            "_model_module": "@jupyter-widgets/controls",
            "_model_module_version": "1.5.0",
            "_model_name": "FloatProgressModel",
            "_view_count": null,
            "_view_module": "@jupyter-widgets/controls",
            "_view_module_version": "1.5.0",
            "_view_name": "ProgressView",
            "bar_style": "",
            "description": "",
            "description_tooltip": null,
            "layout": "IPY_MODEL_0f291b576edd46649308e4ceea346b8d",
            "max": 1,
            "min": 0,
            "orientation": "horizontal",
            "style": "IPY_MODEL_74f752efb77d4a789f1489101b0cc8fc",
            "value": 1
          }
        },
        "0ce7721fc6af40d390f2809a6cd59473": {
          "model_module": "@jupyter-widgets/base",
          "model_name": "LayoutModel",
          "model_module_version": "1.2.0",
          "state": {
            "_model_module": "@jupyter-widgets/base",
            "_model_module_version": "1.2.0",
            "_model_name": "LayoutModel",
            "_view_count": null,
            "_view_module": "@jupyter-widgets/base",
            "_view_module_version": "1.2.0",
            "_view_name": "LayoutView",
            "align_content": null,
            "align_items": null,
            "align_self": null,
            "border": null,
            "bottom": null,
            "display": null,
            "flex": null,
            "flex_flow": null,
            "grid_area": null,
            "grid_auto_columns": null,
            "grid_auto_flow": null,
            "grid_auto_rows": null,
            "grid_column": null,
            "grid_gap": null,
            "grid_row": null,
            "grid_template_areas": null,
            "grid_template_columns": null,
            "grid_template_rows": null,
            "height": null,
            "justify_content": null,
            "justify_items": null,
            "left": null,
            "margin": null,
            "max_height": null,
            "max_width": null,
            "min_height": null,
            "min_width": null,
            "object_fit": null,
            "object_position": null,
            "order": null,
            "overflow": null,
            "overflow_x": null,
            "overflow_y": null,
            "padding": null,
            "right": null,
            "top": null,
            "visibility": null,
            "width": null
          }
        },
        "82bcefd8f3804a57b155c3c197939583": {
          "model_module": "@jupyter-widgets/base",
          "model_name": "LayoutModel",
          "model_module_version": "1.2.0",
          "state": {
            "_model_module": "@jupyter-widgets/base",
            "_model_module_version": "1.2.0",
            "_model_name": "LayoutModel",
            "_view_count": null,
            "_view_module": "@jupyter-widgets/base",
            "_view_module_version": "1.2.0",
            "_view_name": "LayoutView",
            "align_content": null,
            "align_items": null,
            "align_self": null,
            "border": null,
            "bottom": null,
            "display": null,
            "flex": null,
            "flex_flow": null,
            "grid_area": null,
            "grid_auto_columns": null,
            "grid_auto_flow": null,
            "grid_auto_rows": null,
            "grid_column": null,
            "grid_gap": null,
            "grid_row": null,
            "grid_template_areas": null,
            "grid_template_columns": null,
            "grid_template_rows": null,
            "height": null,
            "justify_content": null,
            "justify_items": null,
            "left": null,
            "margin": null,
            "max_height": null,
            "max_width": null,
            "min_height": null,
            "min_width": null,
            "object_fit": null,
            "object_position": null,
            "order": null,
            "overflow": null,
            "overflow_x": null,
            "overflow_y": null,
            "padding": null,
            "right": null,
            "top": null,
            "visibility": null,
            "width": null
          }
        },
        "a7d357b187ea4824b7a63e66cdb74eef": {
          "model_module": "@jupyter-widgets/controls",
          "model_name": "DescriptionStyleModel",
          "model_module_version": "1.5.0",
          "state": {
            "_model_module": "@jupyter-widgets/controls",
            "_model_module_version": "1.5.0",
            "_model_name": "DescriptionStyleModel",
            "_view_count": null,
            "_view_module": "@jupyter-widgets/base",
            "_view_module_version": "1.2.0",
            "_view_name": "StyleView",
            "description_width": ""
          }
        },
        "0f291b576edd46649308e4ceea346b8d": {
          "model_module": "@jupyter-widgets/base",
          "model_name": "LayoutModel",
          "model_module_version": "1.2.0",
          "state": {
            "_model_module": "@jupyter-widgets/base",
            "_model_module_version": "1.2.0",
            "_model_name": "LayoutModel",
            "_view_count": null,
            "_view_module": "@jupyter-widgets/base",
            "_view_module_version": "1.2.0",
            "_view_name": "LayoutView",
            "align_content": null,
            "align_items": null,
            "align_self": null,
            "border": null,
            "bottom": null,
            "display": null,
            "flex": null,
            "flex_flow": null,
            "grid_area": null,
            "grid_auto_columns": null,
            "grid_auto_flow": null,
            "grid_auto_rows": null,
            "grid_column": null,
            "grid_gap": null,
            "grid_row": null,
            "grid_template_areas": null,
            "grid_template_columns": null,
            "grid_template_rows": null,
            "height": null,
            "justify_content": null,
            "justify_items": null,
            "left": null,
            "margin": null,
            "max_height": null,
            "max_width": null,
            "min_height": null,
            "min_width": null,
            "object_fit": null,
            "object_position": null,
            "order": null,
            "overflow": null,
            "overflow_x": null,
            "overflow_y": null,
            "padding": null,
            "right": null,
            "top": null,
            "visibility": null,
            "width": null
          }
        },
        "74f752efb77d4a789f1489101b0cc8fc": {
          "model_module": "@jupyter-widgets/controls",
          "model_name": "ProgressStyleModel",
          "model_module_version": "1.5.0",
          "state": {
            "_model_module": "@jupyter-widgets/controls",
            "_model_module_version": "1.5.0",
            "_model_name": "ProgressStyleModel",
            "_view_count": null,
            "_view_module": "@jupyter-widgets/base",
            "_view_module_version": "1.2.0",
            "_view_name": "StyleView",
            "bar_color": null,
            "description_width": ""
          }
        },
        "43c122760e5d46f689a0875f5075a9fd": {
          "model_module": "@jupyter-widgets/controls",
          "model_name": "VBoxModel",
          "model_module_version": "1.5.0",
          "state": {
            "_dom_classes": [],
            "_model_module": "@jupyter-widgets/controls",
            "_model_module_version": "1.5.0",
            "_model_name": "VBoxModel",
            "_view_count": null,
            "_view_module": "@jupyter-widgets/controls",
            "_view_module_version": "1.5.0",
            "_view_name": "VBoxView",
            "box_style": "",
            "children": [
              "IPY_MODEL_1ee639e5411b47e2a7a4ac490063f9e4",
              "IPY_MODEL_b29cff28bacc4888ac1ca25b63c766b4"
            ],
            "layout": "IPY_MODEL_669625619df44e13ae9b177b5f172a19"
          }
        },
        "1ee639e5411b47e2a7a4ac490063f9e4": {
          "model_module": "@jupyter-widgets/controls",
          "model_name": "LabelModel",
          "model_module_version": "1.5.0",
          "state": {
            "_dom_classes": [],
            "_model_module": "@jupyter-widgets/controls",
            "_model_module_version": "1.5.0",
            "_model_name": "LabelModel",
            "_view_count": null,
            "_view_module": "@jupyter-widgets/controls",
            "_view_module_version": "1.5.0",
            "_view_name": "LabelView",
            "description": "",
            "description_tooltip": null,
            "layout": "IPY_MODEL_27884aa2370a4af182b5ec1022b0f4a0",
            "placeholder": "​",
            "style": "IPY_MODEL_447ceca18e4a44278f45a3df3e7d5eff",
            "value": "0.013 MB of 0.013 MB uploaded\r"
          }
        },
        "b29cff28bacc4888ac1ca25b63c766b4": {
          "model_module": "@jupyter-widgets/controls",
          "model_name": "FloatProgressModel",
          "model_module_version": "1.5.0",
          "state": {
            "_dom_classes": [],
            "_model_module": "@jupyter-widgets/controls",
            "_model_module_version": "1.5.0",
            "_model_name": "FloatProgressModel",
            "_view_count": null,
            "_view_module": "@jupyter-widgets/controls",
            "_view_module_version": "1.5.0",
            "_view_name": "ProgressView",
            "bar_style": "",
            "description": "",
            "description_tooltip": null,
            "layout": "IPY_MODEL_8da137e9323f47c58efd57eb585a9e89",
            "max": 1,
            "min": 0,
            "orientation": "horizontal",
            "style": "IPY_MODEL_bcb168f3477a42f9a1939da755eb21e2",
            "value": 1
          }
        },
        "669625619df44e13ae9b177b5f172a19": {
          "model_module": "@jupyter-widgets/base",
          "model_name": "LayoutModel",
          "model_module_version": "1.2.0",
          "state": {
            "_model_module": "@jupyter-widgets/base",
            "_model_module_version": "1.2.0",
            "_model_name": "LayoutModel",
            "_view_count": null,
            "_view_module": "@jupyter-widgets/base",
            "_view_module_version": "1.2.0",
            "_view_name": "LayoutView",
            "align_content": null,
            "align_items": null,
            "align_self": null,
            "border": null,
            "bottom": null,
            "display": null,
            "flex": null,
            "flex_flow": null,
            "grid_area": null,
            "grid_auto_columns": null,
            "grid_auto_flow": null,
            "grid_auto_rows": null,
            "grid_column": null,
            "grid_gap": null,
            "grid_row": null,
            "grid_template_areas": null,
            "grid_template_columns": null,
            "grid_template_rows": null,
            "height": null,
            "justify_content": null,
            "justify_items": null,
            "left": null,
            "margin": null,
            "max_height": null,
            "max_width": null,
            "min_height": null,
            "min_width": null,
            "object_fit": null,
            "object_position": null,
            "order": null,
            "overflow": null,
            "overflow_x": null,
            "overflow_y": null,
            "padding": null,
            "right": null,
            "top": null,
            "visibility": null,
            "width": null
          }
        },
        "27884aa2370a4af182b5ec1022b0f4a0": {
          "model_module": "@jupyter-widgets/base",
          "model_name": "LayoutModel",
          "model_module_version": "1.2.0",
          "state": {
            "_model_module": "@jupyter-widgets/base",
            "_model_module_version": "1.2.0",
            "_model_name": "LayoutModel",
            "_view_count": null,
            "_view_module": "@jupyter-widgets/base",
            "_view_module_version": "1.2.0",
            "_view_name": "LayoutView",
            "align_content": null,
            "align_items": null,
            "align_self": null,
            "border": null,
            "bottom": null,
            "display": null,
            "flex": null,
            "flex_flow": null,
            "grid_area": null,
            "grid_auto_columns": null,
            "grid_auto_flow": null,
            "grid_auto_rows": null,
            "grid_column": null,
            "grid_gap": null,
            "grid_row": null,
            "grid_template_areas": null,
            "grid_template_columns": null,
            "grid_template_rows": null,
            "height": null,
            "justify_content": null,
            "justify_items": null,
            "left": null,
            "margin": null,
            "max_height": null,
            "max_width": null,
            "min_height": null,
            "min_width": null,
            "object_fit": null,
            "object_position": null,
            "order": null,
            "overflow": null,
            "overflow_x": null,
            "overflow_y": null,
            "padding": null,
            "right": null,
            "top": null,
            "visibility": null,
            "width": null
          }
        },
        "447ceca18e4a44278f45a3df3e7d5eff": {
          "model_module": "@jupyter-widgets/controls",
          "model_name": "DescriptionStyleModel",
          "model_module_version": "1.5.0",
          "state": {
            "_model_module": "@jupyter-widgets/controls",
            "_model_module_version": "1.5.0",
            "_model_name": "DescriptionStyleModel",
            "_view_count": null,
            "_view_module": "@jupyter-widgets/base",
            "_view_module_version": "1.2.0",
            "_view_name": "StyleView",
            "description_width": ""
          }
        },
        "8da137e9323f47c58efd57eb585a9e89": {
          "model_module": "@jupyter-widgets/base",
          "model_name": "LayoutModel",
          "model_module_version": "1.2.0",
          "state": {
            "_model_module": "@jupyter-widgets/base",
            "_model_module_version": "1.2.0",
            "_model_name": "LayoutModel",
            "_view_count": null,
            "_view_module": "@jupyter-widgets/base",
            "_view_module_version": "1.2.0",
            "_view_name": "LayoutView",
            "align_content": null,
            "align_items": null,
            "align_self": null,
            "border": null,
            "bottom": null,
            "display": null,
            "flex": null,
            "flex_flow": null,
            "grid_area": null,
            "grid_auto_columns": null,
            "grid_auto_flow": null,
            "grid_auto_rows": null,
            "grid_column": null,
            "grid_gap": null,
            "grid_row": null,
            "grid_template_areas": null,
            "grid_template_columns": null,
            "grid_template_rows": null,
            "height": null,
            "justify_content": null,
            "justify_items": null,
            "left": null,
            "margin": null,
            "max_height": null,
            "max_width": null,
            "min_height": null,
            "min_width": null,
            "object_fit": null,
            "object_position": null,
            "order": null,
            "overflow": null,
            "overflow_x": null,
            "overflow_y": null,
            "padding": null,
            "right": null,
            "top": null,
            "visibility": null,
            "width": null
          }
        },
        "bcb168f3477a42f9a1939da755eb21e2": {
          "model_module": "@jupyter-widgets/controls",
          "model_name": "ProgressStyleModel",
          "model_module_version": "1.5.0",
          "state": {
            "_model_module": "@jupyter-widgets/controls",
            "_model_module_version": "1.5.0",
            "_model_name": "ProgressStyleModel",
            "_view_count": null,
            "_view_module": "@jupyter-widgets/base",
            "_view_module_version": "1.2.0",
            "_view_name": "StyleView",
            "bar_color": null,
            "description_width": ""
          }
        },
        "f810f7c1350a49da8ef366ef531228ff": {
          "model_module": "@jupyter-widgets/controls",
          "model_name": "VBoxModel",
          "model_module_version": "1.5.0",
          "state": {
            "_dom_classes": [],
            "_model_module": "@jupyter-widgets/controls",
            "_model_module_version": "1.5.0",
            "_model_name": "VBoxModel",
            "_view_count": null,
            "_view_module": "@jupyter-widgets/controls",
            "_view_module_version": "1.5.0",
            "_view_name": "VBoxView",
            "box_style": "",
            "children": [
              "IPY_MODEL_f2072a72299a46e0b2e5b780dbab0010",
              "IPY_MODEL_5d001295f8a54a069216bd7207629e46"
            ],
            "layout": "IPY_MODEL_63d7dc79955d4a94bc936bc19afcd239"
          }
        },
        "f2072a72299a46e0b2e5b780dbab0010": {
          "model_module": "@jupyter-widgets/controls",
          "model_name": "LabelModel",
          "model_module_version": "1.5.0",
          "state": {
            "_dom_classes": [],
            "_model_module": "@jupyter-widgets/controls",
            "_model_module_version": "1.5.0",
            "_model_name": "LabelModel",
            "_view_count": null,
            "_view_module": "@jupyter-widgets/controls",
            "_view_module_version": "1.5.0",
            "_view_name": "LabelView",
            "description": "",
            "description_tooltip": null,
            "layout": "IPY_MODEL_c1b905e3c7344a13a68fa4247d8eb82d",
            "placeholder": "​",
            "style": "IPY_MODEL_41ab233cee254ce783b80d5c98d1740a",
            "value": "0.013 MB of 0.013 MB uploaded\r"
          }
        },
        "5d001295f8a54a069216bd7207629e46": {
          "model_module": "@jupyter-widgets/controls",
          "model_name": "FloatProgressModel",
          "model_module_version": "1.5.0",
          "state": {
            "_dom_classes": [],
            "_model_module": "@jupyter-widgets/controls",
            "_model_module_version": "1.5.0",
            "_model_name": "FloatProgressModel",
            "_view_count": null,
            "_view_module": "@jupyter-widgets/controls",
            "_view_module_version": "1.5.0",
            "_view_name": "ProgressView",
            "bar_style": "",
            "description": "",
            "description_tooltip": null,
            "layout": "IPY_MODEL_49cefabb522e4cbf8967e4fb484408bd",
            "max": 1,
            "min": 0,
            "orientation": "horizontal",
            "style": "IPY_MODEL_a71f1ff5736544628c147a1f84264f8a",
            "value": 1
          }
        },
        "63d7dc79955d4a94bc936bc19afcd239": {
          "model_module": "@jupyter-widgets/base",
          "model_name": "LayoutModel",
          "model_module_version": "1.2.0",
          "state": {
            "_model_module": "@jupyter-widgets/base",
            "_model_module_version": "1.2.0",
            "_model_name": "LayoutModel",
            "_view_count": null,
            "_view_module": "@jupyter-widgets/base",
            "_view_module_version": "1.2.0",
            "_view_name": "LayoutView",
            "align_content": null,
            "align_items": null,
            "align_self": null,
            "border": null,
            "bottom": null,
            "display": null,
            "flex": null,
            "flex_flow": null,
            "grid_area": null,
            "grid_auto_columns": null,
            "grid_auto_flow": null,
            "grid_auto_rows": null,
            "grid_column": null,
            "grid_gap": null,
            "grid_row": null,
            "grid_template_areas": null,
            "grid_template_columns": null,
            "grid_template_rows": null,
            "height": null,
            "justify_content": null,
            "justify_items": null,
            "left": null,
            "margin": null,
            "max_height": null,
            "max_width": null,
            "min_height": null,
            "min_width": null,
            "object_fit": null,
            "object_position": null,
            "order": null,
            "overflow": null,
            "overflow_x": null,
            "overflow_y": null,
            "padding": null,
            "right": null,
            "top": null,
            "visibility": null,
            "width": null
          }
        },
        "c1b905e3c7344a13a68fa4247d8eb82d": {
          "model_module": "@jupyter-widgets/base",
          "model_name": "LayoutModel",
          "model_module_version": "1.2.0",
          "state": {
            "_model_module": "@jupyter-widgets/base",
            "_model_module_version": "1.2.0",
            "_model_name": "LayoutModel",
            "_view_count": null,
            "_view_module": "@jupyter-widgets/base",
            "_view_module_version": "1.2.0",
            "_view_name": "LayoutView",
            "align_content": null,
            "align_items": null,
            "align_self": null,
            "border": null,
            "bottom": null,
            "display": null,
            "flex": null,
            "flex_flow": null,
            "grid_area": null,
            "grid_auto_columns": null,
            "grid_auto_flow": null,
            "grid_auto_rows": null,
            "grid_column": null,
            "grid_gap": null,
            "grid_row": null,
            "grid_template_areas": null,
            "grid_template_columns": null,
            "grid_template_rows": null,
            "height": null,
            "justify_content": null,
            "justify_items": null,
            "left": null,
            "margin": null,
            "max_height": null,
            "max_width": null,
            "min_height": null,
            "min_width": null,
            "object_fit": null,
            "object_position": null,
            "order": null,
            "overflow": null,
            "overflow_x": null,
            "overflow_y": null,
            "padding": null,
            "right": null,
            "top": null,
            "visibility": null,
            "width": null
          }
        },
        "41ab233cee254ce783b80d5c98d1740a": {
          "model_module": "@jupyter-widgets/controls",
          "model_name": "DescriptionStyleModel",
          "model_module_version": "1.5.0",
          "state": {
            "_model_module": "@jupyter-widgets/controls",
            "_model_module_version": "1.5.0",
            "_model_name": "DescriptionStyleModel",
            "_view_count": null,
            "_view_module": "@jupyter-widgets/base",
            "_view_module_version": "1.2.0",
            "_view_name": "StyleView",
            "description_width": ""
          }
        },
        "49cefabb522e4cbf8967e4fb484408bd": {
          "model_module": "@jupyter-widgets/base",
          "model_name": "LayoutModel",
          "model_module_version": "1.2.0",
          "state": {
            "_model_module": "@jupyter-widgets/base",
            "_model_module_version": "1.2.0",
            "_model_name": "LayoutModel",
            "_view_count": null,
            "_view_module": "@jupyter-widgets/base",
            "_view_module_version": "1.2.0",
            "_view_name": "LayoutView",
            "align_content": null,
            "align_items": null,
            "align_self": null,
            "border": null,
            "bottom": null,
            "display": null,
            "flex": null,
            "flex_flow": null,
            "grid_area": null,
            "grid_auto_columns": null,
            "grid_auto_flow": null,
            "grid_auto_rows": null,
            "grid_column": null,
            "grid_gap": null,
            "grid_row": null,
            "grid_template_areas": null,
            "grid_template_columns": null,
            "grid_template_rows": null,
            "height": null,
            "justify_content": null,
            "justify_items": null,
            "left": null,
            "margin": null,
            "max_height": null,
            "max_width": null,
            "min_height": null,
            "min_width": null,
            "object_fit": null,
            "object_position": null,
            "order": null,
            "overflow": null,
            "overflow_x": null,
            "overflow_y": null,
            "padding": null,
            "right": null,
            "top": null,
            "visibility": null,
            "width": null
          }
        },
        "a71f1ff5736544628c147a1f84264f8a": {
          "model_module": "@jupyter-widgets/controls",
          "model_name": "ProgressStyleModel",
          "model_module_version": "1.5.0",
          "state": {
            "_model_module": "@jupyter-widgets/controls",
            "_model_module_version": "1.5.0",
            "_model_name": "ProgressStyleModel",
            "_view_count": null,
            "_view_module": "@jupyter-widgets/base",
            "_view_module_version": "1.2.0",
            "_view_name": "StyleView",
            "bar_color": null,
            "description_width": ""
          }
        },
        "7af279ebfb0a4109a039fe4f348b34fd": {
          "model_module": "@jupyter-widgets/controls",
          "model_name": "VBoxModel",
          "model_module_version": "1.5.0",
          "state": {
            "_dom_classes": [],
            "_model_module": "@jupyter-widgets/controls",
            "_model_module_version": "1.5.0",
            "_model_name": "VBoxModel",
            "_view_count": null,
            "_view_module": "@jupyter-widgets/controls",
            "_view_module_version": "1.5.0",
            "_view_name": "VBoxView",
            "box_style": "",
            "children": [
              "IPY_MODEL_f1fdb7b6ad78483ba3e9301160d3d801",
              "IPY_MODEL_0ee177f72cc94bc3a26d1b566631fb35"
            ],
            "layout": "IPY_MODEL_cb0c95b1015f47ba8abf181b33debd19"
          }
        },
        "f1fdb7b6ad78483ba3e9301160d3d801": {
          "model_module": "@jupyter-widgets/controls",
          "model_name": "LabelModel",
          "model_module_version": "1.5.0",
          "state": {
            "_dom_classes": [],
            "_model_module": "@jupyter-widgets/controls",
            "_model_module_version": "1.5.0",
            "_model_name": "LabelModel",
            "_view_count": null,
            "_view_module": "@jupyter-widgets/controls",
            "_view_module_version": "1.5.0",
            "_view_name": "LabelView",
            "description": "",
            "description_tooltip": null,
            "layout": "IPY_MODEL_6bea38d4b419468f80180f67fc484636",
            "placeholder": "​",
            "style": "IPY_MODEL_925a7670b592481eb0d7616c96922ba2",
            "value": "0.013 MB of 0.013 MB uploaded\r"
          }
        },
        "0ee177f72cc94bc3a26d1b566631fb35": {
          "model_module": "@jupyter-widgets/controls",
          "model_name": "FloatProgressModel",
          "model_module_version": "1.5.0",
          "state": {
            "_dom_classes": [],
            "_model_module": "@jupyter-widgets/controls",
            "_model_module_version": "1.5.0",
            "_model_name": "FloatProgressModel",
            "_view_count": null,
            "_view_module": "@jupyter-widgets/controls",
            "_view_module_version": "1.5.0",
            "_view_name": "ProgressView",
            "bar_style": "",
            "description": "",
            "description_tooltip": null,
            "layout": "IPY_MODEL_1a2fdbf4fcfa4e329929eb4bc324ba40",
            "max": 1,
            "min": 0,
            "orientation": "horizontal",
            "style": "IPY_MODEL_6fb646219991401f8f8a56a6aff54cd4",
            "value": 1
          }
        },
        "cb0c95b1015f47ba8abf181b33debd19": {
          "model_module": "@jupyter-widgets/base",
          "model_name": "LayoutModel",
          "model_module_version": "1.2.0",
          "state": {
            "_model_module": "@jupyter-widgets/base",
            "_model_module_version": "1.2.0",
            "_model_name": "LayoutModel",
            "_view_count": null,
            "_view_module": "@jupyter-widgets/base",
            "_view_module_version": "1.2.0",
            "_view_name": "LayoutView",
            "align_content": null,
            "align_items": null,
            "align_self": null,
            "border": null,
            "bottom": null,
            "display": null,
            "flex": null,
            "flex_flow": null,
            "grid_area": null,
            "grid_auto_columns": null,
            "grid_auto_flow": null,
            "grid_auto_rows": null,
            "grid_column": null,
            "grid_gap": null,
            "grid_row": null,
            "grid_template_areas": null,
            "grid_template_columns": null,
            "grid_template_rows": null,
            "height": null,
            "justify_content": null,
            "justify_items": null,
            "left": null,
            "margin": null,
            "max_height": null,
            "max_width": null,
            "min_height": null,
            "min_width": null,
            "object_fit": null,
            "object_position": null,
            "order": null,
            "overflow": null,
            "overflow_x": null,
            "overflow_y": null,
            "padding": null,
            "right": null,
            "top": null,
            "visibility": null,
            "width": null
          }
        },
        "6bea38d4b419468f80180f67fc484636": {
          "model_module": "@jupyter-widgets/base",
          "model_name": "LayoutModel",
          "model_module_version": "1.2.0",
          "state": {
            "_model_module": "@jupyter-widgets/base",
            "_model_module_version": "1.2.0",
            "_model_name": "LayoutModel",
            "_view_count": null,
            "_view_module": "@jupyter-widgets/base",
            "_view_module_version": "1.2.0",
            "_view_name": "LayoutView",
            "align_content": null,
            "align_items": null,
            "align_self": null,
            "border": null,
            "bottom": null,
            "display": null,
            "flex": null,
            "flex_flow": null,
            "grid_area": null,
            "grid_auto_columns": null,
            "grid_auto_flow": null,
            "grid_auto_rows": null,
            "grid_column": null,
            "grid_gap": null,
            "grid_row": null,
            "grid_template_areas": null,
            "grid_template_columns": null,
            "grid_template_rows": null,
            "height": null,
            "justify_content": null,
            "justify_items": null,
            "left": null,
            "margin": null,
            "max_height": null,
            "max_width": null,
            "min_height": null,
            "min_width": null,
            "object_fit": null,
            "object_position": null,
            "order": null,
            "overflow": null,
            "overflow_x": null,
            "overflow_y": null,
            "padding": null,
            "right": null,
            "top": null,
            "visibility": null,
            "width": null
          }
        },
        "925a7670b592481eb0d7616c96922ba2": {
          "model_module": "@jupyter-widgets/controls",
          "model_name": "DescriptionStyleModel",
          "model_module_version": "1.5.0",
          "state": {
            "_model_module": "@jupyter-widgets/controls",
            "_model_module_version": "1.5.0",
            "_model_name": "DescriptionStyleModel",
            "_view_count": null,
            "_view_module": "@jupyter-widgets/base",
            "_view_module_version": "1.2.0",
            "_view_name": "StyleView",
            "description_width": ""
          }
        },
        "1a2fdbf4fcfa4e329929eb4bc324ba40": {
          "model_module": "@jupyter-widgets/base",
          "model_name": "LayoutModel",
          "model_module_version": "1.2.0",
          "state": {
            "_model_module": "@jupyter-widgets/base",
            "_model_module_version": "1.2.0",
            "_model_name": "LayoutModel",
            "_view_count": null,
            "_view_module": "@jupyter-widgets/base",
            "_view_module_version": "1.2.0",
            "_view_name": "LayoutView",
            "align_content": null,
            "align_items": null,
            "align_self": null,
            "border": null,
            "bottom": null,
            "display": null,
            "flex": null,
            "flex_flow": null,
            "grid_area": null,
            "grid_auto_columns": null,
            "grid_auto_flow": null,
            "grid_auto_rows": null,
            "grid_column": null,
            "grid_gap": null,
            "grid_row": null,
            "grid_template_areas": null,
            "grid_template_columns": null,
            "grid_template_rows": null,
            "height": null,
            "justify_content": null,
            "justify_items": null,
            "left": null,
            "margin": null,
            "max_height": null,
            "max_width": null,
            "min_height": null,
            "min_width": null,
            "object_fit": null,
            "object_position": null,
            "order": null,
            "overflow": null,
            "overflow_x": null,
            "overflow_y": null,
            "padding": null,
            "right": null,
            "top": null,
            "visibility": null,
            "width": null
          }
        },
        "6fb646219991401f8f8a56a6aff54cd4": {
          "model_module": "@jupyter-widgets/controls",
          "model_name": "ProgressStyleModel",
          "model_module_version": "1.5.0",
          "state": {
            "_model_module": "@jupyter-widgets/controls",
            "_model_module_version": "1.5.0",
            "_model_name": "ProgressStyleModel",
            "_view_count": null,
            "_view_module": "@jupyter-widgets/base",
            "_view_module_version": "1.2.0",
            "_view_name": "StyleView",
            "bar_color": null,
            "description_width": ""
          }
        },
        "66f6ffbf35054dd981e3c548877b593f": {
          "model_module": "@jupyter-widgets/controls",
          "model_name": "VBoxModel",
          "model_module_version": "1.5.0",
          "state": {
            "_dom_classes": [],
            "_model_module": "@jupyter-widgets/controls",
            "_model_module_version": "1.5.0",
            "_model_name": "VBoxModel",
            "_view_count": null,
            "_view_module": "@jupyter-widgets/controls",
            "_view_module_version": "1.5.0",
            "_view_name": "VBoxView",
            "box_style": "",
            "children": [
              "IPY_MODEL_6ede97362069486d81a593a7f63406e1",
              "IPY_MODEL_e3dcf60978b843289505329934c1b8be"
            ],
            "layout": "IPY_MODEL_6c51320f35b547b3953bcec4566d5628"
          }
        },
        "6ede97362069486d81a593a7f63406e1": {
          "model_module": "@jupyter-widgets/controls",
          "model_name": "LabelModel",
          "model_module_version": "1.5.0",
          "state": {
            "_dom_classes": [],
            "_model_module": "@jupyter-widgets/controls",
            "_model_module_version": "1.5.0",
            "_model_name": "LabelModel",
            "_view_count": null,
            "_view_module": "@jupyter-widgets/controls",
            "_view_module_version": "1.5.0",
            "_view_name": "LabelView",
            "description": "",
            "description_tooltip": null,
            "layout": "IPY_MODEL_d26696f5b30d43f8bdfce0950d28c0d0",
            "placeholder": "​",
            "style": "IPY_MODEL_a994d3e915d64d7f8dd63af83185fd09",
            "value": "0.013 MB of 0.013 MB uploaded\r"
          }
        },
        "e3dcf60978b843289505329934c1b8be": {
          "model_module": "@jupyter-widgets/controls",
          "model_name": "FloatProgressModel",
          "model_module_version": "1.5.0",
          "state": {
            "_dom_classes": [],
            "_model_module": "@jupyter-widgets/controls",
            "_model_module_version": "1.5.0",
            "_model_name": "FloatProgressModel",
            "_view_count": null,
            "_view_module": "@jupyter-widgets/controls",
            "_view_module_version": "1.5.0",
            "_view_name": "ProgressView",
            "bar_style": "",
            "description": "",
            "description_tooltip": null,
            "layout": "IPY_MODEL_d13ead99985d4bbf9798b46b7308c45f",
            "max": 1,
            "min": 0,
            "orientation": "horizontal",
            "style": "IPY_MODEL_ac5e36c774224fe18ae70a2ab495bffd",
            "value": 1
          }
        },
        "6c51320f35b547b3953bcec4566d5628": {
          "model_module": "@jupyter-widgets/base",
          "model_name": "LayoutModel",
          "model_module_version": "1.2.0",
          "state": {
            "_model_module": "@jupyter-widgets/base",
            "_model_module_version": "1.2.0",
            "_model_name": "LayoutModel",
            "_view_count": null,
            "_view_module": "@jupyter-widgets/base",
            "_view_module_version": "1.2.0",
            "_view_name": "LayoutView",
            "align_content": null,
            "align_items": null,
            "align_self": null,
            "border": null,
            "bottom": null,
            "display": null,
            "flex": null,
            "flex_flow": null,
            "grid_area": null,
            "grid_auto_columns": null,
            "grid_auto_flow": null,
            "grid_auto_rows": null,
            "grid_column": null,
            "grid_gap": null,
            "grid_row": null,
            "grid_template_areas": null,
            "grid_template_columns": null,
            "grid_template_rows": null,
            "height": null,
            "justify_content": null,
            "justify_items": null,
            "left": null,
            "margin": null,
            "max_height": null,
            "max_width": null,
            "min_height": null,
            "min_width": null,
            "object_fit": null,
            "object_position": null,
            "order": null,
            "overflow": null,
            "overflow_x": null,
            "overflow_y": null,
            "padding": null,
            "right": null,
            "top": null,
            "visibility": null,
            "width": null
          }
        },
        "d26696f5b30d43f8bdfce0950d28c0d0": {
          "model_module": "@jupyter-widgets/base",
          "model_name": "LayoutModel",
          "model_module_version": "1.2.0",
          "state": {
            "_model_module": "@jupyter-widgets/base",
            "_model_module_version": "1.2.0",
            "_model_name": "LayoutModel",
            "_view_count": null,
            "_view_module": "@jupyter-widgets/base",
            "_view_module_version": "1.2.0",
            "_view_name": "LayoutView",
            "align_content": null,
            "align_items": null,
            "align_self": null,
            "border": null,
            "bottom": null,
            "display": null,
            "flex": null,
            "flex_flow": null,
            "grid_area": null,
            "grid_auto_columns": null,
            "grid_auto_flow": null,
            "grid_auto_rows": null,
            "grid_column": null,
            "grid_gap": null,
            "grid_row": null,
            "grid_template_areas": null,
            "grid_template_columns": null,
            "grid_template_rows": null,
            "height": null,
            "justify_content": null,
            "justify_items": null,
            "left": null,
            "margin": null,
            "max_height": null,
            "max_width": null,
            "min_height": null,
            "min_width": null,
            "object_fit": null,
            "object_position": null,
            "order": null,
            "overflow": null,
            "overflow_x": null,
            "overflow_y": null,
            "padding": null,
            "right": null,
            "top": null,
            "visibility": null,
            "width": null
          }
        },
        "a994d3e915d64d7f8dd63af83185fd09": {
          "model_module": "@jupyter-widgets/controls",
          "model_name": "DescriptionStyleModel",
          "model_module_version": "1.5.0",
          "state": {
            "_model_module": "@jupyter-widgets/controls",
            "_model_module_version": "1.5.0",
            "_model_name": "DescriptionStyleModel",
            "_view_count": null,
            "_view_module": "@jupyter-widgets/base",
            "_view_module_version": "1.2.0",
            "_view_name": "StyleView",
            "description_width": ""
          }
        },
        "d13ead99985d4bbf9798b46b7308c45f": {
          "model_module": "@jupyter-widgets/base",
          "model_name": "LayoutModel",
          "model_module_version": "1.2.0",
          "state": {
            "_model_module": "@jupyter-widgets/base",
            "_model_module_version": "1.2.0",
            "_model_name": "LayoutModel",
            "_view_count": null,
            "_view_module": "@jupyter-widgets/base",
            "_view_module_version": "1.2.0",
            "_view_name": "LayoutView",
            "align_content": null,
            "align_items": null,
            "align_self": null,
            "border": null,
            "bottom": null,
            "display": null,
            "flex": null,
            "flex_flow": null,
            "grid_area": null,
            "grid_auto_columns": null,
            "grid_auto_flow": null,
            "grid_auto_rows": null,
            "grid_column": null,
            "grid_gap": null,
            "grid_row": null,
            "grid_template_areas": null,
            "grid_template_columns": null,
            "grid_template_rows": null,
            "height": null,
            "justify_content": null,
            "justify_items": null,
            "left": null,
            "margin": null,
            "max_height": null,
            "max_width": null,
            "min_height": null,
            "min_width": null,
            "object_fit": null,
            "object_position": null,
            "order": null,
            "overflow": null,
            "overflow_x": null,
            "overflow_y": null,
            "padding": null,
            "right": null,
            "top": null,
            "visibility": null,
            "width": null
          }
        },
        "ac5e36c774224fe18ae70a2ab495bffd": {
          "model_module": "@jupyter-widgets/controls",
          "model_name": "ProgressStyleModel",
          "model_module_version": "1.5.0",
          "state": {
            "_model_module": "@jupyter-widgets/controls",
            "_model_module_version": "1.5.0",
            "_model_name": "ProgressStyleModel",
            "_view_count": null,
            "_view_module": "@jupyter-widgets/base",
            "_view_module_version": "1.2.0",
            "_view_name": "StyleView",
            "bar_color": null,
            "description_width": ""
          }
        },
        "17b781d64a834fb1b62ad3846608a222": {
          "model_module": "@jupyter-widgets/controls",
          "model_name": "VBoxModel",
          "model_module_version": "1.5.0",
          "state": {
            "_dom_classes": [],
            "_model_module": "@jupyter-widgets/controls",
            "_model_module_version": "1.5.0",
            "_model_name": "VBoxModel",
            "_view_count": null,
            "_view_module": "@jupyter-widgets/controls",
            "_view_module_version": "1.5.0",
            "_view_name": "VBoxView",
            "box_style": "",
            "children": [
              "IPY_MODEL_d6760c81137d4b91b0548e5f2b4b46c7",
              "IPY_MODEL_cedf82b9d09c42718e4a7c34144dcf7c"
            ],
            "layout": "IPY_MODEL_83ca845358a5486e8e1a3c2d1014013c"
          }
        },
        "d6760c81137d4b91b0548e5f2b4b46c7": {
          "model_module": "@jupyter-widgets/controls",
          "model_name": "LabelModel",
          "model_module_version": "1.5.0",
          "state": {
            "_dom_classes": [],
            "_model_module": "@jupyter-widgets/controls",
            "_model_module_version": "1.5.0",
            "_model_name": "LabelModel",
            "_view_count": null,
            "_view_module": "@jupyter-widgets/controls",
            "_view_module_version": "1.5.0",
            "_view_name": "LabelView",
            "description": "",
            "description_tooltip": null,
            "layout": "IPY_MODEL_ff461700c4c84220bb7833c3427a0f01",
            "placeholder": "​",
            "style": "IPY_MODEL_327c5d7092ce46ad8bad480f0f7ac1ae",
            "value": "0.013 MB of 0.013 MB uploaded\r"
          }
        },
        "cedf82b9d09c42718e4a7c34144dcf7c": {
          "model_module": "@jupyter-widgets/controls",
          "model_name": "FloatProgressModel",
          "model_module_version": "1.5.0",
          "state": {
            "_dom_classes": [],
            "_model_module": "@jupyter-widgets/controls",
            "_model_module_version": "1.5.0",
            "_model_name": "FloatProgressModel",
            "_view_count": null,
            "_view_module": "@jupyter-widgets/controls",
            "_view_module_version": "1.5.0",
            "_view_name": "ProgressView",
            "bar_style": "",
            "description": "",
            "description_tooltip": null,
            "layout": "IPY_MODEL_6231e0e1b41746309d9fb3a795d4d36a",
            "max": 1,
            "min": 0,
            "orientation": "horizontal",
            "style": "IPY_MODEL_2c6de890230a4600ad7cc23eae4d52c7",
            "value": 1
          }
        },
        "83ca845358a5486e8e1a3c2d1014013c": {
          "model_module": "@jupyter-widgets/base",
          "model_name": "LayoutModel",
          "model_module_version": "1.2.0",
          "state": {
            "_model_module": "@jupyter-widgets/base",
            "_model_module_version": "1.2.0",
            "_model_name": "LayoutModel",
            "_view_count": null,
            "_view_module": "@jupyter-widgets/base",
            "_view_module_version": "1.2.0",
            "_view_name": "LayoutView",
            "align_content": null,
            "align_items": null,
            "align_self": null,
            "border": null,
            "bottom": null,
            "display": null,
            "flex": null,
            "flex_flow": null,
            "grid_area": null,
            "grid_auto_columns": null,
            "grid_auto_flow": null,
            "grid_auto_rows": null,
            "grid_column": null,
            "grid_gap": null,
            "grid_row": null,
            "grid_template_areas": null,
            "grid_template_columns": null,
            "grid_template_rows": null,
            "height": null,
            "justify_content": null,
            "justify_items": null,
            "left": null,
            "margin": null,
            "max_height": null,
            "max_width": null,
            "min_height": null,
            "min_width": null,
            "object_fit": null,
            "object_position": null,
            "order": null,
            "overflow": null,
            "overflow_x": null,
            "overflow_y": null,
            "padding": null,
            "right": null,
            "top": null,
            "visibility": null,
            "width": null
          }
        },
        "ff461700c4c84220bb7833c3427a0f01": {
          "model_module": "@jupyter-widgets/base",
          "model_name": "LayoutModel",
          "model_module_version": "1.2.0",
          "state": {
            "_model_module": "@jupyter-widgets/base",
            "_model_module_version": "1.2.0",
            "_model_name": "LayoutModel",
            "_view_count": null,
            "_view_module": "@jupyter-widgets/base",
            "_view_module_version": "1.2.0",
            "_view_name": "LayoutView",
            "align_content": null,
            "align_items": null,
            "align_self": null,
            "border": null,
            "bottom": null,
            "display": null,
            "flex": null,
            "flex_flow": null,
            "grid_area": null,
            "grid_auto_columns": null,
            "grid_auto_flow": null,
            "grid_auto_rows": null,
            "grid_column": null,
            "grid_gap": null,
            "grid_row": null,
            "grid_template_areas": null,
            "grid_template_columns": null,
            "grid_template_rows": null,
            "height": null,
            "justify_content": null,
            "justify_items": null,
            "left": null,
            "margin": null,
            "max_height": null,
            "max_width": null,
            "min_height": null,
            "min_width": null,
            "object_fit": null,
            "object_position": null,
            "order": null,
            "overflow": null,
            "overflow_x": null,
            "overflow_y": null,
            "padding": null,
            "right": null,
            "top": null,
            "visibility": null,
            "width": null
          }
        },
        "327c5d7092ce46ad8bad480f0f7ac1ae": {
          "model_module": "@jupyter-widgets/controls",
          "model_name": "DescriptionStyleModel",
          "model_module_version": "1.5.0",
          "state": {
            "_model_module": "@jupyter-widgets/controls",
            "_model_module_version": "1.5.0",
            "_model_name": "DescriptionStyleModel",
            "_view_count": null,
            "_view_module": "@jupyter-widgets/base",
            "_view_module_version": "1.2.0",
            "_view_name": "StyleView",
            "description_width": ""
          }
        },
        "6231e0e1b41746309d9fb3a795d4d36a": {
          "model_module": "@jupyter-widgets/base",
          "model_name": "LayoutModel",
          "model_module_version": "1.2.0",
          "state": {
            "_model_module": "@jupyter-widgets/base",
            "_model_module_version": "1.2.0",
            "_model_name": "LayoutModel",
            "_view_count": null,
            "_view_module": "@jupyter-widgets/base",
            "_view_module_version": "1.2.0",
            "_view_name": "LayoutView",
            "align_content": null,
            "align_items": null,
            "align_self": null,
            "border": null,
            "bottom": null,
            "display": null,
            "flex": null,
            "flex_flow": null,
            "grid_area": null,
            "grid_auto_columns": null,
            "grid_auto_flow": null,
            "grid_auto_rows": null,
            "grid_column": null,
            "grid_gap": null,
            "grid_row": null,
            "grid_template_areas": null,
            "grid_template_columns": null,
            "grid_template_rows": null,
            "height": null,
            "justify_content": null,
            "justify_items": null,
            "left": null,
            "margin": null,
            "max_height": null,
            "max_width": null,
            "min_height": null,
            "min_width": null,
            "object_fit": null,
            "object_position": null,
            "order": null,
            "overflow": null,
            "overflow_x": null,
            "overflow_y": null,
            "padding": null,
            "right": null,
            "top": null,
            "visibility": null,
            "width": null
          }
        },
        "2c6de890230a4600ad7cc23eae4d52c7": {
          "model_module": "@jupyter-widgets/controls",
          "model_name": "ProgressStyleModel",
          "model_module_version": "1.5.0",
          "state": {
            "_model_module": "@jupyter-widgets/controls",
            "_model_module_version": "1.5.0",
            "_model_name": "ProgressStyleModel",
            "_view_count": null,
            "_view_module": "@jupyter-widgets/base",
            "_view_module_version": "1.2.0",
            "_view_name": "StyleView",
            "bar_color": null,
            "description_width": ""
          }
        }
      }
    },
    "accelerator": "GPU"
  },
  "cells": [
    {
      "cell_type": "markdown",
      "source": [
        "\"The spice must flow...\"(c)"
      ],
      "metadata": {
        "id": "T7g5oR_FJ4Hm"
      }
    },
    {
      "cell_type": "markdown",
      "source": [
        "# Реализация"
      ],
      "metadata": {
        "id": "Tqf-D6JvJ4D8"
      }
    },
    {
      "cell_type": "markdown",
      "source": [
        "### Установка библиотек, модулей и зависимостей"
      ],
      "metadata": {
        "id": "cIitEMv0J4AH"
      }
    },
    {
      "cell_type": "code",
      "execution_count": 2,
      "metadata": {
        "colab": {
          "base_uri": "https://localhost:8080/"
        },
        "collapsed": true,
        "id": "rp1HRa4ZJ1Cf",
        "outputId": "f1c4923f-e9ef-4f44-d06e-9de705808ad4"
      },
      "outputs": [
        {
          "output_type": "stream",
          "name": "stdout",
          "text": [
            "\u001b[2K     \u001b[90m━━━━━━━━━━━━━━━━━━━━━━━━━━━━━━━━━━━━━━━━\u001b[0m \u001b[32m953.9/953.9 kB\u001b[0m \u001b[31m4.1 MB/s\u001b[0m eta \u001b[36m0:00:00\u001b[0m\n",
            "\u001b[2K     \u001b[90m━━━━━━━━━━━━━━━━━━━━━━━━━━━━━━━━━━━━━━━━\u001b[0m \u001b[32m434.7/434.7 kB\u001b[0m \u001b[31m23.6 MB/s\u001b[0m eta \u001b[36m0:00:00\u001b[0m\n",
            "\u001b[?25h  Installing build dependencies ... \u001b[?25l\u001b[?25hdone\n",
            "  Getting requirements to build wheel ... \u001b[?25l\u001b[?25hdone\n",
            "  Preparing metadata (pyproject.toml) ... \u001b[?25l\u001b[?25hdone\n",
            "\u001b[2K     \u001b[90m━━━━━━━━━━━━━━━━━━━━━━━━━━━━━━━━━━━━━━━━\u001b[0m \u001b[32m1.7/1.7 MB\u001b[0m \u001b[31m26.5 MB/s\u001b[0m eta \u001b[36m0:00:00\u001b[0m\n",
            "\u001b[?25h  Building wheel for AutoROM.accept-rom-license (pyproject.toml) ... \u001b[?25l\u001b[?25hdone\n",
            "Collecting wandb\n",
            "  Downloading wandb-0.17.0-py3-none-manylinux_2_5_x86_64.manylinux1_x86_64.manylinux_2_17_x86_64.manylinux2014_x86_64.whl (6.7 MB)\n",
            "\u001b[2K     \u001b[90m━━━━━━━━━━━━━━━━━━━━━━━━━━━━━━━━━━━━━━━━\u001b[0m \u001b[32m6.7/6.7 MB\u001b[0m \u001b[31m21.7 MB/s\u001b[0m eta \u001b[36m0:00:00\u001b[0m\n",
            "\u001b[?25hRequirement already satisfied: click!=8.0.0,>=7.1 in /usr/local/lib/python3.10/dist-packages (from wandb) (8.1.7)\n",
            "Collecting docker-pycreds>=0.4.0 (from wandb)\n",
            "  Downloading docker_pycreds-0.4.0-py2.py3-none-any.whl (9.0 kB)\n",
            "Collecting gitpython!=3.1.29,>=1.0.0 (from wandb)\n",
            "  Downloading GitPython-3.1.43-py3-none-any.whl (207 kB)\n",
            "\u001b[2K     \u001b[90m━━━━━━━━━━━━━━━━━━━━━━━━━━━━━━━━━━━━━━━━\u001b[0m \u001b[32m207.3/207.3 kB\u001b[0m \u001b[31m28.6 MB/s\u001b[0m eta \u001b[36m0:00:00\u001b[0m\n",
            "\u001b[?25hRequirement already satisfied: platformdirs in /usr/local/lib/python3.10/dist-packages (from wandb) (4.2.1)\n",
            "Requirement already satisfied: protobuf!=4.21.0,<5,>=3.19.0 in /usr/local/lib/python3.10/dist-packages (from wandb) (3.20.3)\n",
            "Requirement already satisfied: psutil>=5.0.0 in /usr/local/lib/python3.10/dist-packages (from wandb) (5.9.5)\n",
            "Requirement already satisfied: pyyaml in /usr/local/lib/python3.10/dist-packages (from wandb) (6.0.1)\n",
            "Requirement already satisfied: requests<3,>=2.0.0 in /usr/local/lib/python3.10/dist-packages (from wandb) (2.31.0)\n",
            "Collecting sentry-sdk>=1.0.0 (from wandb)\n",
            "  Downloading sentry_sdk-2.2.0-py2.py3-none-any.whl (281 kB)\n",
            "\u001b[2K     \u001b[90m━━━━━━━━━━━━━━━━━━━━━━━━━━━━━━━━━━━━━━━━\u001b[0m \u001b[32m281.1/281.1 kB\u001b[0m \u001b[31m36.4 MB/s\u001b[0m eta \u001b[36m0:00:00\u001b[0m\n",
            "\u001b[?25hCollecting setproctitle (from wandb)\n",
            "  Downloading setproctitle-1.3.3-cp310-cp310-manylinux_2_5_x86_64.manylinux1_x86_64.manylinux_2_17_x86_64.manylinux2014_x86_64.whl (30 kB)\n",
            "Requirement already satisfied: setuptools in /usr/local/lib/python3.10/dist-packages (from wandb) (67.7.2)\n",
            "Requirement already satisfied: six>=1.4.0 in /usr/local/lib/python3.10/dist-packages (from docker-pycreds>=0.4.0->wandb) (1.16.0)\n",
            "Collecting gitdb<5,>=4.0.1 (from gitpython!=3.1.29,>=1.0.0->wandb)\n",
            "  Downloading gitdb-4.0.11-py3-none-any.whl (62 kB)\n",
            "\u001b[2K     \u001b[90m━━━━━━━━━━━━━━━━━━━━━━━━━━━━━━━━━━━━━━━━\u001b[0m \u001b[32m62.7/62.7 kB\u001b[0m \u001b[31m8.8 MB/s\u001b[0m eta \u001b[36m0:00:00\u001b[0m\n",
            "\u001b[?25hRequirement already satisfied: charset-normalizer<4,>=2 in /usr/local/lib/python3.10/dist-packages (from requests<3,>=2.0.0->wandb) (3.3.2)\n",
            "Requirement already satisfied: idna<4,>=2.5 in /usr/local/lib/python3.10/dist-packages (from requests<3,>=2.0.0->wandb) (3.7)\n",
            "Requirement already satisfied: urllib3<3,>=1.21.1 in /usr/local/lib/python3.10/dist-packages (from requests<3,>=2.0.0->wandb) (2.0.7)\n",
            "Requirement already satisfied: certifi>=2017.4.17 in /usr/local/lib/python3.10/dist-packages (from requests<3,>=2.0.0->wandb) (2024.2.2)\n",
            "Collecting smmap<6,>=3.0.1 (from gitdb<5,>=4.0.1->gitpython!=3.1.29,>=1.0.0->wandb)\n",
            "  Downloading smmap-5.0.1-py3-none-any.whl (24 kB)\n",
            "Installing collected packages: smmap, setproctitle, sentry-sdk, docker-pycreds, gitdb, gitpython, wandb\n",
            "Successfully installed docker-pycreds-0.4.0 gitdb-4.0.11 gitpython-3.1.43 sentry-sdk-2.2.0 setproctitle-1.3.3 smmap-5.0.1 wandb-0.17.0\n"
          ]
        }
      ],
      "source": [
        "try:\n",
        "    import google.colab\n",
        "    COLAB = True\n",
        "except ModuleNotFoundError:\n",
        "    COLAB = False\n",
        "    pass\n",
        "\n",
        "if COLAB:\n",
        "    !pip -q install \"gymnasium[classic-control, atari, accept-rom-license]\"\n",
        "    !pip install -q gym matplotlib\n",
        "    !pip install wandb\n"
      ]
    },
    {
      "cell_type": "code",
      "source": [
        "import wandb\n",
        "import random\n",
        "import numpy as np\n",
        "import seaborn as sns\n",
        "import time\n",
        "from gym import spaces\n",
        "import gymnasium as gym\n",
        "from functools import partial\n",
        "import matplotlib.pyplot as plt\n",
        "from IPython.display import clear_output\n",
        "\n",
        "%matplotlib inline\n"
      ],
      "metadata": {
        "id": "LmIkS0zQKXVJ"
      },
      "execution_count": 1,
      "outputs": []
    },
    {
      "cell_type": "code",
      "source": [
        "import warnings\n",
        "\n",
        "# Бесят эти предупреждения об устаревании\n",
        "warnings.filterwarnings('ignore', category=DeprecationWarning)\n"
      ],
      "metadata": {
        "id": "7pHPetaZKold"
      },
      "execution_count": 2,
      "outputs": []
    },
    {
      "cell_type": "code",
      "source": [
        "wandb.init(project='Dune-Q', entity='Senich17')\n"
      ],
      "metadata": {
        "colab": {
          "base_uri": "https://localhost:8080/",
          "height": 137
        },
        "id": "8s2HJ8M4OfDw",
        "outputId": "706ec081-ef20-42fe-fdbf-7122ceea5989"
      },
      "execution_count": 3,
      "outputs": [
        {
          "output_type": "stream",
          "name": "stderr",
          "text": [
            "\u001b[34m\u001b[1mwandb\u001b[0m: Currently logged in as: \u001b[33msenich17\u001b[0m. Use \u001b[1m`wandb login --relogin`\u001b[0m to force relogin\n"
          ]
        },
        {
          "output_type": "display_data",
          "data": {
            "text/plain": [
              "<IPython.core.display.HTML object>"
            ],
            "text/html": [
              "Tracking run with wandb version 0.17.0"
            ]
          },
          "metadata": {}
        },
        {
          "output_type": "display_data",
          "data": {
            "text/plain": [
              "<IPython.core.display.HTML object>"
            ],
            "text/html": [
              "Run data is saved locally in <code>/content/wandb/run-20240520_085934-hpv5me37</code>"
            ]
          },
          "metadata": {}
        },
        {
          "output_type": "display_data",
          "data": {
            "text/plain": [
              "<IPython.core.display.HTML object>"
            ],
            "text/html": [
              "Syncing run <strong><a href='https://wandb.ai/senich17/Dune-Q/runs/hpv5me37' target=\"_blank\">olive-serenity-169</a></strong> to <a href='https://wandb.ai/senich17/Dune-Q' target=\"_blank\">Weights & Biases</a> (<a href='https://wandb.me/run' target=\"_blank\">docs</a>)<br/>"
            ]
          },
          "metadata": {}
        },
        {
          "output_type": "display_data",
          "data": {
            "text/plain": [
              "<IPython.core.display.HTML object>"
            ],
            "text/html": [
              " View project at <a href='https://wandb.ai/senich17/Dune-Q' target=\"_blank\">https://wandb.ai/senich17/Dune-Q</a>"
            ]
          },
          "metadata": {}
        },
        {
          "output_type": "display_data",
          "data": {
            "text/plain": [
              "<IPython.core.display.HTML object>"
            ],
            "text/html": [
              " View run at <a href='https://wandb.ai/senich17/Dune-Q/runs/hpv5me37' target=\"_blank\">https://wandb.ai/senich17/Dune-Q/runs/hpv5me37</a>"
            ]
          },
          "metadata": {}
        },
        {
          "output_type": "execute_result",
          "data": {
            "text/html": [
              "<button onClick=\"this.nextSibling.style.display='block';this.style.display='none';\">Display W&B run</button><iframe src='https://wandb.ai/senich17/Dune-Q/runs/hpv5me37?jupyter=true' style='border:none;width:100%;height:420px;display:none;'></iframe>"
            ],
            "text/plain": [
              "<wandb.sdk.wandb_run.Run at 0x7e6d85c796f0>"
            ]
          },
          "metadata": {},
          "execution_count": 3
        }
      ]
    },
    {
      "cell_type": "markdown",
      "source": [
        "# Детерминированная среда"
      ],
      "metadata": {
        "id": "myOAfZEmK48C"
      }
    },
    {
      "cell_type": "code",
      "source": [
        "Caladan = gym.make(\"Taxi-v3\", render_mode=\"rgb_array\")\n",
        "Caladan.reset()\n",
        "plt.imshow(Caladan.render())\n"
      ],
      "metadata": {
        "colab": {
          "base_uri": "https://localhost:8080/",
          "height": 398
        },
        "id": "T2bCAqclLCIB",
        "outputId": "def60d4e-e30d-4683-a321-c8511a1ef29a"
      },
      "execution_count": 7,
      "outputs": [
        {
          "output_type": "execute_result",
          "data": {
            "text/plain": [
              "<matplotlib.image.AxesImage at 0x796cd9061090>"
            ]
          },
          "metadata": {},
          "execution_count": 7
        },
        {
          "output_type": "display_data",
          "data": {
            "text/plain": [
              "<Figure size 640x480 with 1 Axes>"
            ],
            "image/png": "[encoded data removed]"
          },
          "metadata": {}
        }
      ]
    },
    {
      "cell_type": "code",
      "source": [
        "class Model:\n",
        "    def __init__(self, n_states, n_actions, seed):\n",
        "        self.n_states = n_states\n",
        "        self.n_actions = n_actions\n",
        "        self._rng = np.random.default_rng(seed)\n",
        "        self.data = []\n",
        "\n",
        "    def add(self, s: int, a: int, r: float, next_s: int) -> float:\n",
        "        self.data.append((s, a, r, next_s))\n",
        "        return r\n",
        "\n",
        "    def sample(self) -> tuple[int, int, float, int]:\n",
        "        idx = self._rng.integers(0, len(self.data))\n",
        "        return self.data[idx]\n",
        ""
      ],
      "metadata": {
        "id": "COFhFIih5Oyv"
      },
      "execution_count": 8,
      "outputs": []
    },
    {
      "cell_type": "code",
      "source": [
        "class PaulAtreides:\n",
        "    def __init__(self, n_states, n_actions, lr, gamma, eps, f_model, seed):\n",
        "        self.Q = np.zeros((n_states, n_actions))\n",
        "        self.model = f_model(n_states, n_actions, seed=seed)\n",
        "        self.lr = lr\n",
        "        self.gamma = gamma\n",
        "        self.eps = eps\n",
        "        self.n_actions = n_actions\n",
        "        self._rng = np.random.default_rng(seed)\n",
        "\n",
        "    def act(self, s):\n",
        "        if self._rng.random() < self.eps:\n",
        "            action = self._rng.choice(self.n_actions)\n",
        "        else:\n",
        "            action = np.argmax(self.Q[s])\n",
        "        return action\n",
        "\n",
        "    def update(self, s, a, r, s_n, update_model: bool):\n",
        "        max_next_action = np.argmax(self.Q[s_n])\n",
        "        td_target = r + self.gamma * self.Q[s_n][max_next_action]\n",
        "        td_error = td_target - self.Q[s][a]\n",
        "        self.Q[s][a] += self.lr * td_error\n",
        "\n",
        "        if update_model:\n",
        "            self.model.add(s, a, r, s_n)\n",
        "\n",
        "    def dream(self, max_steps, **_):\n",
        "        for _ in range(max_steps):\n",
        "            s, a, r, s_n = self.model.sample()\n",
        "            self.update(s, a, r, s_n, update_model=False)\n"
      ],
      "metadata": {
        "id": "uonsQunx5MWH"
      },
      "execution_count": 9,
      "outputs": []
    },
    {
      "cell_type": "code",
      "source": [
        "def train(Caladan, agent, n_episodes, on_model_updates, seed, show_progress_schedule=50):\n",
        "    avg_returns, returns_batch = [], []\n",
        "    rng = np.random.default_rng(seed)\n",
        "\n",
        "    for i in range(1, n_episodes):\n",
        "        state, _ = Caladan.reset(seed=int(rng.integers(10000000)))\n",
        "        reward, episode_return = 0, 0\n",
        "\n",
        "        while True:\n",
        "            action = agent.act(state)\n",
        "\n",
        "            next_state, reward, terminated, truncated, info = Caladan.step(action)\n",
        "            agent.update(state, action, reward, next_state, update_model=True)\n",
        "            state = next_state\n",
        "            episode_return += reward\n",
        "            done = terminated or truncated\n",
        "            if done:\n",
        "                break\n",
        "            agent.dream(on_model_updates, state=state)\n",
        "\n",
        "            # Log episode data\n",
        "            wandb.log({'State': state, 'Action': action, 'Reward': reward, 'Next State': next_state})\n",
        "\n",
        "        returns_batch.append(episode_return)\n",
        "\n",
        "        if i % show_progress_schedule == 0:\n",
        "            avg_return = np.mean(returns_batch)\n",
        "            avg_returns.append((i, avg_return))\n",
        "            returns_batch = []\n",
        "\n",
        "            wandb.log({'Episode Return': episode_return, 'Average Return': avg_return})\n",
        "\n",
        "            print(\n",
        "                f\"Episode: {i}, Return: {episode_return}, \"\n",
        "                f\"AvgReturn[{show_progress_schedule}]: {avg_return:.0f}\"\n",
        "            )\n",
        "\n",
        "    return avg_returns\n",
        ""
      ],
      "metadata": {
        "id": "TKG7WX0-5JFs"
      },
      "execution_count": 10,
      "outputs": []
    },
    {
      "cell_type": "code",
      "source": [
        "def main():\n",
        "    wandb.init(project=\"Dune-Q\")\n",
        "\n",
        "    n_states = Caladan.observation_space.n\n",
        "    n_actions = Caladan.action_space.n\n",
        "\n",
        "    print(f\"Observation space: {n_states}, Action space: {n_actions}\")\n",
        "\n",
        "    # Генерируем случайное значение seed на основе текущего времени\n",
        "    seed = int(time.time())\n",
        "\n",
        "    agent = PaulAtreides(\n",
        "        n_states,\n",
        "        n_actions,\n",
        "        f_model=Model,\n",
        "        lr=0.05,\n",
        "        gamma=0.975,\n",
        "        eps=0.1,\n",
        "        seed=seed\n",
        "    )\n",
        "\n",
        "    avg_returns = train(\n",
        "        Caladan,\n",
        "        agent,\n",
        "        on_model_updates=0,\n",
        "        seed=seed,\n",
        "        n_episodes=3001,\n",
        "    )\n"
      ],
      "metadata": {
        "id": "zlniSm1O5FwO"
      },
      "execution_count": 12,
      "outputs": []
    },
    {
      "cell_type": "code",
      "source": [
        "# Define the sweep configuration\n",
        "sweep_config = {\n",
        "    \"method\": \"grid\",\n",
        "    \"parameters\": {\n",
        "        \"n_planning_steps\": {\"values\": [1, 5, 10]},\n",
        "        \"n_dreaming_steps\": {\"values\": [1, 3, 5]}  # Add dreaming steps parameter\n",
        "    }\n",
        "}\n"
      ],
      "metadata": {
        "id": "P_c_2Xg0qVcX"
      },
      "execution_count": 13,
      "outputs": []
    },
    {
      "cell_type": "markdown",
      "source": [
        "\"Процесс нельзя понять, остановив его. Постижение процесса развивается, следуя за ним, догоняя его, сливаясь с ним\" (с)\n",
        "\n",
        "Поэтому запустим алгоритм и будем перебирать параметры, анализируя их влияние."
      ],
      "metadata": {
        "id": "Gns212RaPb1V"
      }
    },
    {
      "cell_type": "code",
      "source": [
        "# Start the sweep\n",
        "PaulTravel = wandb.sweep(sweep=sweep_config, project=\"Dune-Q\")\n",
        "\n",
        "# Run the sweep\n",
        "wandb.agent(PaulTravel, function=main, count=5)\n"
      ],
      "metadata": {
        "colab": {
          "base_uri": "https://localhost:8080/",
          "height": 1000,
          "referenced_widgets": [
            "065907e4041a437bbeae3ac44ea90ffc",
            "034d297556ae49b6b48005bdb9f2f23b",
            "33c6adfcb55246ce9eff082514ae5993",
            "dcb9dae940224c72859662cb7586c879",
            "77eade4cf9be4491a91b47a4f212f545",
            "54b807f6685345e1adb4269637ae12d7",
            "f401356888e04b51af382213aa9c098a",
            "e0074d9315c54cc9ae0b8023b1c4584c",
            "6aa34cd295794b02b63ecac79e8d8e7d",
            "aafc989df09540db97c942d8718d98c1",
            "70e9401d013f4d2b9b8350db73c42df7",
            "b7a46cced6d0414ab72f62c87abd6aa1",
            "eb579a3ee54b48f793c4f09fe13db7b8",
            "95c7a9a2b543454b8b002173323e6c04",
            "4b987fe2b95147fa93ce791e365c05e9",
            "5cbee0ce59154a60baca7890c5edeb14",
            "75754d6ed2d94d238363e435698a2edb",
            "aa5861efe7134251a50cf20f84a7d4ee",
            "867b5aebe946481c852c461d750afd99",
            "81aadceaf1dd416ea066efc0409ecbcf",
            "3e56cc00a39542928adf9c2363b6a55c",
            "64d281a94b8f4ff1a68350c854ff56a5",
            "5ca426db83e344b7972f1222a757e91f",
            "2bf84dee407c46b5b39c9bf1f0e7e3d9",
            "f78f03fc3fa94a9ab6874f2cacdbf560",
            "65bae6c4a57641d9864b1fc146aa83a8",
            "fe3db05b540a47ae8cda009b80ed065e",
            "4e6482c4a6644fe0980f504f31026bbb",
            "1ceb03de8e174fd792c037312dd019ce",
            "e8cadaff7c4a44cc87498daa8dee2891",
            "14a3262fe0b4451993956e8763314489",
            "d64816c9412843f3bb273ba30882fe75",
            "70e0a95dc7af40898f85aa1dc0b5519f",
            "189066483f534324b79faf6ac4eb7640",
            "913225ec70d84701883a91f36506bd15",
            "0ce7721fc6af40d390f2809a6cd59473",
            "82bcefd8f3804a57b155c3c197939583",
            "a7d357b187ea4824b7a63e66cdb74eef",
            "0f291b576edd46649308e4ceea346b8d",
            "74f752efb77d4a789f1489101b0cc8fc"
          ]
        },
        "id": "p59m9UXbXGye",
        "outputId": "fa04705b-a452-4120-d66c-e89cf540ecad"
      },
      "execution_count": 14,
      "outputs": [
        {
          "output_type": "stream",
          "name": "stderr",
          "text": [
            "\u001b[34m\u001b[1mwandb\u001b[0m: \u001b[33mWARNING\u001b[0m Calling wandb.login() after wandb.init() has no effect.\n"
          ]
        },
        {
          "output_type": "stream",
          "name": "stdout",
          "text": [
            "Create sweep with ID: mh6e457x\n",
            "Sweep URL: https://wandb.ai/senich17/Dune-Q/sweeps/mh6e457x\n"
          ]
        },
        {
          "output_type": "stream",
          "name": "stderr",
          "text": [
            "\u001b[34m\u001b[1mwandb\u001b[0m: Agent Starting Run: r251yh33 with config:\n",
            "\u001b[34m\u001b[1mwandb\u001b[0m: \tn_dreaming_steps: 1\n",
            "\u001b[34m\u001b[1mwandb\u001b[0m: \tn_planning_steps: 1\n",
            "\u001b[34m\u001b[1mwandb\u001b[0m: \u001b[33mWARNING\u001b[0m Ignored wandb.init() arg project when running a sweep.\n"
          ]
        },
        {
          "output_type": "display_data",
          "data": {
            "text/plain": [
              "<IPython.core.display.HTML object>"
            ],
            "text/html": [
              "Tracking run with wandb version 0.17.0"
            ]
          },
          "metadata": {}
        },
        {
          "output_type": "display_data",
          "data": {
            "text/plain": [
              "<IPython.core.display.HTML object>"
            ],
            "text/html": [
              "Run data is saved locally in <code>/content/wandb/run-20240520_081458-r251yh33</code>"
            ]
          },
          "metadata": {}
        },
        {
          "output_type": "display_data",
          "data": {
            "text/plain": [
              "<IPython.core.display.HTML object>"
            ],
            "text/html": [
              "Syncing run <strong><a href='https://wandb.ai/senich17/Dune-Q/runs/r251yh33' target=\"_blank\">sandy-sweep-1</a></strong> to <a href='https://wandb.ai/senich17/Dune-Q' target=\"_blank\">Weights & Biases</a> (<a href='https://wandb.me/run' target=\"_blank\">docs</a>)<br/>Sweep page: <a href='https://wandb.ai/senich17/Dune-Q/sweeps/mh6e457x' target=\"_blank\">https://wandb.ai/senich17/Dune-Q/sweeps/mh6e457x</a>"
            ]
          },
          "metadata": {}
        },
        {
          "output_type": "display_data",
          "data": {
            "text/plain": [
              "<IPython.core.display.HTML object>"
            ],
            "text/html": [
              " View project at <a href='https://wandb.ai/senich17/Dune-Q' target=\"_blank\">https://wandb.ai/senich17/Dune-Q</a>"
            ]
          },
          "metadata": {}
        },
        {
          "output_type": "display_data",
          "data": {
            "text/plain": [
              "<IPython.core.display.HTML object>"
            ],
            "text/html": [
              " View sweep at <a href='https://wandb.ai/senich17/Dune-Q/sweeps/mh6e457x' target=\"_blank\">https://wandb.ai/senich17/Dune-Q/sweeps/mh6e457x</a>"
            ]
          },
          "metadata": {}
        },
        {
          "output_type": "display_data",
          "data": {
            "text/plain": [
              "<IPython.core.display.HTML object>"
            ],
            "text/html": [
              " View run at <a href='https://wandb.ai/senich17/Dune-Q/runs/r251yh33' target=\"_blank\">https://wandb.ai/senich17/Dune-Q/runs/r251yh33</a>"
            ]
          },
          "metadata": {}
        },
        {
          "output_type": "stream",
          "name": "stdout",
          "text": [
            "Observation space: 500, Action space: 6\n",
            "Episode: 50, Return: -220, AvgReturn[50]: -373\n",
            "Episode: 100, Return: -245, AvgReturn[50]: -274\n",
            "Episode: 150, Return: -308, AvgReturn[50]: -267\n",
            "Episode: 200, Return: -109, AvgReturn[50]: -235\n",
            "Episode: 250, Return: -45, AvgReturn[50]: -243\n",
            "Episode: 300, Return: -290, AvgReturn[50]: -219\n",
            "Episode: 350, Return: -299, AvgReturn[50]: -189\n",
            "Episode: 400, Return: -156, AvgReturn[50]: -210\n",
            "Episode: 450, Return: -236, AvgReturn[50]: -187\n",
            "Episode: 500, Return: -172, AvgReturn[50]: -173\n",
            "Episode: 550, Return: -150, AvgReturn[50]: -163\n",
            "Episode: 600, Return: -219, AvgReturn[50]: -144\n",
            "Episode: 650, Return: -63, AvgReturn[50]: -128\n",
            "Episode: 700, Return: -184, AvgReturn[50]: -124\n",
            "Episode: 750, Return: -137, AvgReturn[50]: -95\n",
            "Episode: 800, Return: -30, AvgReturn[50]: -108\n",
            "Episode: 850, Return: -139, AvgReturn[50]: -96\n",
            "Episode: 900, Return: -31, AvgReturn[50]: -93\n",
            "Episode: 950, Return: -140, AvgReturn[50]: -68\n",
            "Episode: 1000, Return: -109, AvgReturn[50]: -72\n",
            "Episode: 1050, Return: -98, AvgReturn[50]: -82\n",
            "Episode: 1100, Return: 13, AvgReturn[50]: -55\n",
            "Episode: 1150, Return: -8, AvgReturn[50]: -52\n",
            "Episode: 1200, Return: -40, AvgReturn[50]: -41\n",
            "Episode: 1250, Return: -122, AvgReturn[50]: -43\n",
            "Episode: 1300, Return: -9, AvgReturn[50]: -44\n",
            "Episode: 1350, Return: -54, AvgReturn[50]: -33\n",
            "Episode: 1400, Return: -57, AvgReturn[50]: -25\n",
            "Episode: 1450, Return: 2, AvgReturn[50]: -29\n",
            "Episode: 1500, Return: -47, AvgReturn[50]: -22\n",
            "Episode: 1550, Return: 12, AvgReturn[50]: -17\n",
            "Episode: 1600, Return: 3, AvgReturn[50]: -18\n",
            "Episode: 1650, Return: 12, AvgReturn[50]: -19\n",
            "Episode: 1700, Return: 5, AvgReturn[50]: -17\n",
            "Episode: 1750, Return: 1, AvgReturn[50]: -14\n",
            "Episode: 1800, Return: -8, AvgReturn[50]: -12\n",
            "Episode: 1850, Return: 0, AvgReturn[50]: -14\n",
            "Episode: 1900, Return: 8, AvgReturn[50]: -9\n",
            "Episode: 1950, Return: 8, AvgReturn[50]: -9\n",
            "Episode: 2000, Return: -49, AvgReturn[50]: -10\n",
            "Episode: 2050, Return: -15, AvgReturn[50]: -5\n",
            "Episode: 2100, Return: 6, AvgReturn[50]: -1\n",
            "Episode: 2150, Return: 9, AvgReturn[50]: -13\n",
            "Episode: 2200, Return: 0, AvgReturn[50]: -3\n",
            "Episode: 2250, Return: 8, AvgReturn[50]: -6\n",
            "Episode: 2300, Return: 8, AvgReturn[50]: 0\n",
            "Episode: 2350, Return: 7, AvgReturn[50]: -6\n",
            "Episode: 2400, Return: -25, AvgReturn[50]: -3\n",
            "Episode: 2450, Return: -12, AvgReturn[50]: -3\n",
            "Episode: 2500, Return: 10, AvgReturn[50]: -0\n",
            "Episode: 2550, Return: 11, AvgReturn[50]: -0\n",
            "Episode: 2600, Return: -45, AvgReturn[50]: -2\n",
            "Episode: 2650, Return: 8, AvgReturn[50]: -3\n",
            "Episode: 2700, Return: -5, AvgReturn[50]: -2\n",
            "Episode: 2750, Return: 6, AvgReturn[50]: -2\n",
            "Episode: 2800, Return: 9, AvgReturn[50]: -1\n",
            "Episode: 2850, Return: -1, AvgReturn[50]: 1\n",
            "Episode: 2900, Return: 5, AvgReturn[50]: 3\n",
            "Episode: 2950, Return: -1, AvgReturn[50]: 1\n",
            "Episode: 3000, Return: 10, AvgReturn[50]: 1\n"
          ]
        },
        {
          "output_type": "display_data",
          "data": {
            "text/plain": [
              "VBox(children=(Label(value='0.001 MB of 0.001 MB uploaded\\r'), FloatProgress(value=1.0, max=1.0)))"
            ],
            "application/vnd.jupyter.widget-view+json": {
              "version_major": 2,
              "version_minor": 0,
              "model_id": "065907e4041a437bbeae3ac44ea90ffc"
            }
          },
          "metadata": {}
        },
        {
          "output_type": "display_data",
          "data": {
            "text/plain": [
              "<IPython.core.display.HTML object>"
            ],
            "text/html": [
              "<style>\n",
              "    table.wandb td:nth-child(1) { padding: 0 10px; text-align: left ; width: auto;} td:nth-child(2) {text-align: left ; width: 100%}\n",
              "    .wandb-row { display: flex; flex-direction: row; flex-wrap: wrap; justify-content: flex-start; width: 100% }\n",
              "    .wandb-col { display: flex; flex-direction: column; flex-basis: 100%; flex: 1; padding: 10px; }\n",
              "    </style>\n",
              "<div class=\"wandb-row\"><div class=\"wandb-col\"><h3>Run history:</h3><br/><table class=\"wandb\"><tr><td>Action</td><td>▅▁▂▄▁▄▅▁▁▄▄▄▄▄▅▁▄▁▄▇▅▅▅▁▅▄▁▇▁▁▁▁█▄▂▄▁▅▂▅</td></tr><tr><td>Average Return</td><td>▁▃▄▃▄▄▅▅▆▆▆▆▇▇▇▇▇▇▇▇████████████████████</td></tr><tr><td>Episode Return</td><td>▃▂▅▇▁▄▄▄▆▄▇▅▅▅██▅█▆███████▇▇████▇█▇█████</td></tr><tr><td>Next State</td><td>▂▇▁▃█▁██▇▃▃▄▄▅▄▄▂▅▂▅▄▂▇▇▁▃▄▂▄▄▆▆▆█▁▅▇▂▅▄</td></tr><tr><td>Reward</td><td>███████████████████▁████████████▁███████</td></tr><tr><td>State</td><td>▂▇▁▃█▁██▇▃▃▄▄▅▄▄▂▅▂▅▄▂▇▇▁▃▄▂▄▄▆▆▆█▁▅▇▂▅▄</td></tr></table><br/></div><div class=\"wandb-col\"><h3>Run summary:</h3><br/><table class=\"wandb\"><tr><td>Action</td><td>0</td></tr><tr><td>Average Return</td><td>1.22</td></tr><tr><td>Episode Return</td><td>10</td></tr><tr><td>Next State</td><td>479</td></tr><tr><td>Reward</td><td>-1</td></tr><tr><td>State</td><td>479</td></tr></table><br/></div></div>"
            ]
          },
          "metadata": {}
        },
        {
          "output_type": "display_data",
          "data": {
            "text/plain": [
              "<IPython.core.display.HTML object>"
            ],
            "text/html": [
              " View run <strong style=\"color:#cdcd00\">sandy-sweep-1</strong> at: <a href='https://wandb.ai/senich17/Dune-Q/runs/r251yh33' target=\"_blank\">https://wandb.ai/senich17/Dune-Q/runs/r251yh33</a><br/> View project at: <a href='https://wandb.ai/senich17/Dune-Q' target=\"_blank\">https://wandb.ai/senich17/Dune-Q</a><br/>Synced 5 W&B file(s), 0 media file(s), 0 artifact file(s) and 0 other file(s)"
            ]
          },
          "metadata": {}
        },
        {
          "output_type": "display_data",
          "data": {
            "text/plain": [
              "<IPython.core.display.HTML object>"
            ],
            "text/html": [
              "Find logs at: <code>./wandb/run-20240520_081458-r251yh33/logs</code>"
            ]
          },
          "metadata": {}
        },
        {
          "output_type": "stream",
          "name": "stderr",
          "text": [
            "\u001b[34m\u001b[1mwandb\u001b[0m: Agent Starting Run: 519mz5bl with config:\n",
            "\u001b[34m\u001b[1mwandb\u001b[0m: \tn_dreaming_steps: 1\n",
            "\u001b[34m\u001b[1mwandb\u001b[0m: \tn_planning_steps: 5\n",
            "\u001b[34m\u001b[1mwandb\u001b[0m: Currently logged in as: \u001b[33msenich17\u001b[0m. Use \u001b[1m`wandb login --relogin`\u001b[0m to force relogin\n",
            "\u001b[34m\u001b[1mwandb\u001b[0m: \u001b[33mWARNING\u001b[0m Ignored wandb.init() arg project when running a sweep.\n"
          ]
        },
        {
          "output_type": "display_data",
          "data": {
            "text/plain": [
              "<IPython.core.display.HTML object>"
            ],
            "text/html": [
              "Tracking run with wandb version 0.17.0"
            ]
          },
          "metadata": {}
        },
        {
          "output_type": "display_data",
          "data": {
            "text/plain": [
              "<IPython.core.display.HTML object>"
            ],
            "text/html": [
              "Run data is saved locally in <code>/content/wandb/run-20240520_081944-519mz5bl</code>"
            ]
          },
          "metadata": {}
        },
        {
          "output_type": "display_data",
          "data": {
            "text/plain": [
              "<IPython.core.display.HTML object>"
            ],
            "text/html": [
              "Syncing run <strong><a href='https://wandb.ai/senich17/Dune-Q/runs/519mz5bl' target=\"_blank\">classic-sweep-2</a></strong> to <a href='https://wandb.ai/senich17/Dune-Q' target=\"_blank\">Weights & Biases</a> (<a href='https://wandb.me/run' target=\"_blank\">docs</a>)<br/>Sweep page: <a href='https://wandb.ai/senich17/Dune-Q/sweeps/mh6e457x' target=\"_blank\">https://wandb.ai/senich17/Dune-Q/sweeps/mh6e457x</a>"
            ]
          },
          "metadata": {}
        },
        {
          "output_type": "display_data",
          "data": {
            "text/plain": [
              "<IPython.core.display.HTML object>"
            ],
            "text/html": [
              " View project at <a href='https://wandb.ai/senich17/Dune-Q' target=\"_blank\">https://wandb.ai/senich17/Dune-Q</a>"
            ]
          },
          "metadata": {}
        },
        {
          "output_type": "display_data",
          "data": {
            "text/plain": [
              "<IPython.core.display.HTML object>"
            ],
            "text/html": [
              " View sweep at <a href='https://wandb.ai/senich17/Dune-Q/sweeps/mh6e457x' target=\"_blank\">https://wandb.ai/senich17/Dune-Q/sweeps/mh6e457x</a>"
            ]
          },
          "metadata": {}
        },
        {
          "output_type": "display_data",
          "data": {
            "text/plain": [
              "<IPython.core.display.HTML object>"
            ],
            "text/html": [
              " View run at <a href='https://wandb.ai/senich17/Dune-Q/runs/519mz5bl' target=\"_blank\">https://wandb.ai/senich17/Dune-Q/runs/519mz5bl</a>"
            ]
          },
          "metadata": {}
        },
        {
          "output_type": "stream",
          "name": "stdout",
          "text": [
            "Observation space: 500, Action space: 6\n",
            "Episode: 50, Return: -245, AvgReturn[50]: -371\n",
            "Episode: 100, Return: -254, AvgReturn[50]: -270\n",
            "Episode: 150, Return: -47, AvgReturn[50]: -245\n",
            "Episode: 200, Return: -290, AvgReturn[50]: -246\n",
            "Episode: 250, Return: -254, AvgReturn[50]: -223\n",
            "Episode: 300, Return: -249, AvgReturn[50]: -221\n",
            "Episode: 350, Return: -153, AvgReturn[50]: -205\n",
            "Episode: 400, Return: -141, AvgReturn[50]: -193\n",
            "Episode: 450, Return: -59, AvgReturn[50]: -182\n",
            "Episode: 500, Return: -152, AvgReturn[50]: -169\n",
            "Episode: 550, Return: -263, AvgReturn[50]: -146\n",
            "Episode: 600, Return: -272, AvgReturn[50]: -151\n",
            "Episode: 650, Return: -74, AvgReturn[50]: -147\n",
            "Episode: 700, Return: -53, AvgReturn[50]: -139\n",
            "Episode: 750, Return: -47, AvgReturn[50]: -112\n",
            "Episode: 800, Return: -11, AvgReturn[50]: -109\n",
            "Episode: 850, Return: -182, AvgReturn[50]: -100\n",
            "Episode: 900, Return: -150, AvgReturn[50]: -78\n",
            "Episode: 950, Return: -85, AvgReturn[50]: -77\n",
            "Episode: 1000, Return: -15, AvgReturn[50]: -74\n",
            "Episode: 1050, Return: -148, AvgReturn[50]: -63\n",
            "Episode: 1100, Return: -113, AvgReturn[50]: -54\n",
            "Episode: 1150, Return: -48, AvgReturn[50]: -50\n",
            "Episode: 1200, Return: -106, AvgReturn[50]: -61\n",
            "Episode: 1250, Return: -68, AvgReturn[50]: -34\n",
            "Episode: 1300, Return: -23, AvgReturn[50]: -40\n",
            "Episode: 1350, Return: -76, AvgReturn[50]: -45\n",
            "Episode: 1400, Return: -14, AvgReturn[50]: -34\n",
            "Episode: 1450, Return: -7, AvgReturn[50]: -27\n",
            "Episode: 1500, Return: 0, AvgReturn[50]: -23\n",
            "Episode: 1550, Return: -97, AvgReturn[50]: -23\n",
            "Episode: 1600, Return: 5, AvgReturn[50]: -20\n",
            "Episode: 1650, Return: 7, AvgReturn[50]: -18\n",
            "Episode: 1700, Return: -41, AvgReturn[50]: -14\n",
            "Episode: 1750, Return: -11, AvgReturn[50]: -16\n",
            "Episode: 1800, Return: -18, AvgReturn[50]: -17\n",
            "Episode: 1850, Return: 6, AvgReturn[50]: -9\n",
            "Episode: 1900, Return: 11, AvgReturn[50]: -9\n",
            "Episode: 1950, Return: 2, AvgReturn[50]: -7\n",
            "Episode: 2000, Return: -36, AvgReturn[50]: -12\n",
            "Episode: 2050, Return: 12, AvgReturn[50]: -9\n",
            "Episode: 2100, Return: -19, AvgReturn[50]: -11\n",
            "Episode: 2150, Return: -5, AvgReturn[50]: -8\n",
            "Episode: 2200, Return: 1, AvgReturn[50]: -6\n",
            "Episode: 2250, Return: 6, AvgReturn[50]: -5\n",
            "Episode: 2300, Return: 4, AvgReturn[50]: -2\n",
            "Episode: 2350, Return: -30, AvgReturn[50]: -2\n",
            "Episode: 2400, Return: 10, AvgReturn[50]: -4\n",
            "Episode: 2450, Return: 8, AvgReturn[50]: 1\n",
            "Episode: 2500, Return: 10, AvgReturn[50]: -3\n",
            "Episode: 2550, Return: -41, AvgReturn[50]: -3\n",
            "Episode: 2600, Return: -24, AvgReturn[50]: 1\n",
            "Episode: 2650, Return: 10, AvgReturn[50]: -1\n",
            "Episode: 2700, Return: 9, AvgReturn[50]: -0\n",
            "Episode: 2750, Return: -13, AvgReturn[50]: 0\n",
            "Episode: 2800, Return: 0, AvgReturn[50]: 1\n",
            "Episode: 2850, Return: 8, AvgReturn[50]: 1\n",
            "Episode: 2900, Return: 13, AvgReturn[50]: 3\n",
            "Episode: 2950, Return: 7, AvgReturn[50]: -2\n",
            "Episode: 3000, Return: 1, AvgReturn[50]: 2\n"
          ]
        },
        {
          "output_type": "display_data",
          "data": {
            "text/plain": [
              "VBox(children=(Label(value='0.001 MB of 0.001 MB uploaded\\r'), FloatProgress(value=1.0, max=1.0)))"
            ],
            "application/vnd.jupyter.widget-view+json": {
              "version_major": 2,
              "version_minor": 0,
              "model_id": "6aa34cd295794b02b63ecac79e8d8e7d"
            }
          },
          "metadata": {}
        },
        {
          "output_type": "display_data",
          "data": {
            "text/plain": [
              "<IPython.core.display.HTML object>"
            ],
            "text/html": [
              "<style>\n",
              "    table.wandb td:nth-child(1) { padding: 0 10px; text-align: left ; width: auto;} td:nth-child(2) {text-align: left ; width: 100%}\n",
              "    .wandb-row { display: flex; flex-direction: row; flex-wrap: wrap; justify-content: flex-start; width: 100% }\n",
              "    .wandb-col { display: flex; flex-direction: column; flex-basis: 100%; flex: 1; padding: 10px; }\n",
              "    </style>\n",
              "<div class=\"wandb-row\"><div class=\"wandb-col\"><h3>Run history:</h3><br/><table class=\"wandb\"><tr><td>Action</td><td>▁▅█▄▂▅▅▅▂▁▂▅▅▅▄▄▂▅▄▅▂▄▂▂▁▄▅▄▂▂▄▁▄▄▁▁▂▂▂▂</td></tr><tr><td>Average Return</td><td>▁▃▃▄▄▄▅▅▅▅▆▆▇▇▇▇▇▇▇▇████████████████████</td></tr><tr><td>Episode Return</td><td>▂▂▁▂▄▄▄▂▆▆▇▃▆▇▅▇▆▇▇█▅█▇▇██▇████▇██▇█▇███</td></tr><tr><td>Next State</td><td>▇▁▁▂▁▇▄▂▁▆▁▄▅▄▅▅▆▅▃▁▁▁▂▆▄██▃▃▆█▇▅▄▄▆▅▆▃▅</td></tr><tr><td>Reward</td><td>██▁█████████████████████████████████████</td></tr><tr><td>State</td><td>▇▁▁▂▁▇▄▂▁▆▁▄▅▄▅▅▆▅▃▁▁▁▂▆▄██▃▃▆█▇▅▄▄▆▅▆▃▅</td></tr></table><br/></div><div class=\"wandb-col\"><h3>Run summary:</h3><br/><table class=\"wandb\"><tr><td>Action</td><td>3</td></tr><tr><td>Average Return</td><td>2.06</td></tr><tr><td>Episode Return</td><td>1</td></tr><tr><td>Next State</td><td>418</td></tr><tr><td>Reward</td><td>-1</td></tr><tr><td>State</td><td>418</td></tr></table><br/></div></div>"
            ]
          },
          "metadata": {}
        },
        {
          "output_type": "display_data",
          "data": {
            "text/plain": [
              "<IPython.core.display.HTML object>"
            ],
            "text/html": [
              " View run <strong style=\"color:#cdcd00\">classic-sweep-2</strong> at: <a href='https://wandb.ai/senich17/Dune-Q/runs/519mz5bl' target=\"_blank\">https://wandb.ai/senich17/Dune-Q/runs/519mz5bl</a><br/> View project at: <a href='https://wandb.ai/senich17/Dune-Q' target=\"_blank\">https://wandb.ai/senich17/Dune-Q</a><br/>Synced 5 W&B file(s), 0 media file(s), 0 artifact file(s) and 0 other file(s)"
            ]
          },
          "metadata": {}
        },
        {
          "output_type": "display_data",
          "data": {
            "text/plain": [
              "<IPython.core.display.HTML object>"
            ],
            "text/html": [
              "Find logs at: <code>./wandb/run-20240520_081944-519mz5bl/logs</code>"
            ]
          },
          "metadata": {}
        },
        {
          "output_type": "stream",
          "name": "stderr",
          "text": [
            "\u001b[34m\u001b[1mwandb\u001b[0m: Agent Starting Run: 8o54aboo with config:\n",
            "\u001b[34m\u001b[1mwandb\u001b[0m: \tn_dreaming_steps: 1\n",
            "\u001b[34m\u001b[1mwandb\u001b[0m: \tn_planning_steps: 10\n",
            "\u001b[34m\u001b[1mwandb\u001b[0m: \u001b[33mWARNING\u001b[0m Ignored wandb.init() arg project when running a sweep.\n"
          ]
        },
        {
          "output_type": "display_data",
          "data": {
            "text/plain": [
              "<IPython.core.display.HTML object>"
            ],
            "text/html": [
              "Tracking run with wandb version 0.17.0"
            ]
          },
          "metadata": {}
        },
        {
          "output_type": "display_data",
          "data": {
            "text/plain": [
              "<IPython.core.display.HTML object>"
            ],
            "text/html": [
              "Run data is saved locally in <code>/content/wandb/run-20240520_082426-8o54aboo</code>"
            ]
          },
          "metadata": {}
        },
        {
          "output_type": "display_data",
          "data": {
            "text/plain": [
              "<IPython.core.display.HTML object>"
            ],
            "text/html": [
              "Syncing run <strong><a href='https://wandb.ai/senich17/Dune-Q/runs/8o54aboo' target=\"_blank\">laced-sweep-3</a></strong> to <a href='https://wandb.ai/senich17/Dune-Q' target=\"_blank\">Weights & Biases</a> (<a href='https://wandb.me/run' target=\"_blank\">docs</a>)<br/>Sweep page: <a href='https://wandb.ai/senich17/Dune-Q/sweeps/mh6e457x' target=\"_blank\">https://wandb.ai/senich17/Dune-Q/sweeps/mh6e457x</a>"
            ]
          },
          "metadata": {}
        },
        {
          "output_type": "display_data",
          "data": {
            "text/plain": [
              "<IPython.core.display.HTML object>"
            ],
            "text/html": [
              " View project at <a href='https://wandb.ai/senich17/Dune-Q' target=\"_blank\">https://wandb.ai/senich17/Dune-Q</a>"
            ]
          },
          "metadata": {}
        },
        {
          "output_type": "display_data",
          "data": {
            "text/plain": [
              "<IPython.core.display.HTML object>"
            ],
            "text/html": [
              " View sweep at <a href='https://wandb.ai/senich17/Dune-Q/sweeps/mh6e457x' target=\"_blank\">https://wandb.ai/senich17/Dune-Q/sweeps/mh6e457x</a>"
            ]
          },
          "metadata": {}
        },
        {
          "output_type": "display_data",
          "data": {
            "text/plain": [
              "<IPython.core.display.HTML object>"
            ],
            "text/html": [
              " View run at <a href='https://wandb.ai/senich17/Dune-Q/runs/8o54aboo' target=\"_blank\">https://wandb.ai/senich17/Dune-Q/runs/8o54aboo</a>"
            ]
          },
          "metadata": {}
        },
        {
          "output_type": "stream",
          "name": "stdout",
          "text": [
            "Observation space: 500, Action space: 6\n",
            "Episode: 50, Return: -263, AvgReturn[50]: -369\n",
            "Episode: 100, Return: -452, AvgReturn[50]: -255\n",
            "Episode: 150, Return: -290, AvgReturn[50]: -273\n",
            "Episode: 200, Return: -299, AvgReturn[50]: -253\n",
            "Episode: 250, Return: -75, AvgReturn[50]: -237\n",
            "Episode: 300, Return: -62, AvgReturn[50]: -213\n",
            "Episode: 350, Return: -172, AvgReturn[50]: -204\n",
            "Episode: 400, Return: -144, AvgReturn[50]: -190\n",
            "Episode: 450, Return: -281, AvgReturn[50]: -176\n",
            "Episode: 500, Return: -120, AvgReturn[50]: -174\n",
            "Episode: 550, Return: -244, AvgReturn[50]: -161\n",
            "Episode: 600, Return: -272, AvgReturn[50]: -157\n",
            "Episode: 650, Return: -78, AvgReturn[50]: -123\n",
            "Episode: 700, Return: 3, AvgReturn[50]: -125\n",
            "Episode: 750, Return: -78, AvgReturn[50]: -110\n",
            "Episode: 800, Return: -132, AvgReturn[50]: -76\n",
            "Episode: 850, Return: -185, AvgReturn[50]: -90\n",
            "Episode: 900, Return: -213, AvgReturn[50]: -87\n",
            "Episode: 950, Return: -39, AvgReturn[50]: -87\n",
            "Episode: 1000, Return: 4, AvgReturn[50]: -72\n",
            "Episode: 1050, Return: -58, AvgReturn[50]: -64\n",
            "Episode: 1100, Return: 11, AvgReturn[50]: -65\n",
            "Episode: 1150, Return: 10, AvgReturn[50]: -56\n",
            "Episode: 1200, Return: -74, AvgReturn[50]: -50\n",
            "Episode: 1250, Return: -5, AvgReturn[50]: -32\n",
            "Episode: 1300, Return: -1, AvgReturn[50]: -28\n",
            "Episode: 1350, Return: 0, AvgReturn[50]: -41\n",
            "Episode: 1400, Return: -6, AvgReturn[50]: -24\n",
            "Episode: 1450, Return: 2, AvgReturn[50]: -19\n",
            "Episode: 1500, Return: -18, AvgReturn[50]: -25\n",
            "Episode: 1550, Return: -51, AvgReturn[50]: -24\n",
            "Episode: 1600, Return: 2, AvgReturn[50]: -17\n",
            "Episode: 1650, Return: 7, AvgReturn[50]: -11\n",
            "Episode: 1700, Return: -11, AvgReturn[50]: -13\n",
            "Episode: 1750, Return: -64, AvgReturn[50]: -12\n",
            "Episode: 1800, Return: 13, AvgReturn[50]: -9\n",
            "Episode: 1850, Return: 1, AvgReturn[50]: -11\n",
            "Episode: 1900, Return: 7, AvgReturn[50]: -4\n",
            "Episode: 1950, Return: 4, AvgReturn[50]: -10\n",
            "Episode: 2000, Return: 4, AvgReturn[50]: -11\n",
            "Episode: 2050, Return: -41, AvgReturn[50]: -4\n",
            "Episode: 2100, Return: 6, AvgReturn[50]: -8\n",
            "Episode: 2150, Return: 7, AvgReturn[50]: -6\n",
            "Episode: 2200, Return: -18, AvgReturn[50]: -5\n",
            "Episode: 2250, Return: 2, AvgReturn[50]: -6\n",
            "Episode: 2300, Return: 10, AvgReturn[50]: -1\n",
            "Episode: 2350, Return: 8, AvgReturn[50]: -3\n",
            "Episode: 2400, Return: -13, AvgReturn[50]: -5\n",
            "Episode: 2450, Return: 0, AvgReturn[50]: -4\n",
            "Episode: 2500, Return: 3, AvgReturn[50]: 2\n",
            "Episode: 2550, Return: -3, AvgReturn[50]: -3\n",
            "Episode: 2600, Return: 9, AvgReturn[50]: 1\n",
            "Episode: 2650, Return: -22, AvgReturn[50]: 1\n",
            "Episode: 2700, Return: 9, AvgReturn[50]: -2\n",
            "Episode: 2750, Return: -39, AvgReturn[50]: 0\n",
            "Episode: 2800, Return: 9, AvgReturn[50]: 2\n",
            "Episode: 2850, Return: 9, AvgReturn[50]: 2\n",
            "Episode: 2900, Return: -6, AvgReturn[50]: 1\n",
            "Episode: 2950, Return: -7, AvgReturn[50]: -0\n",
            "Episode: 3000, Return: -6, AvgReturn[50]: 1\n"
          ]
        },
        {
          "output_type": "display_data",
          "data": {
            "text/plain": [
              "VBox(children=(Label(value='0.001 MB of 0.001 MB uploaded\\r'), FloatProgress(value=1.0, max=1.0)))"
            ],
            "application/vnd.jupyter.widget-view+json": {
              "version_major": 2,
              "version_minor": 0,
              "model_id": "75754d6ed2d94d238363e435698a2edb"
            }
          },
          "metadata": {}
        },
        {
          "output_type": "display_data",
          "data": {
            "text/plain": [
              "<IPython.core.display.HTML object>"
            ],
            "text/html": [
              "<style>\n",
              "    table.wandb td:nth-child(1) { padding: 0 10px; text-align: left ; width: auto;} td:nth-child(2) {text-align: left ; width: 100%}\n",
              "    .wandb-row { display: flex; flex-direction: row; flex-wrap: wrap; justify-content: flex-start; width: 100% }\n",
              "    .wandb-col { display: flex; flex-direction: column; flex-basis: 100%; flex: 1; padding: 10px; }\n",
              "    </style>\n",
              "<div class=\"wandb-row\"><div class=\"wandb-col\"><h3>Run history:</h3><br/><table class=\"wandb\"><tr><td>Action</td><td>▁▂▄▄▂▁▅▅▁▅▁▄▅▁█▂▂▄▄▁▄▅▄▁▄▅▄▂▁▁▁▅▅▅▄▇▄▁▁▁</td></tr><tr><td>Average Return</td><td>▁▃▃▃▄▄▅▅▆▆▇▆▆▇▇▇▇▇██████████████████████</td></tr><tr><td>Episode Return</td><td>▄▁▃▇▅▆▆▄▇█▆▅▇███████▇██▇███▇████████▇███</td></tr><tr><td>Next State</td><td>▆▁▇▅▁█▃▂█▂▇▃▆▄▄▆▄▃▆▂▆▇▃▅▄▄▁▅▅▅▅▃▄▁▅▁▁▄█▃</td></tr><tr><td>Reward</td><td>██████████████▁█████████████████████████</td></tr><tr><td>State</td><td>▆▁▇▅▁█▃▂█▂▇▃▆▄▄▆▄▃▆▂▆▇▃▅▄▄▁▅▅▅▅▃▄▁▅▁▁▄█▃</td></tr></table><br/></div><div class=\"wandb-col\"><h3>Run summary:</h3><br/><table class=\"wandb\"><tr><td>Action</td><td>1</td></tr><tr><td>Average Return</td><td>0.74</td></tr><tr><td>Episode Return</td><td>-6</td></tr><tr><td>Next State</td><td>16</td></tr><tr><td>Reward</td><td>-1</td></tr><tr><td>State</td><td>16</td></tr></table><br/></div></div>"
            ]
          },
          "metadata": {}
        },
        {
          "output_type": "display_data",
          "data": {
            "text/plain": [
              "<IPython.core.display.HTML object>"
            ],
            "text/html": [
              " View run <strong style=\"color:#cdcd00\">laced-sweep-3</strong> at: <a href='https://wandb.ai/senich17/Dune-Q/runs/8o54aboo' target=\"_blank\">https://wandb.ai/senich17/Dune-Q/runs/8o54aboo</a><br/> View project at: <a href='https://wandb.ai/senich17/Dune-Q' target=\"_blank\">https://wandb.ai/senich17/Dune-Q</a><br/>Synced 5 W&B file(s), 0 media file(s), 0 artifact file(s) and 0 other file(s)"
            ]
          },
          "metadata": {}
        },
        {
          "output_type": "display_data",
          "data": {
            "text/plain": [
              "<IPython.core.display.HTML object>"
            ],
            "text/html": [
              "Find logs at: <code>./wandb/run-20240520_082426-8o54aboo/logs</code>"
            ]
          },
          "metadata": {}
        },
        {
          "output_type": "stream",
          "name": "stderr",
          "text": [
            "\u001b[34m\u001b[1mwandb\u001b[0m: Agent Starting Run: izcibsa2 with config:\n",
            "\u001b[34m\u001b[1mwandb\u001b[0m: \tn_dreaming_steps: 3\n",
            "\u001b[34m\u001b[1mwandb\u001b[0m: \tn_planning_steps: 1\n",
            "\u001b[34m\u001b[1mwandb\u001b[0m: \u001b[33mWARNING\u001b[0m Ignored wandb.init() arg project when running a sweep.\n"
          ]
        },
        {
          "output_type": "display_data",
          "data": {
            "text/plain": [
              "<IPython.core.display.HTML object>"
            ],
            "text/html": [
              "Tracking run with wandb version 0.17.0"
            ]
          },
          "metadata": {}
        },
        {
          "output_type": "display_data",
          "data": {
            "text/plain": [
              "<IPython.core.display.HTML object>"
            ],
            "text/html": [
              "Run data is saved locally in <code>/content/wandb/run-20240520_082908-izcibsa2</code>"
            ]
          },
          "metadata": {}
        },
        {
          "output_type": "display_data",
          "data": {
            "text/plain": [
              "<IPython.core.display.HTML object>"
            ],
            "text/html": [
              "Syncing run <strong><a href='https://wandb.ai/senich17/Dune-Q/runs/izcibsa2' target=\"_blank\">hardy-sweep-4</a></strong> to <a href='https://wandb.ai/senich17/Dune-Q' target=\"_blank\">Weights & Biases</a> (<a href='https://wandb.me/run' target=\"_blank\">docs</a>)<br/>Sweep page: <a href='https://wandb.ai/senich17/Dune-Q/sweeps/mh6e457x' target=\"_blank\">https://wandb.ai/senich17/Dune-Q/sweeps/mh6e457x</a>"
            ]
          },
          "metadata": {}
        },
        {
          "output_type": "display_data",
          "data": {
            "text/plain": [
              "<IPython.core.display.HTML object>"
            ],
            "text/html": [
              " View project at <a href='https://wandb.ai/senich17/Dune-Q' target=\"_blank\">https://wandb.ai/senich17/Dune-Q</a>"
            ]
          },
          "metadata": {}
        },
        {
          "output_type": "display_data",
          "data": {
            "text/plain": [
              "<IPython.core.display.HTML object>"
            ],
            "text/html": [
              " View sweep at <a href='https://wandb.ai/senich17/Dune-Q/sweeps/mh6e457x' target=\"_blank\">https://wandb.ai/senich17/Dune-Q/sweeps/mh6e457x</a>"
            ]
          },
          "metadata": {}
        },
        {
          "output_type": "display_data",
          "data": {
            "text/plain": [
              "<IPython.core.display.HTML object>"
            ],
            "text/html": [
              " View run at <a href='https://wandb.ai/senich17/Dune-Q/runs/izcibsa2' target=\"_blank\">https://wandb.ai/senich17/Dune-Q/runs/izcibsa2</a>"
            ]
          },
          "metadata": {}
        },
        {
          "output_type": "stream",
          "name": "stdout",
          "text": [
            "Observation space: 500, Action space: 6\n",
            "Episode: 50, Return: -200, AvgReturn[50]: -377\n",
            "Episode: 100, Return: -272, AvgReturn[50]: -270\n",
            "Episode: 150, Return: -219, AvgReturn[50]: -253\n",
            "Episode: 200, Return: -254, AvgReturn[50]: -247\n",
            "Episode: 250, Return: -271, AvgReturn[50]: -232\n",
            "Episode: 300, Return: 6, AvgReturn[50]: -219\n",
            "Episode: 350, Return: -290, AvgReturn[50]: -220\n",
            "Episode: 400, Return: -272, AvgReturn[50]: -200\n",
            "Episode: 450, Return: -326, AvgReturn[50]: -175\n",
            "Episode: 500, Return: -259, AvgReturn[50]: -153\n",
            "Episode: 550, Return: -294, AvgReturn[50]: -160\n",
            "Episode: 600, Return: -371, AvgReturn[50]: -139\n",
            "Episode: 650, Return: -5, AvgReturn[50]: -146\n",
            "Episode: 700, Return: 10, AvgReturn[50]: -132\n",
            "Episode: 750, Return: -308, AvgReturn[50]: -102\n",
            "Episode: 800, Return: -43, AvgReturn[50]: -88\n",
            "Episode: 850, Return: -192, AvgReturn[50]: -92\n",
            "Episode: 900, Return: -94, AvgReturn[50]: -84\n",
            "Episode: 950, Return: -82, AvgReturn[50]: -80\n",
            "Episode: 1000, Return: -49, AvgReturn[50]: -79\n",
            "Episode: 1050, Return: -25, AvgReturn[50]: -58\n",
            "Episode: 1100, Return: 10, AvgReturn[50]: -73\n",
            "Episode: 1150, Return: -54, AvgReturn[50]: -54\n",
            "Episode: 1200, Return: -31, AvgReturn[50]: -52\n",
            "Episode: 1250, Return: -42, AvgReturn[50]: -42\n",
            "Episode: 1300, Return: -57, AvgReturn[50]: -29\n",
            "Episode: 1350, Return: 13, AvgReturn[50]: -29\n",
            "Episode: 1400, Return: -4, AvgReturn[50]: -22\n",
            "Episode: 1450, Return: -19, AvgReturn[50]: -29\n",
            "Episode: 1500, Return: -14, AvgReturn[50]: -17\n",
            "Episode: 1550, Return: -2, AvgReturn[50]: -23\n",
            "Episode: 1600, Return: 0, AvgReturn[50]: -16\n",
            "Episode: 1650, Return: 9, AvgReturn[50]: -24\n",
            "Episode: 1700, Return: -6, AvgReturn[50]: -13\n",
            "Episode: 1750, Return: 8, AvgReturn[50]: -15\n",
            "Episode: 1800, Return: -61, AvgReturn[50]: -13\n",
            "Episode: 1850, Return: 4, AvgReturn[50]: -10\n",
            "Episode: 1900, Return: -10, AvgReturn[50]: -6\n",
            "Episode: 1950, Return: 8, AvgReturn[50]: -14\n",
            "Episode: 2000, Return: 10, AvgReturn[50]: -4\n",
            "Episode: 2050, Return: -15, AvgReturn[50]: -6\n",
            "Episode: 2100, Return: 12, AvgReturn[50]: -9\n",
            "Episode: 2150, Return: 12, AvgReturn[50]: -2\n",
            "Episode: 2200, Return: -4, AvgReturn[50]: -4\n",
            "Episode: 2250, Return: 7, AvgReturn[50]: -4\n",
            "Episode: 2300, Return: -7, AvgReturn[50]: -1\n",
            "Episode: 2350, Return: -25, AvgReturn[50]: -3\n",
            "Episode: 2400, Return: 11, AvgReturn[50]: -6\n",
            "Episode: 2450, Return: 6, AvgReturn[50]: -0\n",
            "Episode: 2500, Return: 3, AvgReturn[50]: -6\n",
            "Episode: 2550, Return: 2, AvgReturn[50]: 0\n",
            "Episode: 2600, Return: 12, AvgReturn[50]: -1\n",
            "Episode: 2650, Return: 9, AvgReturn[50]: -1\n",
            "Episode: 2700, Return: 9, AvgReturn[50]: 1\n",
            "Episode: 2750, Return: -2, AvgReturn[50]: 1\n",
            "Episode: 2800, Return: 7, AvgReturn[50]: -1\n",
            "Episode: 2850, Return: -26, AvgReturn[50]: -1\n",
            "Episode: 2900, Return: 9, AvgReturn[50]: 5\n",
            "Episode: 2950, Return: -8, AvgReturn[50]: 1\n",
            "Episode: 3000, Return: 10, AvgReturn[50]: 3\n"
          ]
        },
        {
          "output_type": "display_data",
          "data": {
            "text/plain": [
              "VBox(children=(Label(value='0.001 MB of 0.001 MB uploaded\\r'), FloatProgress(value=1.0, max=1.0)))"
            ],
            "application/vnd.jupyter.widget-view+json": {
              "version_major": 2,
              "version_minor": 0,
              "model_id": "f78f03fc3fa94a9ab6874f2cacdbf560"
            }
          },
          "metadata": {}
        },
        {
          "output_type": "display_data",
          "data": {
            "text/plain": [
              "<IPython.core.display.HTML object>"
            ],
            "text/html": [
              "<style>\n",
              "    table.wandb td:nth-child(1) { padding: 0 10px; text-align: left ; width: auto;} td:nth-child(2) {text-align: left ; width: 100%}\n",
              "    .wandb-row { display: flex; flex-direction: row; flex-wrap: wrap; justify-content: flex-start; width: 100% }\n",
              "    .wandb-col { display: flex; flex-direction: column; flex-basis: 100%; flex: 1; padding: 10px; }\n",
              "    </style>\n",
              "<div class=\"wandb-row\"><div class=\"wandb-col\"><h3>Run history:</h3><br/><table class=\"wandb\"><tr><td>Action</td><td>█▆▃▃█▆▅▃▃▅▅▆▃▅▃▁▆▆▃▃▃▃▁▅▅█▃▆▅▆█▃▆▃▅▃▆▆▅▆</td></tr><tr><td>Average Return</td><td>▁▃▃▄▄▄▅▅▅▅▆▆▆▆▇▇▇▇█▇▇███████████████████</td></tr><tr><td>Episode Return</td><td>▃▂▂▂▁▂▂▁██▇▃▆▇█▆▇▆█▇█████▇█▇███▇████████</td></tr><tr><td>Next State</td><td>▇▃▂▆▅▅▇▁▄█▁▂▂▂▇▃▄▅▁▃▄▆▃▃▂▅▆▇▁▆▂▇▇▇▆▆▅█▆▅</td></tr><tr><td>Reward</td><td>▁███▁████████████████████▁██████████████</td></tr><tr><td>State</td><td>▇▃▂▆▅▅▇▁▄█▁▂▂▂▇▃▄▅▁▃▄▆▃▃▂▅▆▇▁▆▂▇▇▇▆▆▅█▆▅</td></tr></table><br/></div><div class=\"wandb-col\"><h3>Run summary:</h3><br/><table class=\"wandb\"><tr><td>Action</td><td>1</td></tr><tr><td>Average Return</td><td>2.58</td></tr><tr><td>Episode Return</td><td>10</td></tr><tr><td>Next State</td><td>97</td></tr><tr><td>Reward</td><td>-1</td></tr><tr><td>State</td><td>97</td></tr></table><br/></div></div>"
            ]
          },
          "metadata": {}
        },
        {
          "output_type": "display_data",
          "data": {
            "text/plain": [
              "<IPython.core.display.HTML object>"
            ],
            "text/html": [
              " View run <strong style=\"color:#cdcd00\">hardy-sweep-4</strong> at: <a href='https://wandb.ai/senich17/Dune-Q/runs/izcibsa2' target=\"_blank\">https://wandb.ai/senich17/Dune-Q/runs/izcibsa2</a><br/> View project at: <a href='https://wandb.ai/senich17/Dune-Q' target=\"_blank\">https://wandb.ai/senich17/Dune-Q</a><br/>Synced 5 W&B file(s), 0 media file(s), 0 artifact file(s) and 0 other file(s)"
            ]
          },
          "metadata": {}
        },
        {
          "output_type": "display_data",
          "data": {
            "text/plain": [
              "<IPython.core.display.HTML object>"
            ],
            "text/html": [
              "Find logs at: <code>./wandb/run-20240520_082908-izcibsa2/logs</code>"
            ]
          },
          "metadata": {}
        },
        {
          "output_type": "stream",
          "name": "stderr",
          "text": [
            "\u001b[34m\u001b[1mwandb\u001b[0m: Agent Starting Run: n0x9fv9s with config:\n",
            "\u001b[34m\u001b[1mwandb\u001b[0m: \tn_dreaming_steps: 3\n",
            "\u001b[34m\u001b[1mwandb\u001b[0m: \tn_planning_steps: 5\n",
            "\u001b[34m\u001b[1mwandb\u001b[0m: \u001b[33mWARNING\u001b[0m Ignored wandb.init() arg project when running a sweep.\n"
          ]
        },
        {
          "output_type": "display_data",
          "data": {
            "text/plain": [
              "<IPython.core.display.HTML object>"
            ],
            "text/html": [
              "Tracking run with wandb version 0.17.0"
            ]
          },
          "metadata": {}
        },
        {
          "output_type": "display_data",
          "data": {
            "text/plain": [
              "<IPython.core.display.HTML object>"
            ],
            "text/html": [
              "Run data is saved locally in <code>/content/wandb/run-20240520_083355-n0x9fv9s</code>"
            ]
          },
          "metadata": {}
        },
        {
          "output_type": "display_data",
          "data": {
            "text/plain": [
              "<IPython.core.display.HTML object>"
            ],
            "text/html": [
              "Syncing run <strong><a href='https://wandb.ai/senich17/Dune-Q/runs/n0x9fv9s' target=\"_blank\">easy-sweep-5</a></strong> to <a href='https://wandb.ai/senich17/Dune-Q' target=\"_blank\">Weights & Biases</a> (<a href='https://wandb.me/run' target=\"_blank\">docs</a>)<br/>Sweep page: <a href='https://wandb.ai/senich17/Dune-Q/sweeps/mh6e457x' target=\"_blank\">https://wandb.ai/senich17/Dune-Q/sweeps/mh6e457x</a>"
            ]
          },
          "metadata": {}
        },
        {
          "output_type": "display_data",
          "data": {
            "text/plain": [
              "<IPython.core.display.HTML object>"
            ],
            "text/html": [
              " View project at <a href='https://wandb.ai/senich17/Dune-Q' target=\"_blank\">https://wandb.ai/senich17/Dune-Q</a>"
            ]
          },
          "metadata": {}
        },
        {
          "output_type": "display_data",
          "data": {
            "text/plain": [
              "<IPython.core.display.HTML object>"
            ],
            "text/html": [
              " View sweep at <a href='https://wandb.ai/senich17/Dune-Q/sweeps/mh6e457x' target=\"_blank\">https://wandb.ai/senich17/Dune-Q/sweeps/mh6e457x</a>"
            ]
          },
          "metadata": {}
        },
        {
          "output_type": "display_data",
          "data": {
            "text/plain": [
              "<IPython.core.display.HTML object>"
            ],
            "text/html": [
              " View run at <a href='https://wandb.ai/senich17/Dune-Q/runs/n0x9fv9s' target=\"_blank\">https://wandb.ai/senich17/Dune-Q/runs/n0x9fv9s</a>"
            ]
          },
          "metadata": {}
        },
        {
          "output_type": "stream",
          "name": "stdout",
          "text": [
            "Observation space: 500, Action space: 6\n",
            "Episode: 50, Return: -380, AvgReturn[50]: -379\n",
            "Episode: 100, Return: -245, AvgReturn[50]: -265\n",
            "Episode: 150, Return: -22, AvgReturn[50]: -259\n",
            "Episode: 200, Return: -225, AvgReturn[50]: -245\n",
            "Episode: 250, Return: -272, AvgReturn[50]: -230\n",
            "Episode: 300, Return: -254, AvgReturn[50]: -209\n",
            "Episode: 350, Return: -24, AvgReturn[50]: -216\n",
            "Episode: 400, Return: -317, AvgReturn[50]: -204\n",
            "Episode: 450, Return: -281, AvgReturn[50]: -181\n",
            "Episode: 500, Return: -294, AvgReturn[50]: -184\n",
            "Episode: 550, Return: -265, AvgReturn[50]: -136\n",
            "Episode: 600, Return: -106, AvgReturn[50]: -129\n",
            "Episode: 650, Return: -34, AvgReturn[50]: -136\n",
            "Episode: 700, Return: -122, AvgReturn[50]: -125\n",
            "Episode: 750, Return: -33, AvgReturn[50]: -114\n",
            "Episode: 800, Return: -4, AvgReturn[50]: -128\n",
            "Episode: 850, Return: 13, AvgReturn[50]: -103\n",
            "Episode: 900, Return: -139, AvgReturn[50]: -60\n",
            "Episode: 950, Return: -158, AvgReturn[50]: -77\n",
            "Episode: 1000, Return: -35, AvgReturn[50]: -67\n",
            "Episode: 1050, Return: -21, AvgReturn[50]: -79\n",
            "Episode: 1100, Return: 1, AvgReturn[50]: -48\n",
            "Episode: 1150, Return: -108, AvgReturn[50]: -42\n",
            "Episode: 1200, Return: -22, AvgReturn[50]: -37\n",
            "Episode: 1250, Return: -227, AvgReturn[50]: -32\n",
            "Episode: 1300, Return: -37, AvgReturn[50]: -33\n",
            "Episode: 1350, Return: -33, AvgReturn[50]: -44\n",
            "Episode: 1400, Return: -55, AvgReturn[50]: -27\n",
            "Episode: 1450, Return: -105, AvgReturn[50]: -19\n",
            "Episode: 1500, Return: -50, AvgReturn[50]: -24\n",
            "Episode: 1550, Return: -59, AvgReturn[50]: -18\n",
            "Episode: 1600, Return: -49, AvgReturn[50]: -20\n",
            "Episode: 1650, Return: -27, AvgReturn[50]: -16\n",
            "Episode: 1700, Return: -62, AvgReturn[50]: -22\n",
            "Episode: 1750, Return: 2, AvgReturn[50]: -19\n",
            "Episode: 1800, Return: -15, AvgReturn[50]: -13\n",
            "Episode: 1850, Return: -7, AvgReturn[50]: -12\n",
            "Episode: 1900, Return: 3, AvgReturn[50]: -6\n",
            "Episode: 1950, Return: -12, AvgReturn[50]: -7\n",
            "Episode: 2000, Return: 8, AvgReturn[50]: -6\n",
            "Episode: 2050, Return: -29, AvgReturn[50]: -7\n",
            "Episode: 2100, Return: 1, AvgReturn[50]: -8\n",
            "Episode: 2150, Return: 9, AvgReturn[50]: -3\n",
            "Episode: 2200, Return: 14, AvgReturn[50]: -2\n",
            "Episode: 2250, Return: 5, AvgReturn[50]: -2\n",
            "Episode: 2300, Return: -3, AvgReturn[50]: -3\n",
            "Episode: 2350, Return: 10, AvgReturn[50]: -1\n",
            "Episode: 2400, Return: 5, AvgReturn[50]: -2\n",
            "Episode: 2450, Return: 3, AvgReturn[50]: -3\n",
            "Episode: 2500, Return: 0, AvgReturn[50]: -3\n",
            "Episode: 2550, Return: 2, AvgReturn[50]: -1\n",
            "Episode: 2600, Return: -6, AvgReturn[50]: -2\n",
            "Episode: 2650, Return: 8, AvgReturn[50]: 2\n",
            "Episode: 2700, Return: 13, AvgReturn[50]: 3\n",
            "Episode: 2750, Return: 5, AvgReturn[50]: 2\n",
            "Episode: 2800, Return: -7, AvgReturn[50]: 3\n",
            "Episode: 2850, Return: -3, AvgReturn[50]: 0\n",
            "Episode: 2900, Return: 6, AvgReturn[50]: 1\n",
            "Episode: 2950, Return: 7, AvgReturn[50]: 2\n",
            "Episode: 3000, Return: 5, AvgReturn[50]: 2\n"
          ]
        },
        {
          "output_type": "display_data",
          "data": {
            "text/plain": [
              "VBox(children=(Label(value='0.001 MB of 0.001 MB uploaded\\r'), FloatProgress(value=1.0, max=1.0)))"
            ],
            "application/vnd.jupyter.widget-view+json": {
              "version_major": 2,
              "version_minor": 0,
              "model_id": "70e0a95dc7af40898f85aa1dc0b5519f"
            }
          },
          "metadata": {}
        },
        {
          "output_type": "display_data",
          "data": {
            "text/plain": [
              "<IPython.core.display.HTML object>"
            ],
            "text/html": [
              "<style>\n",
              "    table.wandb td:nth-child(1) { padding: 0 10px; text-align: left ; width: auto;} td:nth-child(2) {text-align: left ; width: 100%}\n",
              "    .wandb-row { display: flex; flex-direction: row; flex-wrap: wrap; justify-content: flex-start; width: 100% }\n",
              "    .wandb-col { display: flex; flex-direction: column; flex-basis: 100%; flex: 1; padding: 10px; }\n",
              "    </style>\n",
              "<div class=\"wandb-row\"><div class=\"wandb-col\"><h3>Run history:</h3><br/><table class=\"wandb\"><tr><td>Action</td><td>█▃▃▅▃▁▃▆▁▁▅▃▆▅▃▅▁▁▁▅▅▃▁▆█▅▆▅▆▃▆▅▁▆▅▅▅▆▃▆</td></tr><tr><td>Average Return</td><td>▁▃▃▄▄▄▅▅▅▆▆▆▇▇▇▇▇▇▇█████████████████████</td></tr><tr><td>Episode Return</td><td>▁▃▄▃▇▂▃▃▇▆██▅▇█▆▄▇▇▆▇▇▇████▇████████████</td></tr><tr><td>Next State</td><td>█▅▂▄▃▅▃▆▇█▂▆▅▂▂█▆█▇▅▄▅▇▆▂█▅▇▁▂▄▆▄▇▅▄▅▅▃▂</td></tr><tr><td>Reward</td><td>▁███████████████████████▁███████████████</td></tr><tr><td>State</td><td>█▅▂▄▃▅▃▆▇█▂▆▅▂▂█▆█▇▅▄▅▇▆▂█▅▇▁▂▄▆▄▇▅▄▅▅▃▂</td></tr></table><br/></div><div class=\"wandb-col\"><h3>Run summary:</h3><br/><table class=\"wandb\"><tr><td>Action</td><td>1</td></tr><tr><td>Average Return</td><td>2.06</td></tr><tr><td>Episode Return</td><td>5</td></tr><tr><td>Next State</td><td>97</td></tr><tr><td>Reward</td><td>-1</td></tr><tr><td>State</td><td>97</td></tr></table><br/></div></div>"
            ]
          },
          "metadata": {}
        },
        {
          "output_type": "display_data",
          "data": {
            "text/plain": [
              "<IPython.core.display.HTML object>"
            ],
            "text/html": [
              " View run <strong style=\"color:#cdcd00\">easy-sweep-5</strong> at: <a href='https://wandb.ai/senich17/Dune-Q/runs/n0x9fv9s' target=\"_blank\">https://wandb.ai/senich17/Dune-Q/runs/n0x9fv9s</a><br/> View project at: <a href='https://wandb.ai/senich17/Dune-Q' target=\"_blank\">https://wandb.ai/senich17/Dune-Q</a><br/>Synced 5 W&B file(s), 0 media file(s), 0 artifact file(s) and 0 other file(s)"
            ]
          },
          "metadata": {}
        },
        {
          "output_type": "display_data",
          "data": {
            "text/plain": [
              "<IPython.core.display.HTML object>"
            ],
            "text/html": [
              "Find logs at: <code>./wandb/run-20240520_083355-n0x9fv9s/logs</code>"
            ]
          },
          "metadata": {}
        },
        {
          "output_type": "stream",
          "name": "stdout",
          "text": [
            "Error in callback <bound method _WandbInit._pause_backend of <wandb.sdk.wandb_init._WandbInit object at 0x796d1e87a980>> (for post_run_cell):\n"
          ]
        },
        {
          "output_type": "error",
          "ename": "BrokenPipeError",
          "evalue": "[Errno 32] Broken pipe",
          "traceback": [
            "\u001b[0;31m---------------------------------------------------------------------------\u001b[0m",
            "\u001b[0;31mBrokenPipeError\u001b[0m                           Traceback (most recent call last)",
            "\u001b[0;32m/usr/local/lib/python3.10/dist-packages/wandb/sdk/wandb_init.py\u001b[0m in \u001b[0;36m_pause_backend\u001b[0;34m(self, *args, **kwargs)\u001b[0m\n\u001b[1;32m    430\u001b[0m         \u001b[0;32mif\u001b[0m \u001b[0mself\u001b[0m\u001b[0;34m.\u001b[0m\u001b[0mbackend\u001b[0m\u001b[0;34m.\u001b[0m\u001b[0minterface\u001b[0m \u001b[0;32mis\u001b[0m \u001b[0;32mnot\u001b[0m \u001b[0;32mNone\u001b[0m\u001b[0;34m:\u001b[0m\u001b[0;34m\u001b[0m\u001b[0;34m\u001b[0m\u001b[0m\n\u001b[1;32m    431\u001b[0m             \u001b[0mlogger\u001b[0m\u001b[0;34m.\u001b[0m\u001b[0minfo\u001b[0m\u001b[0;34m(\u001b[0m\u001b[0;34m\"pausing backend\"\u001b[0m\u001b[0;34m)\u001b[0m  \u001b[0;31m# type: ignore\u001b[0m\u001b[0;34m\u001b[0m\u001b[0;34m\u001b[0m\u001b[0m\n\u001b[0;32m--> 432\u001b[0;31m             \u001b[0mself\u001b[0m\u001b[0;34m.\u001b[0m\u001b[0mbackend\u001b[0m\u001b[0;34m.\u001b[0m\u001b[0minterface\u001b[0m\u001b[0;34m.\u001b[0m\u001b[0mpublish_pause\u001b[0m\u001b[0;34m(\u001b[0m\u001b[0;34m)\u001b[0m\u001b[0;34m\u001b[0m\u001b[0;34m\u001b[0m\u001b[0m\n\u001b[0m\u001b[1;32m    433\u001b[0m \u001b[0;34m\u001b[0m\u001b[0m\n\u001b[1;32m    434\u001b[0m     \u001b[0;32mdef\u001b[0m \u001b[0m_resume_backend\u001b[0m\u001b[0;34m(\u001b[0m\u001b[0mself\u001b[0m\u001b[0;34m,\u001b[0m \u001b[0;34m*\u001b[0m\u001b[0margs\u001b[0m\u001b[0;34m:\u001b[0m \u001b[0mAny\u001b[0m\u001b[0;34m,\u001b[0m \u001b[0;34m**\u001b[0m\u001b[0mkwargs\u001b[0m\u001b[0;34m:\u001b[0m \u001b[0mAny\u001b[0m\u001b[0;34m)\u001b[0m \u001b[0;34m->\u001b[0m \u001b[0;32mNone\u001b[0m\u001b[0;34m:\u001b[0m  \u001b[0;31m#  noqa\u001b[0m\u001b[0;34m\u001b[0m\u001b[0;34m\u001b[0m\u001b[0m\n",
            "\u001b[0;32m/usr/local/lib/python3.10/dist-packages/wandb/sdk/interface/interface.py\u001b[0m in \u001b[0;36mpublish_pause\u001b[0;34m(self)\u001b[0m\n\u001b[1;32m    696\u001b[0m     \u001b[0;32mdef\u001b[0m \u001b[0mpublish_pause\u001b[0m\u001b[0;34m(\u001b[0m\u001b[0mself\u001b[0m\u001b[0;34m)\u001b[0m \u001b[0;34m->\u001b[0m \u001b[0;32mNone\u001b[0m\u001b[0;34m:\u001b[0m\u001b[0;34m\u001b[0m\u001b[0;34m\u001b[0m\u001b[0m\n\u001b[1;32m    697\u001b[0m         \u001b[0mpause\u001b[0m \u001b[0;34m=\u001b[0m \u001b[0mpb\u001b[0m\u001b[0;34m.\u001b[0m\u001b[0mPauseRequest\u001b[0m\u001b[0;34m(\u001b[0m\u001b[0;34m)\u001b[0m\u001b[0;34m\u001b[0m\u001b[0;34m\u001b[0m\u001b[0m\n\u001b[0;32m--> 698\u001b[0;31m         \u001b[0mself\u001b[0m\u001b[0;34m.\u001b[0m\u001b[0m_publish_pause\u001b[0m\u001b[0;34m(\u001b[0m\u001b[0mpause\u001b[0m\u001b[0;34m)\u001b[0m\u001b[0;34m\u001b[0m\u001b[0;34m\u001b[0m\u001b[0m\n\u001b[0m\u001b[1;32m    699\u001b[0m \u001b[0;34m\u001b[0m\u001b[0m\n\u001b[1;32m    700\u001b[0m     \u001b[0;34m@\u001b[0m\u001b[0mabstractmethod\u001b[0m\u001b[0;34m\u001b[0m\u001b[0;34m\u001b[0m\u001b[0m\n",
            "\u001b[0;32m/usr/local/lib/python3.10/dist-packages/wandb/sdk/interface/interface_shared.py\u001b[0m in \u001b[0;36m_publish_pause\u001b[0;34m(self, pause)\u001b[0m\n\u001b[1;32m    357\u001b[0m     \u001b[0;32mdef\u001b[0m \u001b[0m_publish_pause\u001b[0m\u001b[0;34m(\u001b[0m\u001b[0mself\u001b[0m\u001b[0;34m,\u001b[0m \u001b[0mpause\u001b[0m\u001b[0;34m:\u001b[0m \u001b[0mpb\u001b[0m\u001b[0;34m.\u001b[0m\u001b[0mPauseRequest\u001b[0m\u001b[0;34m)\u001b[0m \u001b[0;34m->\u001b[0m \u001b[0;32mNone\u001b[0m\u001b[0;34m:\u001b[0m\u001b[0;34m\u001b[0m\u001b[0;34m\u001b[0m\u001b[0m\n\u001b[1;32m    358\u001b[0m         \u001b[0mrec\u001b[0m \u001b[0;34m=\u001b[0m \u001b[0mself\u001b[0m\u001b[0;34m.\u001b[0m\u001b[0m_make_request\u001b[0m\u001b[0;34m(\u001b[0m\u001b[0mpause\u001b[0m\u001b[0;34m=\u001b[0m\u001b[0mpause\u001b[0m\u001b[0;34m)\u001b[0m\u001b[0;34m\u001b[0m\u001b[0;34m\u001b[0m\u001b[0m\n\u001b[0;32m--> 359\u001b[0;31m         \u001b[0mself\u001b[0m\u001b[0;34m.\u001b[0m\u001b[0m_publish\u001b[0m\u001b[0;34m(\u001b[0m\u001b[0mrec\u001b[0m\u001b[0;34m)\u001b[0m\u001b[0;34m\u001b[0m\u001b[0;34m\u001b[0m\u001b[0m\n\u001b[0m\u001b[1;32m    360\u001b[0m \u001b[0;34m\u001b[0m\u001b[0m\n\u001b[1;32m    361\u001b[0m     \u001b[0;32mdef\u001b[0m \u001b[0m_publish_resume\u001b[0m\u001b[0;34m(\u001b[0m\u001b[0mself\u001b[0m\u001b[0;34m,\u001b[0m \u001b[0mresume\u001b[0m\u001b[0;34m:\u001b[0m \u001b[0mpb\u001b[0m\u001b[0;34m.\u001b[0m\u001b[0mResumeRequest\u001b[0m\u001b[0;34m)\u001b[0m \u001b[0;34m->\u001b[0m \u001b[0;32mNone\u001b[0m\u001b[0;34m:\u001b[0m\u001b[0;34m\u001b[0m\u001b[0;34m\u001b[0m\u001b[0m\n",
            "\u001b[0;32m/usr/local/lib/python3.10/dist-packages/wandb/sdk/interface/interface_sock.py\u001b[0m in \u001b[0;36m_publish\u001b[0;34m(self, record, local)\u001b[0m\n\u001b[1;32m     49\u001b[0m     \u001b[0;32mdef\u001b[0m \u001b[0m_publish\u001b[0m\u001b[0;34m(\u001b[0m\u001b[0mself\u001b[0m\u001b[0;34m,\u001b[0m \u001b[0mrecord\u001b[0m\u001b[0;34m:\u001b[0m \u001b[0;34m\"pb.Record\"\u001b[0m\u001b[0;34m,\u001b[0m \u001b[0mlocal\u001b[0m\u001b[0;34m:\u001b[0m \u001b[0mOptional\u001b[0m\u001b[0;34m[\u001b[0m\u001b[0mbool\u001b[0m\u001b[0;34m]\u001b[0m \u001b[0;34m=\u001b[0m \u001b[0;32mNone\u001b[0m\u001b[0;34m)\u001b[0m \u001b[0;34m->\u001b[0m \u001b[0;32mNone\u001b[0m\u001b[0;34m:\u001b[0m\u001b[0;34m\u001b[0m\u001b[0;34m\u001b[0m\u001b[0m\n\u001b[1;32m     50\u001b[0m         \u001b[0mself\u001b[0m\u001b[0;34m.\u001b[0m\u001b[0m_assign\u001b[0m\u001b[0;34m(\u001b[0m\u001b[0mrecord\u001b[0m\u001b[0;34m)\u001b[0m\u001b[0;34m\u001b[0m\u001b[0;34m\u001b[0m\u001b[0m\n\u001b[0;32m---> 51\u001b[0;31m         \u001b[0mself\u001b[0m\u001b[0;34m.\u001b[0m\u001b[0m_sock_client\u001b[0m\u001b[0;34m.\u001b[0m\u001b[0msend_record_publish\u001b[0m\u001b[0;34m(\u001b[0m\u001b[0mrecord\u001b[0m\u001b[0;34m)\u001b[0m\u001b[0;34m\u001b[0m\u001b[0;34m\u001b[0m\u001b[0m\n\u001b[0m\u001b[1;32m     52\u001b[0m \u001b[0;34m\u001b[0m\u001b[0m\n\u001b[1;32m     53\u001b[0m     def _communicate_async(\n",
            "\u001b[0;32m/usr/local/lib/python3.10/dist-packages/wandb/sdk/lib/sock_client.py\u001b[0m in \u001b[0;36msend_record_publish\u001b[0;34m(self, record)\u001b[0m\n\u001b[1;32m    219\u001b[0m         \u001b[0mserver_req\u001b[0m \u001b[0;34m=\u001b[0m \u001b[0mspb\u001b[0m\u001b[0;34m.\u001b[0m\u001b[0mServerRequest\u001b[0m\u001b[0;34m(\u001b[0m\u001b[0;34m)\u001b[0m\u001b[0;34m\u001b[0m\u001b[0;34m\u001b[0m\u001b[0m\n\u001b[1;32m    220\u001b[0m         \u001b[0mserver_req\u001b[0m\u001b[0;34m.\u001b[0m\u001b[0mrecord_publish\u001b[0m\u001b[0;34m.\u001b[0m\u001b[0mCopyFrom\u001b[0m\u001b[0;34m(\u001b[0m\u001b[0mrecord\u001b[0m\u001b[0;34m)\u001b[0m\u001b[0;34m\u001b[0m\u001b[0;34m\u001b[0m\u001b[0m\n\u001b[0;32m--> 221\u001b[0;31m         \u001b[0mself\u001b[0m\u001b[0;34m.\u001b[0m\u001b[0msend_server_request\u001b[0m\u001b[0;34m(\u001b[0m\u001b[0mserver_req\u001b[0m\u001b[0;34m)\u001b[0m\u001b[0;34m\u001b[0m\u001b[0;34m\u001b[0m\u001b[0m\n\u001b[0m\u001b[1;32m    222\u001b[0m \u001b[0;34m\u001b[0m\u001b[0m\n\u001b[1;32m    223\u001b[0m     \u001b[0;32mdef\u001b[0m \u001b[0m_extract_packet_bytes\u001b[0m\u001b[0;34m(\u001b[0m\u001b[0mself\u001b[0m\u001b[0;34m)\u001b[0m \u001b[0;34m->\u001b[0m \u001b[0mOptional\u001b[0m\u001b[0;34m[\u001b[0m\u001b[0mbytes\u001b[0m\u001b[0;34m]\u001b[0m\u001b[0;34m:\u001b[0m\u001b[0;34m\u001b[0m\u001b[0;34m\u001b[0m\u001b[0m\n",
            "\u001b[0;32m/usr/local/lib/python3.10/dist-packages/wandb/sdk/lib/sock_client.py\u001b[0m in \u001b[0;36msend_server_request\u001b[0;34m(self, msg)\u001b[0m\n\u001b[1;32m    153\u001b[0m \u001b[0;34m\u001b[0m\u001b[0m\n\u001b[1;32m    154\u001b[0m     \u001b[0;32mdef\u001b[0m \u001b[0msend_server_request\u001b[0m\u001b[0;34m(\u001b[0m\u001b[0mself\u001b[0m\u001b[0;34m,\u001b[0m \u001b[0mmsg\u001b[0m\u001b[0;34m:\u001b[0m \u001b[0mAny\u001b[0m\u001b[0;34m)\u001b[0m \u001b[0;34m->\u001b[0m \u001b[0;32mNone\u001b[0m\u001b[0;34m:\u001b[0m\u001b[0;34m\u001b[0m\u001b[0;34m\u001b[0m\u001b[0m\n\u001b[0;32m--> 155\u001b[0;31m         \u001b[0mself\u001b[0m\u001b[0;34m.\u001b[0m\u001b[0m_send_message\u001b[0m\u001b[0;34m(\u001b[0m\u001b[0mmsg\u001b[0m\u001b[0;34m)\u001b[0m\u001b[0;34m\u001b[0m\u001b[0;34m\u001b[0m\u001b[0m\n\u001b[0m\u001b[1;32m    156\u001b[0m \u001b[0;34m\u001b[0m\u001b[0m\n\u001b[1;32m    157\u001b[0m     \u001b[0;32mdef\u001b[0m \u001b[0msend_server_response\u001b[0m\u001b[0;34m(\u001b[0m\u001b[0mself\u001b[0m\u001b[0;34m,\u001b[0m \u001b[0mmsg\u001b[0m\u001b[0;34m:\u001b[0m \u001b[0mAny\u001b[0m\u001b[0;34m)\u001b[0m \u001b[0;34m->\u001b[0m \u001b[0;32mNone\u001b[0m\u001b[0;34m:\u001b[0m\u001b[0;34m\u001b[0m\u001b[0;34m\u001b[0m\u001b[0m\n",
            "\u001b[0;32m/usr/local/lib/python3.10/dist-packages/wandb/sdk/lib/sock_client.py\u001b[0m in \u001b[0;36m_send_message\u001b[0;34m(self, msg)\u001b[0m\n\u001b[1;32m    150\u001b[0m         \u001b[0mheader\u001b[0m \u001b[0;34m=\u001b[0m \u001b[0mstruct\u001b[0m\u001b[0;34m.\u001b[0m\u001b[0mpack\u001b[0m\u001b[0;34m(\u001b[0m\u001b[0;34m\"<BI\"\u001b[0m\u001b[0;34m,\u001b[0m \u001b[0mord\u001b[0m\u001b[0;34m(\u001b[0m\u001b[0;34m\"W\"\u001b[0m\u001b[0;34m)\u001b[0m\u001b[0;34m,\u001b[0m \u001b[0mraw_size\u001b[0m\u001b[0;34m)\u001b[0m\u001b[0;34m\u001b[0m\u001b[0;34m\u001b[0m\u001b[0m\n\u001b[1;32m    151\u001b[0m         \u001b[0;32mwith\u001b[0m \u001b[0mself\u001b[0m\u001b[0;34m.\u001b[0m\u001b[0m_lock\u001b[0m\u001b[0;34m:\u001b[0m\u001b[0;34m\u001b[0m\u001b[0;34m\u001b[0m\u001b[0m\n\u001b[0;32m--> 152\u001b[0;31m             \u001b[0mself\u001b[0m\u001b[0;34m.\u001b[0m\u001b[0m_sendall_with_error_handle\u001b[0m\u001b[0;34m(\u001b[0m\u001b[0mheader\u001b[0m \u001b[0;34m+\u001b[0m \u001b[0mdata\u001b[0m\u001b[0;34m)\u001b[0m\u001b[0;34m\u001b[0m\u001b[0;34m\u001b[0m\u001b[0m\n\u001b[0m\u001b[1;32m    153\u001b[0m \u001b[0;34m\u001b[0m\u001b[0m\n\u001b[1;32m    154\u001b[0m     \u001b[0;32mdef\u001b[0m \u001b[0msend_server_request\u001b[0m\u001b[0;34m(\u001b[0m\u001b[0mself\u001b[0m\u001b[0;34m,\u001b[0m \u001b[0mmsg\u001b[0m\u001b[0;34m:\u001b[0m \u001b[0mAny\u001b[0m\u001b[0;34m)\u001b[0m \u001b[0;34m->\u001b[0m \u001b[0;32mNone\u001b[0m\u001b[0;34m:\u001b[0m\u001b[0;34m\u001b[0m\u001b[0;34m\u001b[0m\u001b[0m\n",
            "\u001b[0;32m/usr/local/lib/python3.10/dist-packages/wandb/sdk/lib/sock_client.py\u001b[0m in \u001b[0;36m_sendall_with_error_handle\u001b[0;34m(self, data)\u001b[0m\n\u001b[1;32m    128\u001b[0m             \u001b[0mstart_time\u001b[0m \u001b[0;34m=\u001b[0m \u001b[0mtime\u001b[0m\u001b[0;34m.\u001b[0m\u001b[0mmonotonic\u001b[0m\u001b[0;34m(\u001b[0m\u001b[0;34m)\u001b[0m\u001b[0;34m\u001b[0m\u001b[0;34m\u001b[0m\u001b[0m\n\u001b[1;32m    129\u001b[0m             \u001b[0;32mtry\u001b[0m\u001b[0;34m:\u001b[0m\u001b[0;34m\u001b[0m\u001b[0;34m\u001b[0m\u001b[0m\n\u001b[0;32m--> 130\u001b[0;31m                 \u001b[0msent\u001b[0m \u001b[0;34m=\u001b[0m \u001b[0mself\u001b[0m\u001b[0;34m.\u001b[0m\u001b[0m_sock\u001b[0m\u001b[0;34m.\u001b[0m\u001b[0msend\u001b[0m\u001b[0;34m(\u001b[0m\u001b[0mdata\u001b[0m\u001b[0;34m)\u001b[0m\u001b[0;34m\u001b[0m\u001b[0;34m\u001b[0m\u001b[0m\n\u001b[0m\u001b[1;32m    131\u001b[0m                 \u001b[0;31m# sent equal to 0 indicates a closed socket\u001b[0m\u001b[0;34m\u001b[0m\u001b[0;34m\u001b[0m\u001b[0m\n\u001b[1;32m    132\u001b[0m                 \u001b[0;32mif\u001b[0m \u001b[0msent\u001b[0m \u001b[0;34m==\u001b[0m \u001b[0;36m0\u001b[0m\u001b[0;34m:\u001b[0m\u001b[0;34m\u001b[0m\u001b[0;34m\u001b[0m\u001b[0m\n",
            "\u001b[0;31mBrokenPipeError\u001b[0m: [Errno 32] Broken pipe"
          ]
        }
      ]
    },
    {
      "cell_type": "markdown",
      "source": [
        "WandB ссылка на отчет: https://wandb.ai/senich17/Dune-Q/reports/Paul-on-Caladan--Vmlldzo4MDIwNjUx?accessToken=oh7t2i45j5oucujri0noy3rofgqf7y1qe82mknrcnkaonur85xbsa4tebr2o01ma"
      ],
      "metadata": {
        "id": "p68uDHHSN5tw"
      }
    },
    {
      "cell_type": "markdown",
      "source": [
        "## Выводы по гиперпараметрам\n",
        "\n",
        "В мире обучения с подкреплением, как в песках Арракиса, гиперпараметры играют важную роль, формируя путь к успеху или провалу...\n",
        "\n",
        "### 1. Пол Атрейдес на Каладане с n_dreaming_steps: 1 и n_planning_steps: 1\n",
        "\n",
        "Средний возврат составил 1.22, а возврат за эпизод был 10. Это свидетельствует о том, что модель, подобно молодому Полу Атрейдесу, имеет общую положительную тенденцию, но иногда может сталкиваться с вызовами. Хотя средний возврат высок, иногда возникают отдельные эпизоды с более низкими возвратами, что указывает на необходимость дальнейшего улучшения модели и ее стабилизацию.\n",
        "\n",
        "### 2. Лето Атрейдес – управляющий Каладаном с n_dreaming_steps: 1 и n_planning_steps: 5\n",
        "\n",
        "Средний возврат составил 2.06, а возврат за эпизод был 1. В этом случае модель, как и герцог Лето Атрейдес, проявляет стабильность и умение находить баланс. Хотя средний возврат немного выше, отдельные эпизоды могут быть менее успешными, что подчеркивает важность постоянного улучшения стратегии.\n",
        "\n",
        "### 3. Лето и Джессика с n_dreaming_steps: 1 и n_planning_steps: 10\n",
        "\n",
        "Средний возврат составил 0.74, а возврат за эпизод был -6. Это указывает на то, что модель стремится к идеалу, как Лето и Джессика, но её успехи неравномерны. при сочетании параметров таким образом, как в этом запуске, модель может столкнуться с тем, что застревает в минимумах (но это не точно). Чтобы точно определить причину отрицательного возврата за эпизоды, необходимо более глубокое анализировать обучение модели. Например, негативный возврат эпизодов может быть обусловлен недостаточным исследованием среды.\n",
        "\n",
        "### 4. Пол и его тренировки с Дунканом Айдахо с n_dreaming_steps: 3 и n_planning_steps: 1\n",
        "\n",
        "Средний возврат составил 2.58, а возврат за эпизод был 10. Модель, подобно Полу, получает ценный опыт и стремится к совершенству, ни смотря на скачки показателей за эпизоды. Высокие показатели указывают на то, что необходимо точно и детально анализировать параметры и шаг за шагом наблюдать за их влиянием на поведение модели. Что интересно в данном запуске, так это то, что при низком значении n_planning_steps и высоком n_dreaming_steps результат впечатляющий (на моей практике в 100500 раз, которые я переделывала эту работу, при таких значениях, особенно в стохаститческой среде, все выглядит совсем печально).\n",
        "\n",
        "### 5. Пол и его друг Гурни Халлек с n_dreaming_steps: 3 и n_planning_steps: 5\n",
        "\n",
        "Средний возврат составил 2.06, а возврат за эпизод был 5. Модель, подобно Полу и его другу Гурни Халлеку, находит радость и удовлетворение в своей стратегии. В целом, средний возврат положителен, и кажется, будто такие значения параметров неплохо сбалансированы. Это будет заметно и в дальнейших экспериментах. Важно четко понимать, что сильные перекосы в параметрах будут давать модели нестабильность и неустойчивость, которые в свою очередь приведут к низким показателям и не качественному обучению. В целом модели РЛ и так плохо обобщаются, поэтому не надо подливать масла в огонь :)\n",
        "\n",
        "### Общий вывод\n",
        "\n",
        "Модели с разными наборами гиперпараметров представляют собой различные эпизоды жизни героев на Каладане. Понимание и оптимизация этих параметров помогает модели достигать лучших результатов и преодолевать вызовы, создавая прочный фундамент для будущих достижений. Естественно, что такое небольшое количество эпизодов так же влияет на результаты, но тем не менее даже при таких игрушечных экспереметах заметна разница."
      ],
      "metadata": {
        "id": "QytDeiyfnyPP"
      }
    },
    {
      "cell_type": "markdown",
      "source": [
        "# Стохастическая среда"
      ],
      "metadata": {
        "id": "AbmWuHLsMlM6"
      }
    },
    {
      "cell_type": "markdown",
      "source": [
        "\"Привычка к одним лишь победам сама по себе может стать слабостью.\" (С)\n",
        "\n",
        "Поэтому добавим нашему агенту препятствия на пути к его величию."
      ],
      "metadata": {
        "id": "XU7uiYoVDZpV"
      }
    },
    {
      "cell_type": "code",
      "source": [
        "class SandStormArrakis(gym.Wrapper):\n",
        "    def __init__(self, env, wind_prob=0.2, wind_strength=1):\n",
        "        super().__init__(env)\n",
        "        self.wind_prob = wind_prob  # Вероятность воздействия ветра\n",
        "        self.wind_strength = wind_strength  # Сила воздействия ветра\n",
        "\n",
        "    def step(self, action):\n",
        "        # делаем шаг в оригинальной среде\n",
        "        next_state, reward, terminated, truncated, info = self.env.step(action)\n",
        "\n",
        "        # Определяем, будет ли воздействие ветра на текущем шаге\n",
        "        if np.random.rand() < self.wind_prob:\n",
        "            # применим ветер к среде\n",
        "            wind_action = np.random.choice([-self.wind_strength, 0, self.wind_strength])\n",
        "            next_state = (next_state + wind_action) % self.env.observation_space.n\n",
        "\n",
        "        return next_state, reward, terminated, truncated, info\n"
      ],
      "metadata": {
        "id": "Q5Uu3iTWrBH9"
      },
      "execution_count": 4,
      "outputs": []
    },
    {
      "cell_type": "code",
      "source": [
        "# Тут у нас будет моделька\n",
        "class Model:\n",
        "    def __init__(self, n_states, n_actions, seed):\n",
        "        self.n_states = n_states\n",
        "        self.n_actions = n_actions\n",
        "        self._rng = np.random.default_rng(seed)\n",
        "        self.data = []\n",
        "\n",
        "    def add(self, s, a, r, next_s):\n",
        "        self.data.append((s, a, r, next_s))\n",
        "        return r\n",
        "\n",
        "    def sample(self):\n",
        "        idx = self._rng.integers(0, len(self.data))\n",
        "        return self.data[idx]\n"
      ],
      "metadata": {
        "id": "D9_lt2gXVt8n"
      },
      "execution_count": 5,
      "outputs": []
    },
    {
      "cell_type": "markdown",
      "source": [
        "\"— Ты должен выбрать себе имя, которым мы будем называть тебя открыто.\n",
        "— Как вы называете тень от второй луны?\n",
        "— Тень второй луны мы называем Муад’диб.\n",
        "— Можно ли мне называть себя Пол Муад’диб?\n",
        "— Отныне ты будешь Пол Муад’диб.\" (с)"
      ],
      "metadata": {
        "id": "c2Q1pHHUD58i"
      }
    },
    {
      "cell_type": "code",
      "source": [
        "# А тут у нас живет агент Пол Муад’диб\n",
        "class Muaddib:\n",
        "    def __init__(self, n_states, n_actions, lr, gamma, eps, f_model, seed):\n",
        "        self.Q = np.zeros((n_states, n_actions))\n",
        "        self.model = f_model(n_states, n_actions, seed=seed)\n",
        "        self.lr = lr\n",
        "        self.gamma = gamma\n",
        "        self.eps = eps\n",
        "        self.n_actions = n_actions\n",
        "        self.n_states = n_states\n",
        "        self._rng = np.random.default_rng(seed)\n",
        "\n",
        "    def act(self, s):\n",
        "        if s >= self.n_states:\n",
        "            raise ValueError(f\"State index {s} is out of bounds for Q-table with size {self.n_states}\")\n",
        "\n",
        "        if self._rng.random() < self.eps:\n",
        "            action = self._rng.choice(self.n_actions)\n",
        "        else:\n",
        "            action = np.argmax(self.Q[s])\n",
        "        return action\n",
        "\n",
        "    def update(self, s, a, r, s_n, update_model: bool):\n",
        "        if s >= self.n_states or s_n >= self.n_states:\n",
        "            raise ValueError(f\"State index {s} or next state index {s_n} is out of bounds for Q-table with size {self.n_states}\")\n",
        "\n",
        "        max_next_action = np.argmax(self.Q[s_n])\n",
        "        td_target = r + self.gamma * self.Q[s_n][max_next_action]\n",
        "        td_error = td_target - self.Q[s][a]\n",
        "        self.Q[s][a] += self.lr * td_error\n",
        "\n",
        "        if update_model:\n",
        "            self.model.add(s, a, r, s_n)\n",
        "\n",
        "    def dream(self, max_steps, **_):\n",
        "        for _ in range(max_steps):\n",
        "            s, a, r, s_n = self.model.sample()\n",
        "\n",
        "            if s >= self.n_states or s_n >= self.n_states:\n",
        "                print(f\"Sampled state index {s} or next state index {s_n} is out of bounds for Q-table with size {self.n_states}\")\n",
        "                continue\n",
        "\n",
        "            self.update(s, a, r, s_n, update_model=False)\n"
      ],
      "metadata": {
        "id": "xLMBpxKZA353"
      },
      "execution_count": 6,
      "outputs": []
    },
    {
      "cell_type": "code",
      "source": [
        "# Здесь творится магия\n",
        "def train(Arrakis, agent, n_episodes, on_model_updates, seed, show_progress_schedule=50):\n",
        "    returns_batch = []  # Инициализация списка для сбора возвратов\n",
        "    rng = np.random.default_rng(seed)\n",
        "    avg_returns = []  # Инициализация списка для средних возвратов\n",
        "\n",
        "    for i in range(1, n_episodes):\n",
        "        state, _ = Arrakis.reset(seed=int(rng.integers(10000000)))\n",
        "        reward, episode_return = 0, 0\n",
        "\n",
        "        while True:\n",
        "            action = agent.act(state)\n",
        "\n",
        "            # Выполним действия в среде\n",
        "            next_state, reward, terminated, truncated, info = Arrakis.step(action)\n",
        "            agent.update(state, action, reward, next_state, update_model=True)\n",
        "            state = next_state\n",
        "            episode_return += reward\n",
        "            done = terminated or truncated\n",
        "            if done:\n",
        "                break\n",
        "            agent.dream(on_model_updates, state=state)\n",
        "\n",
        "        returns_batch.append(episode_return)\n",
        "\n",
        "        if i % show_progress_schedule == 0:\n",
        "            avg_return = np.mean(returns_batch)\n",
        "\n",
        "            # про лргирование прогресса обучения и метрик с помощью wandb не забываем\n",
        "            wandb.log({'Episode Return': episode_return, 'Average Return': avg_return})\n",
        "\n",
        "            print(\n",
        "                f\"Episode: {i}, Return: {episode_return}, \"\n",
        "                f\"AvgReturn[{show_progress_schedule}]: {avg_return:.0f}\"\n",
        "            )\n",
        "\n",
        "            avg_returns.append(avg_return)  # Добавление среднего возврата в список\n",
        "\n",
        "    return avg_returns\n"
      ],
      "metadata": {
        "id": "gStmDt1PJ_AK"
      },
      "execution_count": 7,
      "outputs": []
    },
    {
      "cell_type": "code",
      "source": [
        "def main():\n",
        "\n",
        "    wandb.init(project=\"Dune-Q\")\n",
        "\n",
        "    Arrakis = gym.make(\"Taxi-v3\")\n",
        "    Arrakis = SandStormArrakis(Arrakis)\n",
        "\n",
        "    # Проверка пространства наблюдений\n",
        "    n_states = Arrakis.observation_space.n\n",
        "    n_actions = Arrakis.action_space.n\n",
        "\n",
        "    print(f\"Observation space: {n_states}, Action space: {n_actions}\")\n",
        "\n",
        "    # Инициализация агента\n",
        "    agent = Muaddib(\n",
        "        n_states,\n",
        "        n_actions,\n",
        "        f_model=Model,\n",
        "        lr=0.05,\n",
        "        gamma=0.975,\n",
        "        eps=0.1,\n",
        "        seed=42,\n",
        "    )\n",
        "\n",
        "    # Обучения агента с текущими параметрами\n",
        "    avg_returns = train(\n",
        "        Arrakis,\n",
        "        agent,\n",
        "        on_model_updates=0,\n",
        "        seed=42,\n",
        "        n_episodes=3001,\n",
        "    )\n"
      ],
      "metadata": {
        "id": "Vxarp9rA4oia"
      },
      "execution_count": 8,
      "outputs": []
    },
    {
      "cell_type": "code",
      "source": [
        "# Define the sweep configuration\n",
        "sweep_config = {\n",
        "    \"method\": \"grid\",\n",
        "    \"parameters\": {\n",
        "        \"n_planning_steps\": {\"values\": [1, 5, 10]},\n",
        "        \"n_dreaming_steps\": {\"values\": [1, 3, 5]}  # Add dreaming steps parameter\n",
        "    }\n",
        "}\n"
      ],
      "metadata": {
        "id": "cR3dDaZO3vxQ"
      },
      "execution_count": 9,
      "outputs": []
    },
    {
      "cell_type": "markdown",
      "source": [
        "\"Я не боюсь, я не должен бояться. Ибо страх убивает разум. Страх есть малая смерть, влекущая за собой полное уничтожение. Я встречу свой страх и приму его. Я позволю ему пройти надо мной и сквозь меня. И когда он пройдет через меня, я обращу свой внутренний взор на его путь; и там, где был страх, не останется ничего. Останусь лишь я, я сам.\" Muaddib\n",
        "\n",
        "Ну штош, теперь можно начать обучение с разными гиперпараметрами."
      ],
      "metadata": {
        "id": "xR4Q_ZrtC2yY"
      }
    },
    {
      "cell_type": "code",
      "source": [
        "# Start the sweep\n",
        "MuaddibTravel = wandb.sweep(sweep=sweep_config, project=\"Dune-Q\")\n",
        "\n",
        "# Run the sweep\n",
        "wandb.agent(MuaddibTravel, function=main, count=5)\n"
      ],
      "metadata": {
        "colab": {
          "base_uri": "https://localhost:8080/",
          "height": 1000,
          "referenced_widgets": [
            "43c122760e5d46f689a0875f5075a9fd",
            "1ee639e5411b47e2a7a4ac490063f9e4",
            "b29cff28bacc4888ac1ca25b63c766b4",
            "669625619df44e13ae9b177b5f172a19",
            "27884aa2370a4af182b5ec1022b0f4a0",
            "447ceca18e4a44278f45a3df3e7d5eff",
            "8da137e9323f47c58efd57eb585a9e89",
            "bcb168f3477a42f9a1939da755eb21e2",
            "f810f7c1350a49da8ef366ef531228ff",
            "f2072a72299a46e0b2e5b780dbab0010",
            "5d001295f8a54a069216bd7207629e46",
            "63d7dc79955d4a94bc936bc19afcd239",
            "c1b905e3c7344a13a68fa4247d8eb82d",
            "41ab233cee254ce783b80d5c98d1740a",
            "49cefabb522e4cbf8967e4fb484408bd",
            "a71f1ff5736544628c147a1f84264f8a",
            "7af279ebfb0a4109a039fe4f348b34fd",
            "f1fdb7b6ad78483ba3e9301160d3d801",
            "0ee177f72cc94bc3a26d1b566631fb35",
            "cb0c95b1015f47ba8abf181b33debd19",
            "6bea38d4b419468f80180f67fc484636",
            "925a7670b592481eb0d7616c96922ba2",
            "1a2fdbf4fcfa4e329929eb4bc324ba40",
            "6fb646219991401f8f8a56a6aff54cd4",
            "66f6ffbf35054dd981e3c548877b593f",
            "6ede97362069486d81a593a7f63406e1",
            "e3dcf60978b843289505329934c1b8be",
            "6c51320f35b547b3953bcec4566d5628",
            "d26696f5b30d43f8bdfce0950d28c0d0",
            "a994d3e915d64d7f8dd63af83185fd09",
            "d13ead99985d4bbf9798b46b7308c45f",
            "ac5e36c774224fe18ae70a2ab495bffd",
            "17b781d64a834fb1b62ad3846608a222",
            "d6760c81137d4b91b0548e5f2b4b46c7",
            "cedf82b9d09c42718e4a7c34144dcf7c",
            "83ca845358a5486e8e1a3c2d1014013c",
            "ff461700c4c84220bb7833c3427a0f01",
            "327c5d7092ce46ad8bad480f0f7ac1ae",
            "6231e0e1b41746309d9fb3a795d4d36a",
            "2c6de890230a4600ad7cc23eae4d52c7"
          ]
        },
        "id": "96Tpgbei4Ai9",
        "outputId": "f875c68d-5058-4197-b5c2-137a4c795ff4"
      },
      "execution_count": 10,
      "outputs": [
        {
          "output_type": "stream",
          "name": "stderr",
          "text": [
            "\u001b[34m\u001b[1mwandb\u001b[0m: \u001b[33mWARNING\u001b[0m Calling wandb.login() after wandb.init() has no effect.\n"
          ]
        },
        {
          "output_type": "stream",
          "name": "stdout",
          "text": [
            "Create sweep with ID: ai15t1kj\n",
            "Sweep URL: https://wandb.ai/senich17/Dune-Q/sweeps/ai15t1kj\n"
          ]
        },
        {
          "output_type": "stream",
          "name": "stderr",
          "text": [
            "\u001b[34m\u001b[1mwandb\u001b[0m: Agent Starting Run: lqp5viqo with config:\n",
            "\u001b[34m\u001b[1mwandb\u001b[0m: \tn_dreaming_steps: 1\n",
            "\u001b[34m\u001b[1mwandb\u001b[0m: \tn_planning_steps: 1\n",
            "\u001b[34m\u001b[1mwandb\u001b[0m: \u001b[33mWARNING\u001b[0m Ignored wandb.init() arg project when running a sweep.\n"
          ]
        },
        {
          "output_type": "display_data",
          "data": {
            "text/plain": [
              "<IPython.core.display.HTML object>"
            ],
            "text/html": [
              "Tracking run with wandb version 0.17.0"
            ]
          },
          "metadata": {}
        },
        {
          "output_type": "display_data",
          "data": {
            "text/plain": [
              "<IPython.core.display.HTML object>"
            ],
            "text/html": [
              "Run data is saved locally in <code>/content/wandb/run-20240520_090050-lqp5viqo</code>"
            ]
          },
          "metadata": {}
        },
        {
          "output_type": "display_data",
          "data": {
            "text/plain": [
              "<IPython.core.display.HTML object>"
            ],
            "text/html": [
              "Syncing run <strong><a href='https://wandb.ai/senich17/Dune-Q/runs/lqp5viqo' target=\"_blank\">fancy-sweep-1</a></strong> to <a href='https://wandb.ai/senich17/Dune-Q' target=\"_blank\">Weights & Biases</a> (<a href='https://wandb.me/run' target=\"_blank\">docs</a>)<br/>Sweep page: <a href='https://wandb.ai/senich17/Dune-Q/sweeps/ai15t1kj' target=\"_blank\">https://wandb.ai/senich17/Dune-Q/sweeps/ai15t1kj</a>"
            ]
          },
          "metadata": {}
        },
        {
          "output_type": "display_data",
          "data": {
            "text/plain": [
              "<IPython.core.display.HTML object>"
            ],
            "text/html": [
              " View project at <a href='https://wandb.ai/senich17/Dune-Q' target=\"_blank\">https://wandb.ai/senich17/Dune-Q</a>"
            ]
          },
          "metadata": {}
        },
        {
          "output_type": "display_data",
          "data": {
            "text/plain": [
              "<IPython.core.display.HTML object>"
            ],
            "text/html": [
              " View sweep at <a href='https://wandb.ai/senich17/Dune-Q/sweeps/ai15t1kj' target=\"_blank\">https://wandb.ai/senich17/Dune-Q/sweeps/ai15t1kj</a>"
            ]
          },
          "metadata": {}
        },
        {
          "output_type": "display_data",
          "data": {
            "text/plain": [
              "<IPython.core.display.HTML object>"
            ],
            "text/html": [
              " View run at <a href='https://wandb.ai/senich17/Dune-Q/runs/lqp5viqo' target=\"_blank\">https://wandb.ai/senich17/Dune-Q/runs/lqp5viqo</a>"
            ]
          },
          "metadata": {}
        },
        {
          "output_type": "stream",
          "name": "stdout",
          "text": [
            "Observation space: 500, Action space: 6\n",
            "Episode: 50, Return: -272, AvgReturn[50]: -368\n",
            "Episode: 100, Return: -261, AvgReturn[50]: -336\n",
            "Episode: 150, Return: -192, AvgReturn[50]: -316\n",
            "Episode: 200, Return: -335, AvgReturn[50]: -302\n",
            "Episode: 250, Return: -254, AvgReturn[50]: -290\n",
            "Episode: 300, Return: -299, AvgReturn[50]: -284\n",
            "Episode: 350, Return: -120, AvgReturn[50]: -277\n",
            "Episode: 400, Return: -262, AvgReturn[50]: -271\n",
            "Episode: 450, Return: -108, AvgReturn[50]: -265\n",
            "Episode: 500, Return: -281, AvgReturn[50]: -263\n",
            "Episode: 550, Return: -90, AvgReturn[50]: -261\n",
            "Episode: 600, Return: -272, AvgReturn[50]: -260\n",
            "Episode: 650, Return: -272, AvgReturn[50]: -255\n",
            "Episode: 700, Return: -208, AvgReturn[50]: -251\n",
            "Episode: 750, Return: -74, AvgReturn[50]: -248\n",
            "Episode: 800, Return: -281, AvgReturn[50]: -245\n",
            "Episode: 850, Return: -102, AvgReturn[50]: -243\n",
            "Episode: 900, Return: -206, AvgReturn[50]: -239\n",
            "Episode: 950, Return: -74, AvgReturn[50]: -236\n",
            "Episode: 1000, Return: -299, AvgReturn[50]: -233\n",
            "Episode: 1050, Return: -308, AvgReturn[50]: -229\n",
            "Episode: 1100, Return: -326, AvgReturn[50]: -228\n",
            "Episode: 1150, Return: -131, AvgReturn[50]: -225\n",
            "Episode: 1200, Return: -281, AvgReturn[50]: -222\n",
            "Episode: 1250, Return: -230, AvgReturn[50]: -220\n",
            "Episode: 1300, Return: -181, AvgReturn[50]: -217\n",
            "Episode: 1350, Return: -15, AvgReturn[50]: -215\n",
            "Episode: 1400, Return: -254, AvgReturn[50]: -212\n",
            "Episode: 1450, Return: -169, AvgReturn[50]: -210\n",
            "Episode: 1500, Return: -263, AvgReturn[50]: -207\n",
            "Episode: 1550, Return: -245, AvgReturn[50]: -205\n",
            "Episode: 1600, Return: -28, AvgReturn[50]: -202\n",
            "Episode: 1650, Return: -79, AvgReturn[50]: -199\n",
            "Episode: 1700, Return: -263, AvgReturn[50]: -196\n",
            "Episode: 1750, Return: -234, AvgReturn[50]: -193\n",
            "Episode: 1800, Return: -52, AvgReturn[50]: -191\n",
            "Episode: 1850, Return: -59, AvgReturn[50]: -188\n",
            "Episode: 1900, Return: -3, AvgReturn[50]: -185\n",
            "Episode: 1950, Return: -42, AvgReturn[50]: -183\n",
            "Episode: 2000, Return: -91, AvgReturn[50]: -181\n",
            "Episode: 2050, Return: -2, AvgReturn[50]: -178\n",
            "Episode: 2100, Return: 8, AvgReturn[50]: -176\n",
            "Episode: 2150, Return: -3, AvgReturn[50]: -173\n",
            "Episode: 2200, Return: 13, AvgReturn[50]: -171\n",
            "Episode: 2250, Return: 10, AvgReturn[50]: -168\n",
            "Episode: 2300, Return: -43, AvgReturn[50]: -166\n",
            "Episode: 2350, Return: -19, AvgReturn[50]: -164\n",
            "Episode: 2400, Return: -16, AvgReturn[50]: -162\n",
            "Episode: 2450, Return: -281, AvgReturn[50]: -160\n",
            "Episode: 2500, Return: -24, AvgReturn[50]: -158\n",
            "Episode: 2550, Return: -35, AvgReturn[50]: -155\n",
            "Episode: 2600, Return: -47, AvgReturn[50]: -153\n",
            "Episode: 2650, Return: -21, AvgReturn[50]: -151\n",
            "Episode: 2700, Return: 7, AvgReturn[50]: -149\n",
            "Episode: 2750, Return: -273, AvgReturn[50]: -147\n",
            "Episode: 2800, Return: -48, AvgReturn[50]: -145\n",
            "Episode: 2850, Return: 2, AvgReturn[50]: -143\n",
            "Episode: 2900, Return: 8, AvgReturn[50]: -141\n",
            "Episode: 2950, Return: -28, AvgReturn[50]: -140\n",
            "Episode: 3000, Return: 0, AvgReturn[50]: -138\n"
          ]
        },
        {
          "output_type": "display_data",
          "data": {
            "text/plain": [
              "VBox(children=(Label(value='0.001 MB of 0.001 MB uploaded\\r'), FloatProgress(value=1.0, max=1.0)))"
            ],
            "application/vnd.jupyter.widget-view+json": {
              "version_major": 2,
              "version_minor": 0,
              "model_id": "43c122760e5d46f689a0875f5075a9fd"
            }
          },
          "metadata": {}
        },
        {
          "output_type": "display_data",
          "data": {
            "text/plain": [
              "<IPython.core.display.HTML object>"
            ],
            "text/html": [
              "<style>\n",
              "    table.wandb td:nth-child(1) { padding: 0 10px; text-align: left ; width: auto;} td:nth-child(2) {text-align: left ; width: 100%}\n",
              "    .wandb-row { display: flex; flex-direction: row; flex-wrap: wrap; justify-content: flex-start; width: 100% }\n",
              "    .wandb-col { display: flex; flex-direction: column; flex-basis: 100%; flex: 1; padding: 10px; }\n",
              "    </style>\n",
              "<div class=\"wandb-row\"><div class=\"wandb-col\"><h3>Run history:</h3><br/><table class=\"wandb\"><tr><td>Average Return</td><td>▁▂▃▃▄▄▄▄▄▅▅▅▅▅▅▅▅▆▆▆▆▆▆▆▆▇▇▇▇▇▇▇▇▇██████</td></tr><tr><td>Episode Return</td><td>▂▂▁▃▅▂▂▆▂▄▂▆▆▂▁▅▃▄▃▄▃▇▂▃▇█▆███▇▇▂▇▇▇▂▇██</td></tr></table><br/></div><div class=\"wandb-col\"><h3>Run summary:</h3><br/><table class=\"wandb\"><tr><td>Average Return</td><td>-138.19733</td></tr><tr><td>Episode Return</td><td>0</td></tr></table><br/></div></div>"
            ]
          },
          "metadata": {}
        },
        {
          "output_type": "display_data",
          "data": {
            "text/plain": [
              "<IPython.core.display.HTML object>"
            ],
            "text/html": [
              " View run <strong style=\"color:#cdcd00\">fancy-sweep-1</strong> at: <a href='https://wandb.ai/senich17/Dune-Q/runs/lqp5viqo' target=\"_blank\">https://wandb.ai/senich17/Dune-Q/runs/lqp5viqo</a><br/> View project at: <a href='https://wandb.ai/senich17/Dune-Q' target=\"_blank\">https://wandb.ai/senich17/Dune-Q</a><br/>Synced 5 W&B file(s), 0 media file(s), 0 artifact file(s) and 0 other file(s)"
            ]
          },
          "metadata": {}
        },
        {
          "output_type": "display_data",
          "data": {
            "text/plain": [
              "<IPython.core.display.HTML object>"
            ],
            "text/html": [
              "Find logs at: <code>./wandb/run-20240520_090050-lqp5viqo/logs</code>"
            ]
          },
          "metadata": {}
        },
        {
          "output_type": "stream",
          "name": "stderr",
          "text": [
            "\u001b[34m\u001b[1mwandb\u001b[0m: Agent Starting Run: c54p7p81 with config:\n",
            "\u001b[34m\u001b[1mwandb\u001b[0m: \tn_dreaming_steps: 1\n",
            "\u001b[34m\u001b[1mwandb\u001b[0m: \tn_planning_steps: 5\n",
            "\u001b[34m\u001b[1mwandb\u001b[0m: \u001b[33mWARNING\u001b[0m Ignored wandb.init() arg project when running a sweep.\n"
          ]
        },
        {
          "output_type": "display_data",
          "data": {
            "text/plain": [
              "<IPython.core.display.HTML object>"
            ],
            "text/html": [
              "Tracking run with wandb version 0.17.0"
            ]
          },
          "metadata": {}
        },
        {
          "output_type": "display_data",
          "data": {
            "text/plain": [
              "<IPython.core.display.HTML object>"
            ],
            "text/html": [
              "Run data is saved locally in <code>/content/wandb/run-20240520_090125-c54p7p81</code>"
            ]
          },
          "metadata": {}
        },
        {
          "output_type": "display_data",
          "data": {
            "text/plain": [
              "<IPython.core.display.HTML object>"
            ],
            "text/html": [
              "Syncing run <strong><a href='https://wandb.ai/senich17/Dune-Q/runs/c54p7p81' target=\"_blank\">clear-sweep-2</a></strong> to <a href='https://wandb.ai/senich17/Dune-Q' target=\"_blank\">Weights & Biases</a> (<a href='https://wandb.me/run' target=\"_blank\">docs</a>)<br/>Sweep page: <a href='https://wandb.ai/senich17/Dune-Q/sweeps/ai15t1kj' target=\"_blank\">https://wandb.ai/senich17/Dune-Q/sweeps/ai15t1kj</a>"
            ]
          },
          "metadata": {}
        },
        {
          "output_type": "display_data",
          "data": {
            "text/plain": [
              "<IPython.core.display.HTML object>"
            ],
            "text/html": [
              " View project at <a href='https://wandb.ai/senich17/Dune-Q' target=\"_blank\">https://wandb.ai/senich17/Dune-Q</a>"
            ]
          },
          "metadata": {}
        },
        {
          "output_type": "display_data",
          "data": {
            "text/plain": [
              "<IPython.core.display.HTML object>"
            ],
            "text/html": [
              " View sweep at <a href='https://wandb.ai/senich17/Dune-Q/sweeps/ai15t1kj' target=\"_blank\">https://wandb.ai/senich17/Dune-Q/sweeps/ai15t1kj</a>"
            ]
          },
          "metadata": {}
        },
        {
          "output_type": "display_data",
          "data": {
            "text/plain": [
              "<IPython.core.display.HTML object>"
            ],
            "text/html": [
              " View run at <a href='https://wandb.ai/senich17/Dune-Q/runs/c54p7p81' target=\"_blank\">https://wandb.ai/senich17/Dune-Q/runs/c54p7p81</a>"
            ]
          },
          "metadata": {}
        },
        {
          "output_type": "stream",
          "name": "stdout",
          "text": [
            "Observation space: 500, Action space: 6\n",
            "Episode: 50, Return: -281, AvgReturn[50]: -379\n",
            "Episode: 100, Return: -416, AvgReturn[50]: -345\n",
            "Episode: 150, Return: -290, AvgReturn[50]: -325\n",
            "Episode: 200, Return: -308, AvgReturn[50]: -311\n",
            "Episode: 250, Return: -272, AvgReturn[50]: -299\n",
            "Episode: 300, Return: -272, AvgReturn[50]: -290\n",
            "Episode: 350, Return: -290, AvgReturn[50]: -283\n",
            "Episode: 400, Return: -165, AvgReturn[50]: -277\n",
            "Episode: 450, Return: -299, AvgReturn[50]: -273\n",
            "Episode: 500, Return: -141, AvgReturn[50]: -268\n",
            "Episode: 550, Return: -290, AvgReturn[50]: -265\n",
            "Episode: 600, Return: -281, AvgReturn[50]: -262\n",
            "Episode: 650, Return: -127, AvgReturn[50]: -257\n",
            "Episode: 700, Return: -189, AvgReturn[50]: -253\n",
            "Episode: 750, Return: -91, AvgReturn[50]: -248\n",
            "Episode: 800, Return: -43, AvgReturn[50]: -244\n",
            "Episode: 850, Return: -245, AvgReturn[50]: -240\n",
            "Episode: 900, Return: -254, AvgReturn[50]: -237\n",
            "Episode: 950, Return: -290, AvgReturn[50]: -234\n",
            "Episode: 1000, Return: -263, AvgReturn[50]: -231\n",
            "Episode: 1050, Return: -236, AvgReturn[50]: -229\n",
            "Episode: 1100, Return: -272, AvgReturn[50]: -226\n",
            "Episode: 1150, Return: -80, AvgReturn[50]: -223\n",
            "Episode: 1200, Return: -185, AvgReturn[50]: -219\n",
            "Episode: 1250, Return: -95, AvgReturn[50]: -217\n",
            "Episode: 1300, Return: -249, AvgReturn[50]: -214\n",
            "Episode: 1350, Return: -37, AvgReturn[50]: -212\n",
            "Episode: 1400, Return: -62, AvgReturn[50]: -209\n",
            "Episode: 1450, Return: -53, AvgReturn[50]: -206\n",
            "Episode: 1500, Return: -112, AvgReturn[50]: -204\n",
            "Episode: 1550, Return: -66, AvgReturn[50]: -201\n",
            "Episode: 1600, Return: -106, AvgReturn[50]: -198\n",
            "Episode: 1650, Return: -43, AvgReturn[50]: -195\n",
            "Episode: 1700, Return: -71, AvgReturn[50]: -192\n",
            "Episode: 1750, Return: -36, AvgReturn[50]: -190\n",
            "Episode: 1800, Return: -36, AvgReturn[50]: -187\n",
            "Episode: 1850, Return: 2, AvgReturn[50]: -184\n",
            "Episode: 1900, Return: 3, AvgReturn[50]: -181\n",
            "Episode: 1950, Return: -181, AvgReturn[50]: -178\n",
            "Episode: 2000, Return: -74, AvgReturn[50]: -176\n",
            "Episode: 2050, Return: -16, AvgReturn[50]: -173\n",
            "Episode: 2100, Return: -48, AvgReturn[50]: -171\n",
            "Episode: 2150, Return: 8, AvgReturn[50]: -168\n",
            "Episode: 2200, Return: 14, AvgReturn[50]: -165\n",
            "Episode: 2250, Return: 12, AvgReturn[50]: -162\n",
            "Episode: 2300, Return: -119, AvgReturn[50]: -160\n",
            "Episode: 2350, Return: -23, AvgReturn[50]: -157\n",
            "Episode: 2400, Return: -95, AvgReturn[50]: -155\n",
            "Episode: 2450, Return: -56, AvgReturn[50]: -153\n",
            "Episode: 2500, Return: 6, AvgReturn[50]: -151\n",
            "Episode: 2550, Return: -79, AvgReturn[50]: -148\n",
            "Episode: 2600, Return: -49, AvgReturn[50]: -146\n",
            "Episode: 2650, Return: 5, AvgReturn[50]: -144\n",
            "Episode: 2700, Return: -17, AvgReturn[50]: -142\n",
            "Episode: 2750, Return: -48, AvgReturn[50]: -140\n",
            "Episode: 2800, Return: -19, AvgReturn[50]: -138\n",
            "Episode: 2850, Return: 10, AvgReturn[50]: -136\n",
            "Episode: 2900, Return: 10, AvgReturn[50]: -134\n",
            "Episode: 2950, Return: -32, AvgReturn[50]: -133\n",
            "Episode: 3000, Return: -56, AvgReturn[50]: -131\n"
          ]
        },
        {
          "output_type": "display_data",
          "data": {
            "text/plain": [
              "VBox(children=(Label(value='0.013 MB of 0.013 MB uploaded\\r'), FloatProgress(value=1.0, max=1.0)))"
            ],
            "application/vnd.jupyter.widget-view+json": {
              "version_major": 2,
              "version_minor": 0,
              "model_id": "f810f7c1350a49da8ef366ef531228ff"
            }
          },
          "metadata": {}
        },
        {
          "output_type": "display_data",
          "data": {
            "text/plain": [
              "<IPython.core.display.HTML object>"
            ],
            "text/html": [
              "<style>\n",
              "    table.wandb td:nth-child(1) { padding: 0 10px; text-align: left ; width: auto;} td:nth-child(2) {text-align: left ; width: 100%}\n",
              "    .wandb-row { display: flex; flex-direction: row; flex-wrap: wrap; justify-content: flex-start; width: 100% }\n",
              "    .wandb-col { display: flex; flex-direction: column; flex-basis: 100%; flex: 1; padding: 10px; }\n",
              "    </style>\n",
              "<div class=\"wandb-row\"><div class=\"wandb-col\"><h3>Run history:</h3><br/><table class=\"wandb\"><tr><td>Average Return</td><td>▁▂▃▃▄▄▄▄▄▅▅▅▅▅▅▅▆▆▆▆▆▆▆▆▆▇▇▇▇▇▇▇▇▇██████</td></tr><tr><td>Episode Return</td><td>▃▁▃▃▃▅▅▃▆▅▇▄▃▃▃▆▆▄▇▇▇▆▇▇██▇███▆▇▇█▇█▇▇█▇</td></tr></table><br/></div><div class=\"wandb-col\"><h3>Run summary:</h3><br/><table class=\"wandb\"><tr><td>Average Return</td><td>-130.76467</td></tr><tr><td>Episode Return</td><td>-56</td></tr></table><br/></div></div>"
            ]
          },
          "metadata": {}
        },
        {
          "output_type": "display_data",
          "data": {
            "text/plain": [
              "<IPython.core.display.HTML object>"
            ],
            "text/html": [
              " View run <strong style=\"color:#cdcd00\">clear-sweep-2</strong> at: <a href='https://wandb.ai/senich17/Dune-Q/runs/c54p7p81' target=\"_blank\">https://wandb.ai/senich17/Dune-Q/runs/c54p7p81</a><br/> View project at: <a href='https://wandb.ai/senich17/Dune-Q' target=\"_blank\">https://wandb.ai/senich17/Dune-Q</a><br/>Synced 5 W&B file(s), 0 media file(s), 0 artifact file(s) and 0 other file(s)"
            ]
          },
          "metadata": {}
        },
        {
          "output_type": "display_data",
          "data": {
            "text/plain": [
              "<IPython.core.display.HTML object>"
            ],
            "text/html": [
              "Find logs at: <code>./wandb/run-20240520_090125-c54p7p81/logs</code>"
            ]
          },
          "metadata": {}
        },
        {
          "output_type": "stream",
          "name": "stderr",
          "text": [
            "\u001b[34m\u001b[1mwandb\u001b[0m: Agent Starting Run: qty3chx5 with config:\n",
            "\u001b[34m\u001b[1mwandb\u001b[0m: \tn_dreaming_steps: 1\n",
            "\u001b[34m\u001b[1mwandb\u001b[0m: \tn_planning_steps: 10\n",
            "\u001b[34m\u001b[1mwandb\u001b[0m: \u001b[33mWARNING\u001b[0m Ignored wandb.init() arg project when running a sweep.\n"
          ]
        },
        {
          "output_type": "display_data",
          "data": {
            "text/plain": [
              "<IPython.core.display.HTML object>"
            ],
            "text/html": [
              "Tracking run with wandb version 0.17.0"
            ]
          },
          "metadata": {}
        },
        {
          "output_type": "display_data",
          "data": {
            "text/plain": [
              "<IPython.core.display.HTML object>"
            ],
            "text/html": [
              "Run data is saved locally in <code>/content/wandb/run-20240520_090155-qty3chx5</code>"
            ]
          },
          "metadata": {}
        },
        {
          "output_type": "display_data",
          "data": {
            "text/plain": [
              "<IPython.core.display.HTML object>"
            ],
            "text/html": [
              "Syncing run <strong><a href='https://wandb.ai/senich17/Dune-Q/runs/qty3chx5' target=\"_blank\">golden-sweep-3</a></strong> to <a href='https://wandb.ai/senich17/Dune-Q' target=\"_blank\">Weights & Biases</a> (<a href='https://wandb.me/run' target=\"_blank\">docs</a>)<br/>Sweep page: <a href='https://wandb.ai/senich17/Dune-Q/sweeps/ai15t1kj' target=\"_blank\">https://wandb.ai/senich17/Dune-Q/sweeps/ai15t1kj</a>"
            ]
          },
          "metadata": {}
        },
        {
          "output_type": "display_data",
          "data": {
            "text/plain": [
              "<IPython.core.display.HTML object>"
            ],
            "text/html": [
              " View project at <a href='https://wandb.ai/senich17/Dune-Q' target=\"_blank\">https://wandb.ai/senich17/Dune-Q</a>"
            ]
          },
          "metadata": {}
        },
        {
          "output_type": "display_data",
          "data": {
            "text/plain": [
              "<IPython.core.display.HTML object>"
            ],
            "text/html": [
              " View sweep at <a href='https://wandb.ai/senich17/Dune-Q/sweeps/ai15t1kj' target=\"_blank\">https://wandb.ai/senich17/Dune-Q/sweeps/ai15t1kj</a>"
            ]
          },
          "metadata": {}
        },
        {
          "output_type": "display_data",
          "data": {
            "text/plain": [
              "<IPython.core.display.HTML object>"
            ],
            "text/html": [
              " View run at <a href='https://wandb.ai/senich17/Dune-Q/runs/qty3chx5' target=\"_blank\">https://wandb.ai/senich17/Dune-Q/runs/qty3chx5</a>"
            ]
          },
          "metadata": {}
        },
        {
          "output_type": "stream",
          "name": "stdout",
          "text": [
            "Observation space: 500, Action space: 6\n",
            "Episode: 50, Return: -272, AvgReturn[50]: -373\n",
            "Episode: 100, Return: -308, AvgReturn[50]: -338\n",
            "Episode: 150, Return: -317, AvgReturn[50]: -319\n",
            "Episode: 200, Return: -272, AvgReturn[50]: -309\n",
            "Episode: 250, Return: -263, AvgReturn[50]: -298\n",
            "Episode: 300, Return: -299, AvgReturn[50]: -292\n",
            "Episode: 350, Return: -106, AvgReturn[50]: -285\n",
            "Episode: 400, Return: -254, AvgReturn[50]: -274\n",
            "Episode: 450, Return: -150, AvgReturn[50]: -271\n",
            "Episode: 500, Return: -254, AvgReturn[50]: -266\n",
            "Episode: 550, Return: -353, AvgReturn[50]: -261\n",
            "Episode: 600, Return: -135, AvgReturn[50]: -259\n",
            "Episode: 650, Return: -60, AvgReturn[50]: -254\n",
            "Episode: 700, Return: -62, AvgReturn[50]: -250\n",
            "Episode: 750, Return: -19, AvgReturn[50]: -245\n",
            "Episode: 800, Return: -227, AvgReturn[50]: -242\n",
            "Episode: 850, Return: -125, AvgReturn[50]: -239\n",
            "Episode: 900, Return: -317, AvgReturn[50]: -236\n",
            "Episode: 950, Return: -308, AvgReturn[50]: -233\n",
            "Episode: 1000, Return: -254, AvgReturn[50]: -232\n",
            "Episode: 1050, Return: -158, AvgReturn[50]: -230\n",
            "Episode: 1100, Return: -95, AvgReturn[50]: -225\n",
            "Episode: 1150, Return: -236, AvgReturn[50]: -222\n",
            "Episode: 1200, Return: -244, AvgReturn[50]: -218\n",
            "Episode: 1250, Return: -108, AvgReturn[50]: -214\n",
            "Episode: 1300, Return: -254, AvgReturn[50]: -210\n",
            "Episode: 1350, Return: -32, AvgReturn[50]: -206\n",
            "Episode: 1400, Return: -13, AvgReturn[50]: -202\n",
            "Episode: 1450, Return: -192, AvgReturn[50]: -200\n",
            "Episode: 1500, Return: -50, AvgReturn[50]: -196\n",
            "Episode: 1550, Return: -35, AvgReturn[50]: -193\n",
            "Episode: 1600, Return: -73, AvgReturn[50]: -189\n",
            "Episode: 1650, Return: -79, AvgReturn[50]: -186\n",
            "Episode: 1700, Return: -281, AvgReturn[50]: -183\n",
            "Episode: 1750, Return: -14, AvgReturn[50]: -180\n",
            "Episode: 1800, Return: -231, AvgReturn[50]: -178\n",
            "Episode: 1850, Return: -13, AvgReturn[50]: -174\n",
            "Episode: 1900, Return: 7, AvgReturn[50]: -171\n",
            "Episode: 1950, Return: -149, AvgReturn[50]: -169\n",
            "Episode: 2000, Return: -38, AvgReturn[50]: -166\n",
            "Episode: 2050, Return: -17, AvgReturn[50]: -164\n",
            "Episode: 2100, Return: 6, AvgReturn[50]: -161\n",
            "Episode: 2150, Return: -4, AvgReturn[50]: -158\n",
            "Episode: 2200, Return: 14, AvgReturn[50]: -156\n",
            "Episode: 2250, Return: -14, AvgReturn[50]: -153\n",
            "Episode: 2300, Return: -14, AvgReturn[50]: -151\n",
            "Episode: 2350, Return: -127, AvgReturn[50]: -149\n",
            "Episode: 2400, Return: -1, AvgReturn[50]: -147\n",
            "Episode: 2450, Return: -72, AvgReturn[50]: -144\n",
            "Episode: 2500, Return: -39, AvgReturn[50]: -142\n",
            "Episode: 2550, Return: -90, AvgReturn[50]: -140\n",
            "Episode: 2600, Return: -80, AvgReturn[50]: -137\n",
            "Episode: 2650, Return: -6, AvgReturn[50]: -135\n",
            "Episode: 2700, Return: 7, AvgReturn[50]: -133\n",
            "Episode: 2750, Return: -47, AvgReturn[50]: -131\n",
            "Episode: 2800, Return: -77, AvgReturn[50]: -129\n",
            "Episode: 2850, Return: 9, AvgReturn[50]: -127\n",
            "Episode: 2900, Return: 10, AvgReturn[50]: -125\n",
            "Episode: 2950, Return: -32, AvgReturn[50]: -124\n",
            "Episode: 3000, Return: -12, AvgReturn[50]: -122\n"
          ]
        },
        {
          "output_type": "display_data",
          "data": {
            "text/plain": [
              "VBox(children=(Label(value='0.001 MB of 0.001 MB uploaded\\r'), FloatProgress(value=1.0, max=1.0)))"
            ],
            "application/vnd.jupyter.widget-view+json": {
              "version_major": 2,
              "version_minor": 0,
              "model_id": "7af279ebfb0a4109a039fe4f348b34fd"
            }
          },
          "metadata": {}
        },
        {
          "output_type": "display_data",
          "data": {
            "text/plain": [
              "<IPython.core.display.HTML object>"
            ],
            "text/html": [
              "<style>\n",
              "    table.wandb td:nth-child(1) { padding: 0 10px; text-align: left ; width: auto;} td:nth-child(2) {text-align: left ; width: 100%}\n",
              "    .wandb-row { display: flex; flex-direction: row; flex-wrap: wrap; justify-content: flex-start; width: 100% }\n",
              "    .wandb-col { display: flex; flex-direction: column; flex-basis: 100%; flex: 1; padding: 10px; }\n",
              "    </style>\n",
              "<div class=\"wandb-row\"><div class=\"wandb-col\"><h3>Run history:</h3><br/><table class=\"wandb\"><tr><td>Average Return</td><td>▁▂▃▃▃▄▄▄▄▄▅▅▅▅▅▅▅▆▆▆▆▆▆▆▇▇▇▇▇▇▇▇▇▇██████</td></tr><tr><td>Episode Return</td><td>▃▂▃▃▆▃▃▁▇▇▃▅▂▃▆▃▆▃▇▄▇▆▂▇▇█▇▇██▇▅▆▇▆█▇▆██</td></tr></table><br/></div><div class=\"wandb-col\"><h3>Run summary:</h3><br/><table class=\"wandb\"><tr><td>Average Return</td><td>-121.96233</td></tr><tr><td>Episode Return</td><td>-12</td></tr></table><br/></div></div>"
            ]
          },
          "metadata": {}
        },
        {
          "output_type": "display_data",
          "data": {
            "text/plain": [
              "<IPython.core.display.HTML object>"
            ],
            "text/html": [
              " View run <strong style=\"color:#cdcd00\">golden-sweep-3</strong> at: <a href='https://wandb.ai/senich17/Dune-Q/runs/qty3chx5' target=\"_blank\">https://wandb.ai/senich17/Dune-Q/runs/qty3chx5</a><br/> View project at: <a href='https://wandb.ai/senich17/Dune-Q' target=\"_blank\">https://wandb.ai/senich17/Dune-Q</a><br/>Synced 5 W&B file(s), 0 media file(s), 0 artifact file(s) and 0 other file(s)"
            ]
          },
          "metadata": {}
        },
        {
          "output_type": "display_data",
          "data": {
            "text/plain": [
              "<IPython.core.display.HTML object>"
            ],
            "text/html": [
              "Find logs at: <code>./wandb/run-20240520_090155-qty3chx5/logs</code>"
            ]
          },
          "metadata": {}
        },
        {
          "output_type": "stream",
          "name": "stderr",
          "text": [
            "\u001b[34m\u001b[1mwandb\u001b[0m: Agent Starting Run: 8uu697sg with config:\n",
            "\u001b[34m\u001b[1mwandb\u001b[0m: \tn_dreaming_steps: 3\n",
            "\u001b[34m\u001b[1mwandb\u001b[0m: \tn_planning_steps: 1\n",
            "\u001b[34m\u001b[1mwandb\u001b[0m: \u001b[33mWARNING\u001b[0m Ignored wandb.init() arg project when running a sweep.\n"
          ]
        },
        {
          "output_type": "display_data",
          "data": {
            "text/plain": [
              "<IPython.core.display.HTML object>"
            ],
            "text/html": [
              "Tracking run with wandb version 0.17.0"
            ]
          },
          "metadata": {}
        },
        {
          "output_type": "display_data",
          "data": {
            "text/plain": [
              "<IPython.core.display.HTML object>"
            ],
            "text/html": [
              "Run data is saved locally in <code>/content/wandb/run-20240520_090227-8uu697sg</code>"
            ]
          },
          "metadata": {}
        },
        {
          "output_type": "display_data",
          "data": {
            "text/plain": [
              "<IPython.core.display.HTML object>"
            ],
            "text/html": [
              "Syncing run <strong><a href='https://wandb.ai/senich17/Dune-Q/runs/8uu697sg' target=\"_blank\">sleek-sweep-4</a></strong> to <a href='https://wandb.ai/senich17/Dune-Q' target=\"_blank\">Weights & Biases</a> (<a href='https://wandb.me/run' target=\"_blank\">docs</a>)<br/>Sweep page: <a href='https://wandb.ai/senich17/Dune-Q/sweeps/ai15t1kj' target=\"_blank\">https://wandb.ai/senich17/Dune-Q/sweeps/ai15t1kj</a>"
            ]
          },
          "metadata": {}
        },
        {
          "output_type": "display_data",
          "data": {
            "text/plain": [
              "<IPython.core.display.HTML object>"
            ],
            "text/html": [
              " View project at <a href='https://wandb.ai/senich17/Dune-Q' target=\"_blank\">https://wandb.ai/senich17/Dune-Q</a>"
            ]
          },
          "metadata": {}
        },
        {
          "output_type": "display_data",
          "data": {
            "text/plain": [
              "<IPython.core.display.HTML object>"
            ],
            "text/html": [
              " View sweep at <a href='https://wandb.ai/senich17/Dune-Q/sweeps/ai15t1kj' target=\"_blank\">https://wandb.ai/senich17/Dune-Q/sweeps/ai15t1kj</a>"
            ]
          },
          "metadata": {}
        },
        {
          "output_type": "display_data",
          "data": {
            "text/plain": [
              "<IPython.core.display.HTML object>"
            ],
            "text/html": [
              " View run at <a href='https://wandb.ai/senich17/Dune-Q/runs/8uu697sg' target=\"_blank\">https://wandb.ai/senich17/Dune-Q/runs/8uu697sg</a>"
            ]
          },
          "metadata": {}
        },
        {
          "output_type": "stream",
          "name": "stdout",
          "text": [
            "Observation space: 500, Action space: 6\n",
            "Episode: 50, Return: -299, AvgReturn[50]: -377\n",
            "Episode: 100, Return: -335, AvgReturn[50]: -343\n",
            "Episode: 150, Return: -272, AvgReturn[50]: -322\n",
            "Episode: 200, Return: -208, AvgReturn[50]: -309\n",
            "Episode: 250, Return: -299, AvgReturn[50]: -296\n",
            "Episode: 300, Return: -263, AvgReturn[50]: -289\n",
            "Episode: 350, Return: -308, AvgReturn[50]: -280\n",
            "Episode: 400, Return: -299, AvgReturn[50]: -274\n",
            "Episode: 450, Return: -281, AvgReturn[50]: -269\n",
            "Episode: 500, Return: -299, AvgReturn[50]: -266\n",
            "Episode: 550, Return: -130, AvgReturn[50]: -263\n",
            "Episode: 600, Return: -308, AvgReturn[50]: -259\n",
            "Episode: 650, Return: -89, AvgReturn[50]: -255\n",
            "Episode: 700, Return: -362, AvgReturn[50]: -252\n",
            "Episode: 750, Return: -62, AvgReturn[50]: -247\n",
            "Episode: 800, Return: -86, AvgReturn[50]: -243\n",
            "Episode: 850, Return: -263, AvgReturn[50]: -240\n",
            "Episode: 900, Return: -192, AvgReturn[50]: -237\n",
            "Episode: 950, Return: -263, AvgReturn[50]: -234\n",
            "Episode: 1000, Return: -245, AvgReturn[50]: -231\n",
            "Episode: 1050, Return: -272, AvgReturn[50]: -228\n",
            "Episode: 1100, Return: -135, AvgReturn[50]: -225\n",
            "Episode: 1150, Return: -100, AvgReturn[50]: -222\n",
            "Episode: 1200, Return: -164, AvgReturn[50]: -218\n",
            "Episode: 1250, Return: -93, AvgReturn[50]: -215\n",
            "Episode: 1300, Return: -55, AvgReturn[50]: -212\n",
            "Episode: 1350, Return: -11, AvgReturn[50]: -209\n",
            "Episode: 1400, Return: -184, AvgReturn[50]: -208\n",
            "Episode: 1450, Return: -272, AvgReturn[50]: -206\n",
            "Episode: 1500, Return: -110, AvgReturn[50]: -204\n",
            "Episode: 1550, Return: -2, AvgReturn[50]: -202\n",
            "Episode: 1600, Return: -128, AvgReturn[50]: -200\n",
            "Episode: 1650, Return: -272, AvgReturn[50]: -197\n",
            "Episode: 1700, Return: -290, AvgReturn[50]: -195\n",
            "Episode: 1750, Return: -53, AvgReturn[50]: -192\n",
            "Episode: 1800, Return: -33, AvgReturn[50]: -190\n",
            "Episode: 1850, Return: 5, AvgReturn[50]: -187\n",
            "Episode: 1900, Return: 1, AvgReturn[50]: -184\n",
            "Episode: 1950, Return: -239, AvgReturn[50]: -183\n",
            "Episode: 2000, Return: -209, AvgReturn[50]: -180\n",
            "Episode: 2050, Return: -30, AvgReturn[50]: -177\n",
            "Episode: 2100, Return: -29, AvgReturn[50]: -174\n",
            "Episode: 2150, Return: 7, AvgReturn[50]: -171\n",
            "Episode: 2200, Return: -11, AvgReturn[50]: -169\n",
            "Episode: 2250, Return: 12, AvgReturn[50]: -167\n",
            "Episode: 2300, Return: -128, AvgReturn[50]: -165\n",
            "Episode: 2350, Return: -36, AvgReturn[50]: -163\n",
            "Episode: 2400, Return: -128, AvgReturn[50]: -161\n",
            "Episode: 2450, Return: -133, AvgReturn[50]: -159\n",
            "Episode: 2500, Return: -102, AvgReturn[50]: -158\n",
            "Episode: 2550, Return: -204, AvgReturn[50]: -155\n",
            "Episode: 2600, Return: -7, AvgReturn[50]: -153\n",
            "Episode: 2650, Return: 8, AvgReturn[50]: -152\n",
            "Episode: 2700, Return: 5, AvgReturn[50]: -150\n",
            "Episode: 2750, Return: -19, AvgReturn[50]: -148\n",
            "Episode: 2800, Return: -6, AvgReturn[50]: -145\n",
            "Episode: 2850, Return: 1, AvgReturn[50]: -143\n",
            "Episode: 2900, Return: 6, AvgReturn[50]: -142\n",
            "Episode: 2950, Return: -60, AvgReturn[50]: -140\n",
            "Episode: 3000, Return: -79, AvgReturn[50]: -138\n"
          ]
        },
        {
          "output_type": "display_data",
          "data": {
            "text/plain": [
              "VBox(children=(Label(value='0.001 MB of 0.001 MB uploaded\\r'), FloatProgress(value=1.0, max=1.0)))"
            ],
            "application/vnd.jupyter.widget-view+json": {
              "version_major": 2,
              "version_minor": 0,
              "model_id": "66f6ffbf35054dd981e3c548877b593f"
            }
          },
          "metadata": {}
        },
        {
          "output_type": "display_data",
          "data": {
            "text/plain": [
              "<IPython.core.display.HTML object>"
            ],
            "text/html": [
              "<style>\n",
              "    table.wandb td:nth-child(1) { padding: 0 10px; text-align: left ; width: auto;} td:nth-child(2) {text-align: left ; width: 100%}\n",
              "    .wandb-row { display: flex; flex-direction: row; flex-wrap: wrap; justify-content: flex-start; width: 100% }\n",
              "    .wandb-col { display: flex; flex-direction: column; flex-basis: 100%; flex: 1; padding: 10px; }\n",
              "    </style>\n",
              "<div class=\"wandb-row\"><div class=\"wandb-col\"><h3>Run history:</h3><br/><table class=\"wandb\"><tr><td>Average Return</td><td>▁▂▃▃▄▄▄▄▅▅▅▅▅▅▅▆▆▆▆▆▆▆▆▆▇▇▇▇▇▇▇▇▇▇██████</td></tr><tr><td>Episode Return</td><td>▂▂▄▂▂▂▂▅▆▁▆▃▃▃▅▆▆▇▄▃█▅▂▇██▄▇██▅▇▅▆██▇██▆</td></tr></table><br/></div><div class=\"wandb-col\"><h3>Run summary:</h3><br/><table class=\"wandb\"><tr><td>Average Return</td><td>-138.01267</td></tr><tr><td>Episode Return</td><td>-79</td></tr></table><br/></div></div>"
            ]
          },
          "metadata": {}
        },
        {
          "output_type": "display_data",
          "data": {
            "text/plain": [
              "<IPython.core.display.HTML object>"
            ],
            "text/html": [
              " View run <strong style=\"color:#cdcd00\">sleek-sweep-4</strong> at: <a href='https://wandb.ai/senich17/Dune-Q/runs/8uu697sg' target=\"_blank\">https://wandb.ai/senich17/Dune-Q/runs/8uu697sg</a><br/> View project at: <a href='https://wandb.ai/senich17/Dune-Q' target=\"_blank\">https://wandb.ai/senich17/Dune-Q</a><br/>Synced 5 W&B file(s), 0 media file(s), 0 artifact file(s) and 0 other file(s)"
            ]
          },
          "metadata": {}
        },
        {
          "output_type": "display_data",
          "data": {
            "text/plain": [
              "<IPython.core.display.HTML object>"
            ],
            "text/html": [
              "Find logs at: <code>./wandb/run-20240520_090227-8uu697sg/logs</code>"
            ]
          },
          "metadata": {}
        },
        {
          "output_type": "stream",
          "name": "stderr",
          "text": [
            "\u001b[34m\u001b[1mwandb\u001b[0m: Agent Starting Run: lbr4hiyt with config:\n",
            "\u001b[34m\u001b[1mwandb\u001b[0m: \tn_dreaming_steps: 3\n",
            "\u001b[34m\u001b[1mwandb\u001b[0m: \tn_planning_steps: 5\n",
            "\u001b[34m\u001b[1mwandb\u001b[0m: \u001b[33mWARNING\u001b[0m Ignored wandb.init() arg project when running a sweep.\n"
          ]
        },
        {
          "output_type": "display_data",
          "data": {
            "text/plain": [
              "<IPython.core.display.HTML object>"
            ],
            "text/html": [
              "Tracking run with wandb version 0.17.0"
            ]
          },
          "metadata": {}
        },
        {
          "output_type": "display_data",
          "data": {
            "text/plain": [
              "<IPython.core.display.HTML object>"
            ],
            "text/html": [
              "Run data is saved locally in <code>/content/wandb/run-20240520_090302-lbr4hiyt</code>"
            ]
          },
          "metadata": {}
        },
        {
          "output_type": "display_data",
          "data": {
            "text/plain": [
              "<IPython.core.display.HTML object>"
            ],
            "text/html": [
              "Syncing run <strong><a href='https://wandb.ai/senich17/Dune-Q/runs/lbr4hiyt' target=\"_blank\">major-sweep-5</a></strong> to <a href='https://wandb.ai/senich17/Dune-Q' target=\"_blank\">Weights & Biases</a> (<a href='https://wandb.me/run' target=\"_blank\">docs</a>)<br/>Sweep page: <a href='https://wandb.ai/senich17/Dune-Q/sweeps/ai15t1kj' target=\"_blank\">https://wandb.ai/senich17/Dune-Q/sweeps/ai15t1kj</a>"
            ]
          },
          "metadata": {}
        },
        {
          "output_type": "display_data",
          "data": {
            "text/plain": [
              "<IPython.core.display.HTML object>"
            ],
            "text/html": [
              " View project at <a href='https://wandb.ai/senich17/Dune-Q' target=\"_blank\">https://wandb.ai/senich17/Dune-Q</a>"
            ]
          },
          "metadata": {}
        },
        {
          "output_type": "display_data",
          "data": {
            "text/plain": [
              "<IPython.core.display.HTML object>"
            ],
            "text/html": [
              " View sweep at <a href='https://wandb.ai/senich17/Dune-Q/sweeps/ai15t1kj' target=\"_blank\">https://wandb.ai/senich17/Dune-Q/sweeps/ai15t1kj</a>"
            ]
          },
          "metadata": {}
        },
        {
          "output_type": "display_data",
          "data": {
            "text/plain": [
              "<IPython.core.display.HTML object>"
            ],
            "text/html": [
              " View run at <a href='https://wandb.ai/senich17/Dune-Q/runs/lbr4hiyt' target=\"_blank\">https://wandb.ai/senich17/Dune-Q/runs/lbr4hiyt</a>"
            ]
          },
          "metadata": {}
        },
        {
          "output_type": "stream",
          "name": "stdout",
          "text": [
            "Observation space: 500, Action space: 6\n",
            "Episode: 50, Return: -443, AvgReturn[50]: -366\n",
            "Episode: 100, Return: -425, AvgReturn[50]: -338\n",
            "Episode: 150, Return: -299, AvgReturn[50]: -312\n",
            "Episode: 200, Return: -290, AvgReturn[50]: -300\n",
            "Episode: 250, Return: -107, AvgReturn[50]: -288\n",
            "Episode: 300, Return: -308, AvgReturn[50]: -283\n",
            "Episode: 350, Return: -236, AvgReturn[50]: -276\n",
            "Episode: 400, Return: -183, AvgReturn[50]: -270\n",
            "Episode: 450, Return: -61, AvgReturn[50]: -267\n",
            "Episode: 500, Return: -263, AvgReturn[50]: -263\n",
            "Episode: 550, Return: -198, AvgReturn[50]: -260\n",
            "Episode: 600, Return: -254, AvgReturn[50]: -257\n",
            "Episode: 650, Return: -237, AvgReturn[50]: -252\n",
            "Episode: 700, Return: -254, AvgReturn[50]: -249\n",
            "Episode: 750, Return: -272, AvgReturn[50]: -247\n",
            "Episode: 800, Return: -301, AvgReturn[50]: -244\n",
            "Episode: 850, Return: -102, AvgReturn[50]: -241\n",
            "Episode: 900, Return: -239, AvgReturn[50]: -237\n",
            "Episode: 950, Return: -168, AvgReturn[50]: -233\n",
            "Episode: 1000, Return: -254, AvgReturn[50]: -231\n",
            "Episode: 1050, Return: -127, AvgReturn[50]: -228\n",
            "Episode: 1100, Return: -59, AvgReturn[50]: -226\n",
            "Episode: 1150, Return: -19, AvgReturn[50]: -222\n",
            "Episode: 1200, Return: -156, AvgReturn[50]: -220\n",
            "Episode: 1250, Return: -272, AvgReturn[50]: -218\n",
            "Episode: 1300, Return: -98, AvgReturn[50]: -215\n",
            "Episode: 1350, Return: -245, AvgReturn[50]: -213\n",
            "Episode: 1400, Return: -308, AvgReturn[50]: -210\n",
            "Episode: 1450, Return: -31, AvgReturn[50]: -206\n",
            "Episode: 1500, Return: -115, AvgReturn[50]: -204\n",
            "Episode: 1550, Return: -193, AvgReturn[50]: -201\n",
            "Episode: 1600, Return: -69, AvgReturn[50]: -198\n",
            "Episode: 1650, Return: -206, AvgReturn[50]: -194\n",
            "Episode: 1700, Return: -147, AvgReturn[50]: -192\n",
            "Episode: 1750, Return: -16, AvgReturn[50]: -188\n",
            "Episode: 1800, Return: -207, AvgReturn[50]: -186\n",
            "Episode: 1850, Return: -5, AvgReturn[50]: -183\n",
            "Episode: 1900, Return: 9, AvgReturn[50]: -181\n",
            "Episode: 1950, Return: -73, AvgReturn[50]: -178\n",
            "Episode: 2000, Return: -90, AvgReturn[50]: -176\n",
            "Episode: 2050, Return: -28, AvgReturn[50]: -173\n",
            "Episode: 2100, Return: -99, AvgReturn[50]: -171\n",
            "Episode: 2150, Return: -124, AvgReturn[50]: -169\n",
            "Episode: 2200, Return: 8, AvgReturn[50]: -167\n",
            "Episode: 2250, Return: -130, AvgReturn[50]: -165\n",
            "Episode: 2300, Return: -5, AvgReturn[50]: -163\n",
            "Episode: 2350, Return: -85, AvgReturn[50]: -160\n",
            "Episode: 2400, Return: -78, AvgReturn[50]: -158\n",
            "Episode: 2450, Return: -36, AvgReturn[50]: -156\n",
            "Episode: 2500, Return: 6, AvgReturn[50]: -154\n",
            "Episode: 2550, Return: -133, AvgReturn[50]: -152\n",
            "Episode: 2600, Return: -186, AvgReturn[50]: -150\n",
            "Episode: 2650, Return: 7, AvgReturn[50]: -148\n",
            "Episode: 2700, Return: 9, AvgReturn[50]: -146\n",
            "Episode: 2750, Return: -51, AvgReturn[50]: -144\n",
            "Episode: 2800, Return: -31, AvgReturn[50]: -142\n",
            "Episode: 2850, Return: 8, AvgReturn[50]: -140\n",
            "Episode: 2900, Return: 9, AvgReturn[50]: -138\n",
            "Episode: 2950, Return: 2, AvgReturn[50]: -136\n",
            "Episode: 3000, Return: -51, AvgReturn[50]: -134\n"
          ]
        },
        {
          "output_type": "display_data",
          "data": {
            "text/plain": [
              "VBox(children=(Label(value='0.001 MB of 0.001 MB uploaded\\r'), FloatProgress(value=1.0, max=1.0)))"
            ],
            "application/vnd.jupyter.widget-view+json": {
              "version_major": 2,
              "version_minor": 0,
              "model_id": "17b781d64a834fb1b62ad3846608a222"
            }
          },
          "metadata": {}
        },
        {
          "output_type": "display_data",
          "data": {
            "text/plain": [
              "<IPython.core.display.HTML object>"
            ],
            "text/html": [
              "<style>\n",
              "    table.wandb td:nth-child(1) { padding: 0 10px; text-align: left ; width: auto;} td:nth-child(2) {text-align: left ; width: 100%}\n",
              "    .wandb-row { display: flex; flex-direction: row; flex-wrap: wrap; justify-content: flex-start; width: 100% }\n",
              "    .wandb-col { display: flex; flex-direction: column; flex-basis: 100%; flex: 1; padding: 10px; }\n",
              "    </style>\n",
              "<div class=\"wandb-row\"><div class=\"wandb-col\"><h3>Run history:</h3><br/><table class=\"wandb\"><tr><td>Average Return</td><td>▁▂▃▃▄▄▄▄▄▅▅▅▅▅▅▅▅▆▆▆▆▆▆▆▇▇▇▇▇▇▇▇▇▇██████</td></tr><tr><td>Episode Return</td><td>▁▁▃▆▄▅▄▅▄▄▃▆▅▄▇█▄▆▃▇▅▇▆███▆▇▆██▇▇█▅█▇▇█▇</td></tr></table><br/></div><div class=\"wandb-col\"><h3>Run summary:</h3><br/><table class=\"wandb\"><tr><td>Average Return</td><td>-134.04933</td></tr><tr><td>Episode Return</td><td>-51</td></tr></table><br/></div></div>"
            ]
          },
          "metadata": {}
        },
        {
          "output_type": "display_data",
          "data": {
            "text/plain": [
              "<IPython.core.display.HTML object>"
            ],
            "text/html": [
              " View run <strong style=\"color:#cdcd00\">major-sweep-5</strong> at: <a href='https://wandb.ai/senich17/Dune-Q/runs/lbr4hiyt' target=\"_blank\">https://wandb.ai/senich17/Dune-Q/runs/lbr4hiyt</a><br/> View project at: <a href='https://wandb.ai/senich17/Dune-Q' target=\"_blank\">https://wandb.ai/senich17/Dune-Q</a><br/>Synced 5 W&B file(s), 0 media file(s), 0 artifact file(s) and 0 other file(s)"
            ]
          },
          "metadata": {}
        },
        {
          "output_type": "display_data",
          "data": {
            "text/plain": [
              "<IPython.core.display.HTML object>"
            ],
            "text/html": [
              "Find logs at: <code>./wandb/run-20240520_090302-lbr4hiyt/logs</code>"
            ]
          },
          "metadata": {}
        },
        {
          "output_type": "stream",
          "name": "stdout",
          "text": [
            "Error in callback <bound method _WandbInit._pause_backend of <wandb.sdk.wandb_init._WandbInit object at 0x7e6dca43db40>> (for post_run_cell):\n"
          ]
        },
        {
          "output_type": "error",
          "ename": "BrokenPipeError",
          "evalue": "[Errno 32] Broken pipe",
          "traceback": [
            "\u001b[0;31m---------------------------------------------------------------------------\u001b[0m",
            "\u001b[0;31mBrokenPipeError\u001b[0m                           Traceback (most recent call last)",
            "\u001b[0;32m/usr/local/lib/python3.10/dist-packages/wandb/sdk/wandb_init.py\u001b[0m in \u001b[0;36m_pause_backend\u001b[0;34m(self, *args, **kwargs)\u001b[0m\n\u001b[1;32m    430\u001b[0m         \u001b[0;32mif\u001b[0m \u001b[0mself\u001b[0m\u001b[0;34m.\u001b[0m\u001b[0mbackend\u001b[0m\u001b[0;34m.\u001b[0m\u001b[0minterface\u001b[0m \u001b[0;32mis\u001b[0m \u001b[0;32mnot\u001b[0m \u001b[0;32mNone\u001b[0m\u001b[0;34m:\u001b[0m\u001b[0;34m\u001b[0m\u001b[0;34m\u001b[0m\u001b[0m\n\u001b[1;32m    431\u001b[0m             \u001b[0mlogger\u001b[0m\u001b[0;34m.\u001b[0m\u001b[0minfo\u001b[0m\u001b[0;34m(\u001b[0m\u001b[0;34m\"pausing backend\"\u001b[0m\u001b[0;34m)\u001b[0m  \u001b[0;31m# type: ignore\u001b[0m\u001b[0;34m\u001b[0m\u001b[0;34m\u001b[0m\u001b[0m\n\u001b[0;32m--> 432\u001b[0;31m             \u001b[0mself\u001b[0m\u001b[0;34m.\u001b[0m\u001b[0mbackend\u001b[0m\u001b[0;34m.\u001b[0m\u001b[0minterface\u001b[0m\u001b[0;34m.\u001b[0m\u001b[0mpublish_pause\u001b[0m\u001b[0;34m(\u001b[0m\u001b[0;34m)\u001b[0m\u001b[0;34m\u001b[0m\u001b[0;34m\u001b[0m\u001b[0m\n\u001b[0m\u001b[1;32m    433\u001b[0m \u001b[0;34m\u001b[0m\u001b[0m\n\u001b[1;32m    434\u001b[0m     \u001b[0;32mdef\u001b[0m \u001b[0m_resume_backend\u001b[0m\u001b[0;34m(\u001b[0m\u001b[0mself\u001b[0m\u001b[0;34m,\u001b[0m \u001b[0;34m*\u001b[0m\u001b[0margs\u001b[0m\u001b[0;34m:\u001b[0m \u001b[0mAny\u001b[0m\u001b[0;34m,\u001b[0m \u001b[0;34m**\u001b[0m\u001b[0mkwargs\u001b[0m\u001b[0;34m:\u001b[0m \u001b[0mAny\u001b[0m\u001b[0;34m)\u001b[0m \u001b[0;34m->\u001b[0m \u001b[0;32mNone\u001b[0m\u001b[0;34m:\u001b[0m  \u001b[0;31m#  noqa\u001b[0m\u001b[0;34m\u001b[0m\u001b[0;34m\u001b[0m\u001b[0m\n",
            "\u001b[0;32m/usr/local/lib/python3.10/dist-packages/wandb/sdk/interface/interface.py\u001b[0m in \u001b[0;36mpublish_pause\u001b[0;34m(self)\u001b[0m\n\u001b[1;32m    696\u001b[0m     \u001b[0;32mdef\u001b[0m \u001b[0mpublish_pause\u001b[0m\u001b[0;34m(\u001b[0m\u001b[0mself\u001b[0m\u001b[0;34m)\u001b[0m \u001b[0;34m->\u001b[0m \u001b[0;32mNone\u001b[0m\u001b[0;34m:\u001b[0m\u001b[0;34m\u001b[0m\u001b[0;34m\u001b[0m\u001b[0m\n\u001b[1;32m    697\u001b[0m         \u001b[0mpause\u001b[0m \u001b[0;34m=\u001b[0m \u001b[0mpb\u001b[0m\u001b[0;34m.\u001b[0m\u001b[0mPauseRequest\u001b[0m\u001b[0;34m(\u001b[0m\u001b[0;34m)\u001b[0m\u001b[0;34m\u001b[0m\u001b[0;34m\u001b[0m\u001b[0m\n\u001b[0;32m--> 698\u001b[0;31m         \u001b[0mself\u001b[0m\u001b[0;34m.\u001b[0m\u001b[0m_publish_pause\u001b[0m\u001b[0;34m(\u001b[0m\u001b[0mpause\u001b[0m\u001b[0;34m)\u001b[0m\u001b[0;34m\u001b[0m\u001b[0;34m\u001b[0m\u001b[0m\n\u001b[0m\u001b[1;32m    699\u001b[0m \u001b[0;34m\u001b[0m\u001b[0m\n\u001b[1;32m    700\u001b[0m     \u001b[0;34m@\u001b[0m\u001b[0mabstractmethod\u001b[0m\u001b[0;34m\u001b[0m\u001b[0;34m\u001b[0m\u001b[0m\n",
            "\u001b[0;32m/usr/local/lib/python3.10/dist-packages/wandb/sdk/interface/interface_shared.py\u001b[0m in \u001b[0;36m_publish_pause\u001b[0;34m(self, pause)\u001b[0m\n\u001b[1;32m    357\u001b[0m     \u001b[0;32mdef\u001b[0m \u001b[0m_publish_pause\u001b[0m\u001b[0;34m(\u001b[0m\u001b[0mself\u001b[0m\u001b[0;34m,\u001b[0m \u001b[0mpause\u001b[0m\u001b[0;34m:\u001b[0m \u001b[0mpb\u001b[0m\u001b[0;34m.\u001b[0m\u001b[0mPauseRequest\u001b[0m\u001b[0;34m)\u001b[0m \u001b[0;34m->\u001b[0m \u001b[0;32mNone\u001b[0m\u001b[0;34m:\u001b[0m\u001b[0;34m\u001b[0m\u001b[0;34m\u001b[0m\u001b[0m\n\u001b[1;32m    358\u001b[0m         \u001b[0mrec\u001b[0m \u001b[0;34m=\u001b[0m \u001b[0mself\u001b[0m\u001b[0;34m.\u001b[0m\u001b[0m_make_request\u001b[0m\u001b[0;34m(\u001b[0m\u001b[0mpause\u001b[0m\u001b[0;34m=\u001b[0m\u001b[0mpause\u001b[0m\u001b[0;34m)\u001b[0m\u001b[0;34m\u001b[0m\u001b[0;34m\u001b[0m\u001b[0m\n\u001b[0;32m--> 359\u001b[0;31m         \u001b[0mself\u001b[0m\u001b[0;34m.\u001b[0m\u001b[0m_publish\u001b[0m\u001b[0;34m(\u001b[0m\u001b[0mrec\u001b[0m\u001b[0;34m)\u001b[0m\u001b[0;34m\u001b[0m\u001b[0;34m\u001b[0m\u001b[0m\n\u001b[0m\u001b[1;32m    360\u001b[0m \u001b[0;34m\u001b[0m\u001b[0m\n\u001b[1;32m    361\u001b[0m     \u001b[0;32mdef\u001b[0m \u001b[0m_publish_resume\u001b[0m\u001b[0;34m(\u001b[0m\u001b[0mself\u001b[0m\u001b[0;34m,\u001b[0m \u001b[0mresume\u001b[0m\u001b[0;34m:\u001b[0m \u001b[0mpb\u001b[0m\u001b[0;34m.\u001b[0m\u001b[0mResumeRequest\u001b[0m\u001b[0;34m)\u001b[0m \u001b[0;34m->\u001b[0m \u001b[0;32mNone\u001b[0m\u001b[0;34m:\u001b[0m\u001b[0;34m\u001b[0m\u001b[0;34m\u001b[0m\u001b[0m\n",
            "\u001b[0;32m/usr/local/lib/python3.10/dist-packages/wandb/sdk/interface/interface_sock.py\u001b[0m in \u001b[0;36m_publish\u001b[0;34m(self, record, local)\u001b[0m\n\u001b[1;32m     49\u001b[0m     \u001b[0;32mdef\u001b[0m \u001b[0m_publish\u001b[0m\u001b[0;34m(\u001b[0m\u001b[0mself\u001b[0m\u001b[0;34m,\u001b[0m \u001b[0mrecord\u001b[0m\u001b[0;34m:\u001b[0m \u001b[0;34m\"pb.Record\"\u001b[0m\u001b[0;34m,\u001b[0m \u001b[0mlocal\u001b[0m\u001b[0;34m:\u001b[0m \u001b[0mOptional\u001b[0m\u001b[0;34m[\u001b[0m\u001b[0mbool\u001b[0m\u001b[0;34m]\u001b[0m \u001b[0;34m=\u001b[0m \u001b[0;32mNone\u001b[0m\u001b[0;34m)\u001b[0m \u001b[0;34m->\u001b[0m \u001b[0;32mNone\u001b[0m\u001b[0;34m:\u001b[0m\u001b[0;34m\u001b[0m\u001b[0;34m\u001b[0m\u001b[0m\n\u001b[1;32m     50\u001b[0m         \u001b[0mself\u001b[0m\u001b[0;34m.\u001b[0m\u001b[0m_assign\u001b[0m\u001b[0;34m(\u001b[0m\u001b[0mrecord\u001b[0m\u001b[0;34m)\u001b[0m\u001b[0;34m\u001b[0m\u001b[0;34m\u001b[0m\u001b[0m\n\u001b[0;32m---> 51\u001b[0;31m         \u001b[0mself\u001b[0m\u001b[0;34m.\u001b[0m\u001b[0m_sock_client\u001b[0m\u001b[0;34m.\u001b[0m\u001b[0msend_record_publish\u001b[0m\u001b[0;34m(\u001b[0m\u001b[0mrecord\u001b[0m\u001b[0;34m)\u001b[0m\u001b[0;34m\u001b[0m\u001b[0;34m\u001b[0m\u001b[0m\n\u001b[0m\u001b[1;32m     52\u001b[0m \u001b[0;34m\u001b[0m\u001b[0m\n\u001b[1;32m     53\u001b[0m     def _communicate_async(\n",
            "\u001b[0;32m/usr/local/lib/python3.10/dist-packages/wandb/sdk/lib/sock_client.py\u001b[0m in \u001b[0;36msend_record_publish\u001b[0;34m(self, record)\u001b[0m\n\u001b[1;32m    219\u001b[0m         \u001b[0mserver_req\u001b[0m \u001b[0;34m=\u001b[0m \u001b[0mspb\u001b[0m\u001b[0;34m.\u001b[0m\u001b[0mServerRequest\u001b[0m\u001b[0;34m(\u001b[0m\u001b[0;34m)\u001b[0m\u001b[0;34m\u001b[0m\u001b[0;34m\u001b[0m\u001b[0m\n\u001b[1;32m    220\u001b[0m         \u001b[0mserver_req\u001b[0m\u001b[0;34m.\u001b[0m\u001b[0mrecord_publish\u001b[0m\u001b[0;34m.\u001b[0m\u001b[0mCopyFrom\u001b[0m\u001b[0;34m(\u001b[0m\u001b[0mrecord\u001b[0m\u001b[0;34m)\u001b[0m\u001b[0;34m\u001b[0m\u001b[0;34m\u001b[0m\u001b[0m\n\u001b[0;32m--> 221\u001b[0;31m         \u001b[0mself\u001b[0m\u001b[0;34m.\u001b[0m\u001b[0msend_server_request\u001b[0m\u001b[0;34m(\u001b[0m\u001b[0mserver_req\u001b[0m\u001b[0;34m)\u001b[0m\u001b[0;34m\u001b[0m\u001b[0;34m\u001b[0m\u001b[0m\n\u001b[0m\u001b[1;32m    222\u001b[0m \u001b[0;34m\u001b[0m\u001b[0m\n\u001b[1;32m    223\u001b[0m     \u001b[0;32mdef\u001b[0m \u001b[0m_extract_packet_bytes\u001b[0m\u001b[0;34m(\u001b[0m\u001b[0mself\u001b[0m\u001b[0;34m)\u001b[0m \u001b[0;34m->\u001b[0m \u001b[0mOptional\u001b[0m\u001b[0;34m[\u001b[0m\u001b[0mbytes\u001b[0m\u001b[0;34m]\u001b[0m\u001b[0;34m:\u001b[0m\u001b[0;34m\u001b[0m\u001b[0;34m\u001b[0m\u001b[0m\n",
            "\u001b[0;32m/usr/local/lib/python3.10/dist-packages/wandb/sdk/lib/sock_client.py\u001b[0m in \u001b[0;36msend_server_request\u001b[0;34m(self, msg)\u001b[0m\n\u001b[1;32m    153\u001b[0m \u001b[0;34m\u001b[0m\u001b[0m\n\u001b[1;32m    154\u001b[0m     \u001b[0;32mdef\u001b[0m \u001b[0msend_server_request\u001b[0m\u001b[0;34m(\u001b[0m\u001b[0mself\u001b[0m\u001b[0;34m,\u001b[0m \u001b[0mmsg\u001b[0m\u001b[0;34m:\u001b[0m \u001b[0mAny\u001b[0m\u001b[0;34m)\u001b[0m \u001b[0;34m->\u001b[0m \u001b[0;32mNone\u001b[0m\u001b[0;34m:\u001b[0m\u001b[0;34m\u001b[0m\u001b[0;34m\u001b[0m\u001b[0m\n\u001b[0;32m--> 155\u001b[0;31m         \u001b[0mself\u001b[0m\u001b[0;34m.\u001b[0m\u001b[0m_send_message\u001b[0m\u001b[0;34m(\u001b[0m\u001b[0mmsg\u001b[0m\u001b[0;34m)\u001b[0m\u001b[0;34m\u001b[0m\u001b[0;34m\u001b[0m\u001b[0m\n\u001b[0m\u001b[1;32m    156\u001b[0m \u001b[0;34m\u001b[0m\u001b[0m\n\u001b[1;32m    157\u001b[0m     \u001b[0;32mdef\u001b[0m \u001b[0msend_server_response\u001b[0m\u001b[0;34m(\u001b[0m\u001b[0mself\u001b[0m\u001b[0;34m,\u001b[0m \u001b[0mmsg\u001b[0m\u001b[0;34m:\u001b[0m \u001b[0mAny\u001b[0m\u001b[0;34m)\u001b[0m \u001b[0;34m->\u001b[0m \u001b[0;32mNone\u001b[0m\u001b[0;34m:\u001b[0m\u001b[0;34m\u001b[0m\u001b[0;34m\u001b[0m\u001b[0m\n",
            "\u001b[0;32m/usr/local/lib/python3.10/dist-packages/wandb/sdk/lib/sock_client.py\u001b[0m in \u001b[0;36m_send_message\u001b[0;34m(self, msg)\u001b[0m\n\u001b[1;32m    150\u001b[0m         \u001b[0mheader\u001b[0m \u001b[0;34m=\u001b[0m \u001b[0mstruct\u001b[0m\u001b[0;34m.\u001b[0m\u001b[0mpack\u001b[0m\u001b[0;34m(\u001b[0m\u001b[0;34m\"<BI\"\u001b[0m\u001b[0;34m,\u001b[0m \u001b[0mord\u001b[0m\u001b[0;34m(\u001b[0m\u001b[0;34m\"W\"\u001b[0m\u001b[0;34m)\u001b[0m\u001b[0;34m,\u001b[0m \u001b[0mraw_size\u001b[0m\u001b[0;34m)\u001b[0m\u001b[0;34m\u001b[0m\u001b[0;34m\u001b[0m\u001b[0m\n\u001b[1;32m    151\u001b[0m         \u001b[0;32mwith\u001b[0m \u001b[0mself\u001b[0m\u001b[0;34m.\u001b[0m\u001b[0m_lock\u001b[0m\u001b[0;34m:\u001b[0m\u001b[0;34m\u001b[0m\u001b[0;34m\u001b[0m\u001b[0m\n\u001b[0;32m--> 152\u001b[0;31m             \u001b[0mself\u001b[0m\u001b[0;34m.\u001b[0m\u001b[0m_sendall_with_error_handle\u001b[0m\u001b[0;34m(\u001b[0m\u001b[0mheader\u001b[0m \u001b[0;34m+\u001b[0m \u001b[0mdata\u001b[0m\u001b[0;34m)\u001b[0m\u001b[0;34m\u001b[0m\u001b[0;34m\u001b[0m\u001b[0m\n\u001b[0m\u001b[1;32m    153\u001b[0m \u001b[0;34m\u001b[0m\u001b[0m\n\u001b[1;32m    154\u001b[0m     \u001b[0;32mdef\u001b[0m \u001b[0msend_server_request\u001b[0m\u001b[0;34m(\u001b[0m\u001b[0mself\u001b[0m\u001b[0;34m,\u001b[0m \u001b[0mmsg\u001b[0m\u001b[0;34m:\u001b[0m \u001b[0mAny\u001b[0m\u001b[0;34m)\u001b[0m \u001b[0;34m->\u001b[0m \u001b[0;32mNone\u001b[0m\u001b[0;34m:\u001b[0m\u001b[0;34m\u001b[0m\u001b[0;34m\u001b[0m\u001b[0m\n",
            "\u001b[0;32m/usr/local/lib/python3.10/dist-packages/wandb/sdk/lib/sock_client.py\u001b[0m in \u001b[0;36m_sendall_with_error_handle\u001b[0;34m(self, data)\u001b[0m\n\u001b[1;32m    128\u001b[0m             \u001b[0mstart_time\u001b[0m \u001b[0;34m=\u001b[0m \u001b[0mtime\u001b[0m\u001b[0;34m.\u001b[0m\u001b[0mmonotonic\u001b[0m\u001b[0;34m(\u001b[0m\u001b[0;34m)\u001b[0m\u001b[0;34m\u001b[0m\u001b[0;34m\u001b[0m\u001b[0m\n\u001b[1;32m    129\u001b[0m             \u001b[0;32mtry\u001b[0m\u001b[0;34m:\u001b[0m\u001b[0;34m\u001b[0m\u001b[0;34m\u001b[0m\u001b[0m\n\u001b[0;32m--> 130\u001b[0;31m                 \u001b[0msent\u001b[0m \u001b[0;34m=\u001b[0m \u001b[0mself\u001b[0m\u001b[0;34m.\u001b[0m\u001b[0m_sock\u001b[0m\u001b[0;34m.\u001b[0m\u001b[0msend\u001b[0m\u001b[0;34m(\u001b[0m\u001b[0mdata\u001b[0m\u001b[0;34m)\u001b[0m\u001b[0;34m\u001b[0m\u001b[0;34m\u001b[0m\u001b[0m\n\u001b[0m\u001b[1;32m    131\u001b[0m                 \u001b[0;31m# sent equal to 0 indicates a closed socket\u001b[0m\u001b[0;34m\u001b[0m\u001b[0;34m\u001b[0m\u001b[0m\n\u001b[1;32m    132\u001b[0m                 \u001b[0;32mif\u001b[0m \u001b[0msent\u001b[0m \u001b[0;34m==\u001b[0m \u001b[0;36m0\u001b[0m\u001b[0;34m:\u001b[0m\u001b[0;34m\u001b[0m\u001b[0;34m\u001b[0m\u001b[0m\n",
            "\u001b[0;31mBrokenPipeError\u001b[0m: [Errno 32] Broken pipe"
          ]
        }
      ]
    },
    {
      "cell_type": "markdown",
      "source": [
        "Прилагаю ссылку на WandB, чтобы посмотреть на параметры и результаты https://api.wandb.ai/links/senich17/ky83q8g3"
      ],
      "metadata": {
        "id": "E9BWjMuKCQ6R"
      }
    },
    {
      "cell_type": "markdown",
      "source": [
        "## Выводы по гиперпараметрам\n",
        "\n",
        "### 1. Прибытие Пола на Арракис с n_dreaming_steps: 1, n_planning_steps: 1\n",
        "\n",
        "Средний возврат составил -138.19733, а возврат за эпизод был 0. В начале своего пути модель, как молодой Пол Атрейдес, только что прибывший на Арракис. Неопытная и неосведомленная о суровых реалиях загадочной планеты, она сталкивается с многочисленными трудностями, такими как песчаные бури, засуха, и нападения на спайс-майнеры. Она ещё не обрела достаточного опыта и планирования, чтобы успешно противостоять вызовам планеты.\n",
        "\n",
        "### 2. Прозрение в пустыне с n_dreaming_steps: 1, n_planning_steps: 5\n",
        "\n",
        "Повышение n_planning_steps до 5 позволило модели лучше планировать свои действия, что улучшило средний возврат до -130.76467 (по сравнению с -138.19733 в предыдущем запуске), но возврат за эпизод стал тревожно низким (-56). На Арракисе, где вода ценится дороже золота, а спайс правит судьбами, Пол учился балансировать между видениями и реальностью, между мечтами о свободе и жестокой борьбой за выживание. Планета учила его, что истинная сила заключается не только в умениях и знаниях, но и в умении видеть то, что скрыто от глаз.\n",
        "\n",
        "\n",
        "### 3. Фримены и их предводитель с n_dreaming_steps: 1, n_planning_steps: 10\n",
        "\n",
        "По мере того, как средний возврат и возврат за эпизод растут -121.96233 и -12 соответственно (в сравнении в предыдущим запуском), в результате увеличения n_planning_steps, модель становится подобной Стилгару, опытному лидеру фрименов. Ее стратегия позволяет ей справляться с трудностями, находить оптимальные решения и в результате чего она демонстрирует значительные успехи... Но, увы, переменчивая природа планеты иногда все еще чинит препятствия.\n",
        "\n",
        "### 4. Видения Алии в пустыне с n_dreaming_steps: 3, n_planning_steps: 1\n",
        "\n",
        "Увеличение n_dreaming_steps до 3 позволило модели лучше улавливать возможности и вероятности, подобно видениям Алии Атрейдес, но с n_planning_steps, равным 1, модель не всегда могла воплотить пророчества в реальность. Это отражалось на результатах: средний возврат составил -138.01267, а возврат за эпизод -79. Алия, обладая силой и мудростью не по возрасту, часто оказывалась обузой для самой себя, так как её видения не всегда могли компенсировать недостаток опыта и стратегического планирования, что показало модели, что одни только видения не гарант успеха.\n",
        "\n",
        "### 5. Гости с Салусы Секундус с n_dreaming_steps: 3, n_planning_steps: 5\n",
        "\n",
        "В данном запуске модель произвела впечатление, аналогичное эффекту, который производили Сардаукары в мире. Средний возврат (-134.04933) демонстрировал ее внушительный потенциал. Но вот возврат за эпизод (-51) не вызывал у Пола и Фрименов такого же ужаса, как у всех остальных подданых императора. В итоге, несмотря на впечатляющий потенциал модели в данном запуске, она оказалась на стороне проигравших.\n",
        "\n",
        "## Общий вывод\n",
        "\n",
        "Проведенный анализ различных комбинаций гиперпараметров n_dreaming_steps и n_planning_steps позволяет сделать следующие выводы:\n",
        "\n",
        "Мы установили, что увеличение значения n_planning_steps способствует улучшению среднего возврата модели. Это свидетельствует о том, что эффективное стратегическое планирование играет ключевую роль в успешной адаптации модели к условиям планеты.\n",
        "\n",
        "Однако при использовании слишком высоких значений n_planning_steps наблюдается снижение возврата за эпизод, что указывает на необходимость баланса между планированием и эффективной реализацией стратегии. Иначе никакие Фриманы не помогут.\n",
        "\n",
        "Увеличение значения n_dreaming_steps также может способствовать улучшению среднего возврата модели, позволяя ей лучше распознавать возможности и вероятности. Однако необходимо учитывать, что слишком высокие значения этого параметра могут привести к потере фокуса и недостаточной концентрации на планировании стратегии (собственно, что происходило в предыдущих работах, при высоких показателях эпсилона).\n",
        "\n",
        "Таким образом, оптимальный выбор гиперпараметров зависит от конкретных условий задачи и требует баланса между способностью модели к стратегическому планированию и ее способностью адаптироваться к изменяющимся условиям. Будь как Пол, адаптируйся и выживай!\n",
        "\n",
        "P.S.: Так же очень заметно, что модели нужно больше времени для обучения в стохастической среде(ну в нашем случае это не прям стохастичность, это так, ерунда), поэтому и результаты разительно отличаются от результатов, которые были показаны в оригинальной среде."
      ],
      "metadata": {
        "id": "Z3C0yvg6ngt2"
      }
    },
    {
      "cell_type": "code",
      "source": [
        "from google.colab import drive\n",
        "drive.mount('/content/drive')\n"
      ],
      "metadata": {
        "colab": {
          "base_uri": "https://localhost:8080/"
        },
        "id": "jNYCxz4VoDpd",
        "outputId": "049e9a4b-e61f-4db3-f477-28aacc44c757"
      },
      "execution_count": 2,
      "outputs": [
        {
          "output_type": "stream",
          "name": "stdout",
          "text": [
            "Mounted at /content/drive\n"
          ]
        }
      ]
    },
    {
      "cell_type": "code",
      "source": [
        "from IPython.display import Image\n"
      ],
      "metadata": {
        "id": "0yrBl4TtrMFQ"
      },
      "execution_count": 5,
      "outputs": []
    },
    {
      "cell_type": "code",
      "source": [
        "fname = '/content/drive/MyDrive/Игры.gif'\n",
        "Image(open(fname, 'rb').read())  # local\n"
      ],
      "metadata": {
        "colab": {
          "base_uri": "https://localhost:8080/",
          "height": 321
        },
        "id": "clcUlM0prHHk",
        "outputId": "bd53fc68-7c35-4506-c92b-71209ab55411"
      },
      "execution_count": 6,
      "outputs": [
        {
          "output_type": "execute_result",
          "data": {
            "image/png": "[encoded data removed]",
            "text/plain": [
              "<IPython.core.display.Image object>"
            ]
          },
          "metadata": {},
          "execution_count": 6
        }
      ]
    },
    {
      "cell_type": "markdown",
      "source": [
        "P.S.: В процессе работы над этой домашкой ни один Шаи'хулуд не пострадал.\n",
        "По какому-то закону Мерфи всю дорогу у меня ломался пайп, решить эту проблему так и не удалось, но в целом это не повлияло на логирование показателей и работу моделей."
      ],
      "metadata": {
        "id": "rD5g3GFY1zbh"
      }
    }
  ]
}